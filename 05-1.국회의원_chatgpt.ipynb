{
 "cells": [
  {
   "cell_type": "markdown",
   "id": "923c441a-371a-4878-9a4e-a29adc07e85c",
   "metadata": {},
   "source": [
    "https://www.assembly.go.kr/portal/cnts/cntsCont/dataA.do?cntsDivCd=NAAS&menuNo=600137\n",
    "* 국회의원 300명의 상세 정보를 웹스크래핑 하는 source code를 작성해 주세요\n",
    "* 국회의원의 상세정보는 '이름','정당','생년월일','나이','당선횟수','선거구','소속위원회','이미지','사무실 전화','사무실 호실','의원 홈페이지','개별 홈페이지','이메일','보좌관','선임비서관','비서관','의원실 안내' 입니다. "
   ]
  },
  {
   "cell_type": "code",
   "execution_count": 7,
   "id": "9ebe4cd4-054d-40d6-9898-b7a096dd33b2",
   "metadata": {},
   "outputs": [
    {
     "name": "stdout",
     "output_type": "stream",
     "text": [
      "Bad Request.<br/><br/><br/>\n",
      "[]\n",
      "[]\n"
     ]
    }
   ],
   "source": [
    "import requests\n",
    "from bs4 import BeautifulSoup\n",
    "import csv\n",
    "\n",
    "# 국회의원 목록 페이지 URL\n",
    "url = 'https://www.assembly.go.kr/portal/cnts/cntsCont/dataA.do?cntsDivCd=NAAS&menuNo=600137'\n",
    "\n",
    "# 페이지 요청 및 파싱\n",
    "response = requests.get(url)\n",
    "soup = BeautifulSoup(response.text, 'html.parser')\n",
    "print(soup)\n",
    "\n",
    "\n",
    "# 국회의원 상세 페이지 URL을 추출\n",
    "members = soup.select('div.memberna_list dl dt a')\n",
    "print(members) \n",
    "\n",
    "base_url = 'https://www.assembly.go.kr'\n",
    "member_urls = [base_url + member['href'] for member in members]\n",
    "print(member_urls)\n",
    "\n",
    "# 각 국회의원 상세 정보 추출\n",
    "# member_data = []\n",
    "\n",
    "# for member_url in member_urls:\n",
    "#     response = requests.get(member_url)\n",
    "#     soup = BeautifulSoup(response.text, 'html.parser')\n",
    "\n",
    "#     name = soup.select_one('h2.name').text.strip()\n",
    "#     party = soup.select_one('li.party').text.split(\":\")[1].strip()\n",
    "#     birthdate = soup.select_one('li.birth').text.split(\":\")[1].strip()\n",
    "#     age = soup.select_one('li.age').text.split(\":\")[1].strip()\n",
    "#     elections_won = soup.select_one('li.election').text.split(\":\")[1].strip()\n",
    "#     constituency = soup.select_one('li.constituency').text.split(\":\")[1].strip()\n",
    "#     committee = soup.select_one('li.committee').text.split(\":\")[1].strip()\n",
    "#     image = soup.select_one('div.photo img')['src']\n",
    "#     office_phone = soup.select_one('li.phone').text.split(\":\")[1].strip()\n",
    "#     office_room = soup.select_one('li.room').text.split(\":\")[1].strip()\n",
    "#     member_homepage = soup.select_one('li.homepage a')['href'] if soup.select_one('li.homepage a') else \"\"\n",
    "#     personal_homepage = soup.select_one('li.personal_homepage a')['href'] if soup.select_one('li.personal_homepage a') else \"\"\n",
    "#     email = soup.select_one('li.email').text.split(\":\")[1].strip()\n",
    "#     assistant = soup.select_one('li.assistant').text.split(\":\")[1].strip()\n",
    "#     senior_secretary = soup.select_one('li.senior_secretary').text.split(\":\")[1].strip()\n",
    "#     secretary = soup.select_one('li.secretary').text.split(\":\")[1].strip()\n",
    "#     office_info = soup.select_one('li.office_info').text.split(\":\")[1].strip()\n",
    "\n",
    "#     member_data.append({\n",
    "#         'name': name,\n",
    "#         'party': party,\n",
    "#         'birthdate': birthdate,\n",
    "#         'age': age,\n",
    "#         'elections_won': elections_won,\n",
    "#         'constituency': constituency,\n",
    "#         'committee': committee,\n",
    "#         'image': image,\n",
    "#         'office_phone': office_phone,\n",
    "#         'office_room': office_room,\n",
    "#         'member_homepage': member_homepage,\n",
    "#         'personal_homepage': personal_homepage,\n",
    "#         'email': email,\n",
    "#         'assistant': assistant,\n",
    "#         'senior_secretary': senior_secretary,\n",
    "#         'secretary': secretary,\n",
    "#         'office_info': office_info\n",
    "#     })\n",
    "\n",
    "# # 결과를 CSV 파일로 저장\n",
    "# with open('assembly_members.csv', 'w', newline='', encoding='utf-8') as file:\n",
    "#     fieldnames = ['name', 'party', 'birthdate', 'age', 'elections_won', 'constituency', 'committee', 'image', 'office_phone', 'office_room', 'member_homepage', 'personal_homepage', 'email', 'assistant', 'senior_secretary', 'secretary', 'office_info']\n",
    "#     writer = csv.DictWriter(file, fieldnames=fieldnames)\n",
    "#     writer.writeheader()\n",
    "#     writer.writerows(member_data)\n",
    "\n",
    "# # 결과 출력 (선택사항)\n",
    "# for data in member_data:\n",
    "#     print(data)\n"
   ]
  },
  {
   "cell_type": "code",
   "execution_count": null,
   "id": "3f69c603-61ff-4ef3-bf8a-56324291fed4",
   "metadata": {},
   "outputs": [],
   "source": []
  }
 ],
 "metadata": {
  "kernelspec": {
   "display_name": "Python 3 (ipykernel)",
   "language": "python",
   "name": "python3"
  },
  "language_info": {
   "codemirror_mode": {
    "name": "ipython",
    "version": 3
   },
   "file_extension": ".py",
   "mimetype": "text/x-python",
   "name": "python",
   "nbconvert_exporter": "python",
   "pygments_lexer": "ipython3",
   "version": "3.12.4"
  }
 },
 "nbformat": 4,
 "nbformat_minor": 5
}
