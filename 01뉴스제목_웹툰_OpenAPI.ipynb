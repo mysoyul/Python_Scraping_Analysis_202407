{
 "cells": [
  {
   "cell_type": "markdown",
   "id": "eb0bfa44",
   "metadata": {},
   "source": [
    "## 1. 뉴스제목 가져오기\n",
    "* user-agent 요청헤더를 반드시 설정해야 한다."
   ]
  },
  {
   "cell_type": "code",
   "execution_count": 1,
   "id": "f0d27781",
   "metadata": {},
   "outputs": [
    {
     "name": "stdout",
     "output_type": "stream",
     "text": [
      "Name: requests\n",
      "Version: 2.32.2\n",
      "Summary: Python HTTP for Humans.\n",
      "Home-page: https://requests.readthedocs.io\n",
      "Author: Kenneth Reitz\n",
      "Author-email: me@kennethreitz.org\n",
      "License: Apache-2.0\n",
      "Location: C:\\Users\\vega2\\anaconda3\\Lib\\site-packages\n",
      "Requires: certifi, charset-normalizer, idna, urllib3\n",
      "Required-by: anaconda-catalogs, anaconda-client, anaconda-cloud-auth, anaconda-project, conda, conda-build, conda-repo-cli, conda_package_streaming, cookiecutter, datashader, intake, jupyterlab_server, panel, requests-file, requests-toolbelt, Sphinx, streamlit, tldextract\n"
     ]
    }
   ],
   "source": [
    "!pip show requests"
   ]
  },
  {
   "cell_type": "code",
   "execution_count": 2,
   "id": "f7798ea8",
   "metadata": {},
   "outputs": [
    {
     "name": "stdout",
     "output_type": "stream",
     "text": [
      "Name: beautifulsoup4\n",
      "Version: 4.12.3\n",
      "Summary: Screen-scraping library\n",
      "Home-page: \n",
      "Author: \n",
      "Author-email: Leonard Richardson <leonardr@segfault.org>\n",
      "License: MIT License\n",
      "Location: C:\\Users\\vega2\\anaconda3\\Lib\\site-packages\n",
      "Requires: soupsieve\n",
      "Required-by: conda-build, nbconvert\n"
     ]
    }
   ],
   "source": [
    "!pip show beautifulsoup4"
   ]
  },
  {
   "cell_type": "code",
   "execution_count": 3,
   "id": "bf80a429",
   "metadata": {},
   "outputs": [],
   "source": [
    "import requests\n",
    "import bs4\n",
    "from bs4 import BeautifulSoup"
   ]
  },
  {
   "cell_type": "code",
   "execution_count": 4,
   "id": "9788d6ac",
   "metadata": {},
   "outputs": [
    {
     "name": "stdout",
     "output_type": "stream",
     "text": [
      "request ver 2.32.2\n",
      "beautifulsoup 4.12.3\n"
     ]
    }
   ],
   "source": [
    "print(f'request ver {requests.__version__}' )\n",
    "print('beautifulsoup {}'.format(bs4.__version__))"
   ]
  },
  {
   "cell_type": "markdown",
   "id": "ccb91def-cde3-4aeb-b0e5-2e7233500333",
   "metadata": {},
   "source": [
    "### 1. 뉴스 제목 추출하기"
   ]
  },
  {
   "cell_type": "code",
   "execution_count": 1,
   "id": "94c12fd6",
   "metadata": {},
   "outputs": [
    {
     "name": "stdout",
     "output_type": "stream",
     "text": [
      "https://news.naver.com/section/105\n",
      "<class 'requests.models.Response'>\n",
      "200\n",
      "44\n",
      "<class 'bs4.element.ResultSet'>\n"
     ]
    }
   ],
   "source": [
    "import requests\n",
    "import bs4\n",
    "from bs4 import BeautifulSoup\n",
    "\n",
    "\n",
    "# IT/과학 뉴스\n",
    "req_param = {\n",
    "    'sid': 105\n",
    "}\n",
    "url = 'https://news.naver.com/section/{sid}'.format(**req_param)\n",
    "print(url)\n",
    "# 요청 헤더 설정 : 브라우저 정보\n",
    "req_header = {\n",
    "    'user-agent': 'Mozilla/5.0 (Windows NT 10.0; Win64; x64) AppleWebKit/537.36 (KHTML, like Gecko) Chrome/104.0.0.0 Safari/537.36'\n",
    "}\n",
    "res = requests.get(url, headers=req_header)\n",
    "print(type(res))\n",
    "print(res.status_code)\n",
    "if res.ok:\n",
    "    html = res.text #소스보기 텍스트\n",
    "    soup = BeautifulSoup(html, 'html.parser')\n",
    "    # <div class=\"sa_text\">\n",
    "    # atag_list = soup.select(\"div.sa_text a[href*='https://n.news.naver.com/mnews/article']\")\n",
    "    atag_list = soup.select(\"div.sa_text a.sa_text_title\")\n",
    "    print(len(atag_list))\n",
    "    print(type(atag_list))\n",
    "    for atag in atag_list:\n",
    "        # print(atag)\n",
    "        title = atag.text\n",
    "        link = atag['href']\n",
    "        # print(f'{title}')\n",
    "        # print(f'기사링크 = {link}')"
   ]
  },
  {
   "cell_type": "code",
   "execution_count": 37,
   "id": "4461b9cc",
   "metadata": {},
   "outputs": [],
   "source": [
    "section_dict = {100:'정치',101:'경제',102:'사회',103:'생활/문화',104:'세계',105:'IT/과학'}"
   ]
  },
  {
   "cell_type": "markdown",
   "id": "45640860-a449-4285-90d7-5f300292b461",
   "metadata": {},
   "source": [
    "### 1.1 뉴스제목 추출하는 함수 선언하기"
   ]
  },
  {
   "cell_type": "code",
   "execution_count": 64,
   "id": "9f2e4ef8",
   "metadata": {},
   "outputs": [],
   "source": [
    "import requests\n",
    "from bs4 import BeautifulSoup\n",
    "\n",
    "def print_news(sid, section):    \n",
    "    # 요청 Parameter\n",
    "    req_param = {\n",
    "        'sid': sid\n",
    "    }\n",
    "    url = 'https://news.naver.com/section/{sid}'.format(**req_param)\n",
    "    \n",
    "    print(f'======> {url} {section} 뉴스 <======')\n",
    "    \n",
    "    # 요청 헤더 설정 : 브라우저 정보\n",
    "    req_header = {\n",
    "        'user-agent': 'Mozilla/5.0 (Windows NT 10.0; Win64; x64) AppleWebKit/537.36 (KHTML, like Gecko) Chrome/104.0.0.0 Safari/537.36'\n",
    "    }\n",
    "\n",
    "    res = requests.get(url, headers=req_header)   \n",
    "    if res.ok:\n",
    "        soup = BeautifulSoup(res.text, 'html.parser')\n",
    "        # <div class=\"sa_text\">\n",
    "        # atag_list = soup.select(\"div.sa_text a[href*='https://n.news.naver.com/mnews/article']\")\n",
    "        atag_list = soup.select(\"div.sa_text a.sa_text_title\")\n",
    "        print(len(atag_list))\n",
    "        \n",
    "        for atag in atag_list:\n",
    "            title = atag.text\n",
    "            link = atag['href']\n",
    "            # print(f'{title}')\n",
    "            # print(f'기사링크 = {link}')\n",
    "    else:\n",
    "        print(f'Error Code = {res.status_code}') "
   ]
  },
  {
   "cell_type": "code",
   "execution_count": 65,
   "id": "858952c6",
   "metadata": {},
   "outputs": [
    {
     "name": "stdout",
     "output_type": "stream",
     "text": [
      "======> https://news.naver.com/section/104 세계 뉴스 <======\n",
      "45\n"
     ]
    }
   ],
   "source": [
    "print_news(104,section_dict[104])"
   ]
  },
  {
   "cell_type": "markdown",
   "id": "323196dc",
   "metadata": {},
   "source": [
    "### 2. Image 다운로드\n",
    "* referer 요청 헤더를 반드시 설정해야 한다."
   ]
  },
  {
   "cell_type": "code",
   "execution_count": 47,
   "id": "c72d6cb1",
   "metadata": {},
   "outputs": [
    {
     "name": "stdout",
     "output_type": "stream",
     "text": [
      "writing to 20220804112251_d97bd1e1b38f0cd022e4e3639d2926b3_IMAG01_1.jpg(299,319 bytes)\n",
      "writing to 20220804112251_d97bd1e1b38f0cd022e4e3639d2926b3_IMAG01_2.jpg(163,333 bytes)\n",
      "writing to 20220804112251_d97bd1e1b38f0cd022e4e3639d2926b3_IMAG01_3.jpg(182,530 bytes)\n"
     ]
    }
   ],
   "source": [
    "import requests\n",
    "import os\n",
    "\n",
    "req_header = {\n",
    "    'referer':'https://comic.naver.com/webtoon/detail?titleId=798173&no=5&amp;weekday=thu'\n",
    "}\n",
    "img_urls = [\n",
    "    'https://image-comic.pstatic.net/webtoon/798173/5/20220804112251_d97bd1e1b38f0cd022e4e3639d2926b3_IMAG01_1.jpg',\n",
    "    'https://image-comic.pstatic.net/webtoon/798173/5/20220804112251_d97bd1e1b38f0cd022e4e3639d2926b3_IMAG01_2.jpg',\n",
    "    'https://image-comic.pstatic.net/webtoon/798173/5/20220804112251_d97bd1e1b38f0cd022e4e3639d2926b3_IMAG01_3.jpg'\n",
    "]\n",
    "\n",
    "for img_url in img_urls:\n",
    "    res = requests.get(img_url, headers=req_header)\n",
    "    if res.ok:        \n",
    "        img_data = res.content\n",
    "        file_name = os.path.basename(img_url)\n",
    "        # binday data를 file에 write하기\n",
    "        with open(file_name,'wb') as file:\n",
    "            print(f'writing to {file_name}({len(img_data):,} bytes)')\n",
    "            file.write(img_data)\n",
    "    else:\n",
    "        print(f'Error Code = {res.status_code}')         "
   ]
  },
  {
   "cell_type": "markdown",
   "id": "e8b00a04",
   "metadata": {},
   "source": [
    "* 현재 요청된 페이지의 image 모두 다운로드 해보기"
   ]
  },
  {
   "cell_type": "code",
   "execution_count": 55,
   "id": "b30f7bf5",
   "metadata": {},
   "outputs": [
    {
     "name": "stdout",
     "output_type": "stream",
     "text": [
      "18\n",
      "writing to 20240226100634_548bfa8f14799d53d45b5f12df1b289e_IMAG01_18.jpg(128,897 bytes)\n",
      "writing to 20240226100634_548bfa8f14799d53d45b5f12df1b289e_IMAG01_18.jpg(143,194 bytes)\n",
      "writing to 20240226100634_548bfa8f14799d53d45b5f12df1b289e_IMAG01_18.jpg(101,900 bytes)\n",
      "writing to 20240226100634_548bfa8f14799d53d45b5f12df1b289e_IMAG01_18.jpg(112,007 bytes)\n",
      "writing to 20240226100634_548bfa8f14799d53d45b5f12df1b289e_IMAG01_18.jpg(190,876 bytes)\n",
      "writing to 20240226100634_548bfa8f14799d53d45b5f12df1b289e_IMAG01_18.jpg(134,590 bytes)\n",
      "writing to 20240226100634_548bfa8f14799d53d45b5f12df1b289e_IMAG01_18.jpg(132,910 bytes)\n",
      "writing to 20240226100634_548bfa8f14799d53d45b5f12df1b289e_IMAG01_18.jpg(174,434 bytes)\n",
      "writing to 20240226100634_548bfa8f14799d53d45b5f12df1b289e_IMAG01_18.jpg(88,576 bytes)\n",
      "writing to 20240226100634_548bfa8f14799d53d45b5f12df1b289e_IMAG01_18.jpg(177,240 bytes)\n",
      "writing to 20240226100634_548bfa8f14799d53d45b5f12df1b289e_IMAG01_18.jpg(95,130 bytes)\n",
      "writing to 20240226100634_548bfa8f14799d53d45b5f12df1b289e_IMAG01_18.jpg(109,718 bytes)\n",
      "writing to 20240226100634_548bfa8f14799d53d45b5f12df1b289e_IMAG01_18.jpg(144,476 bytes)\n",
      "writing to 20240226100634_548bfa8f14799d53d45b5f12df1b289e_IMAG01_18.jpg(127,739 bytes)\n",
      "writing to 20240226100634_548bfa8f14799d53d45b5f12df1b289e_IMAG01_18.jpg(143,133 bytes)\n",
      "writing to 20240226100634_548bfa8f14799d53d45b5f12df1b289e_IMAG01_18.jpg(159,328 bytes)\n",
      "writing to 20240226100634_548bfa8f14799d53d45b5f12df1b289e_IMAG01_18.jpg(139,300 bytes)\n",
      "writing to 20240226100634_548bfa8f14799d53d45b5f12df1b289e_IMAG01_18.jpg(54,967 bytes)\n"
     ]
    }
   ],
   "source": [
    "import requests\n",
    "import os\n",
    "\n",
    "url = 'https://comic.naver.com/webtoon/detail?titleId=817945&no=37&week=mon'\n",
    "req_header = {\n",
    "    'referer': url\n",
    "}\n",
    "res = requests.get(url)\n",
    "if res.ok: #200\n",
    "    # xx.jpg 파일명 목록 가져오기\n",
    "    soup = BeautifulSoup(res.text, 'html.parser')\n",
    "    img_tags = soup.select(\"img[src*='IMAG01']\")\n",
    "    print(len(img_tags))\n",
    "    \n",
    "    img_url_list = list()\n",
    "    for img_tag in img_tags:\n",
    "        img_url_list.append(img_tag['src'])\n",
    "\n",
    "    imgdir_name = 'img'\n",
    "    # img 디렉토리가 없으면 생성\n",
    "    if not os.path.isdir(imgdir_name):\n",
    "        os.mkdir(imgdir_name)\n",
    "\n",
    "    for img_url in img_url_list:\n",
    "        res = requests.get(img_url, headers=req_header)\n",
    "        if res.ok:        \n",
    "            img_data = res.content\n",
    "            dir_name = os.path.join(imgdir_name, os.path.basename(img_url))\n",
    "            # binday data를 file에 write하기\n",
    "            with open(dir_name,'wb') as file:\n",
    "                print(f'writing to {file_name}({len(img_data):,} bytes)')\n",
    "                file.write(img_data)\n",
    "        else:\n",
    "            print(f'Error Code = {res.status_code}')         \n",
    "else:\n",
    "    print(res.status_code)"
   ]
  },
  {
   "cell_type": "markdown",
   "id": "2ac9f5f9",
   "metadata": {},
   "source": [
    "### 3. 파일 업로드 하기\n",
    "* http://httpbin.org/post 업로드 요청을 할 수 있는 url"
   ]
  },
  {
   "cell_type": "code",
   "execution_count": 69,
   "id": "04da4790",
   "metadata": {},
   "outputs": [
    {
     "name": "stdout",
     "output_type": "stream",
     "text": [
      "200\n"
     ]
    }
   ],
   "source": [
    "import requests\n",
    "\n",
    "upload_files = {\n",
    "    'img1': open('img/f1.jpg','rb'),\n",
    "    'img2': open('img/f2.jpg','rb'),\n",
    "}\n",
    "url = 'http://httpbin.org/post'\n",
    "res = requests.post(url, files=upload_files)\n",
    "print(res.status_code)\n",
    "#print(res.json()['files']['img1'])\n"
   ]
  },
  {
   "cell_type": "markdown",
   "id": "7ad65f12",
   "metadata": {},
   "source": [
    "### 4. 단축 URL 생성하는 Open API 사용하기\n",
    "* urllib 사용"
   ]
  },
  {
   "cell_type": "code",
   "execution_count": 75,
   "id": "abbb0ebf",
   "metadata": {},
   "outputs": [
    {
     "name": "stdout",
     "output_type": "stream",
     "text": [
      "{\"result\":{\"url\":\"https://me2.do/FzQgoRUF\",\"hash\":\"FzQgoRUF\",\"orgUrl\":\"https://drive.google.com/drive/u/0/folders/1V_DK7Px5w_niEKLlWhDr_GPgIYHG3Du-\"},\"message\":\"ok\",\"code\":\"200\"}\n"
     ]
    }
   ],
   "source": [
    "import os\n",
    "import sys\n",
    "import urllib.request\n",
    "\n",
    "client_id = \"znsjDaiYA9oWe8bfnHuY\" # 개발자센터에서 발급받은 Client ID 값\n",
    "client_secret = \"jOkwsPPgZl\" # 개발자센터에서 발급받은 Client Secret 값\n",
    "\n",
    "encText = urllib.parse.quote(\"https://drive.google.com/drive/u/0/folders/1V_DK7Px5w_niEKLlWhDr_GPgIYHG3Du-\")\n",
    "data = \"url=\" + encText\n",
    "url = \"https://openapi.naver.com/v1/util/shorturl\"\n",
    "\n",
    "request = urllib.request.Request(url)\n",
    "request.add_header(\"X-Naver-Client-Id\",client_id)\n",
    "request.add_header(\"X-Naver-Client-Secret\",client_secret)\n",
    "\n",
    "response = urllib.request.urlopen(request, data=data.encode(\"utf-8\"))\n",
    "rescode = response.getcode()\n",
    "if(rescode==200):\n",
    "    response_body = response.read()\n",
    "    print(response_body.decode('utf-8'))\n",
    "else:\n",
    "    print(\"Error Code:\" + rescode)\n"
   ]
  },
  {
   "cell_type": "markdown",
   "id": "b7d984a6",
   "metadata": {},
   "source": [
    "* requests를 사용하는 코드로 변경하기\n",
    "* [requests docs](https://requests.readthedocs.io/en/latest/user/quickstart/)"
   ]
  },
  {
   "cell_type": "code",
   "execution_count": 76,
   "id": "727b427b",
   "metadata": {
    "scrolled": true
   },
   "outputs": [
    {
     "name": "stdout",
     "output_type": "stream",
     "text": [
      "{'result': {'url': 'https://me2.do/FzQgoRUF', 'hash': 'FzQgoRUF', 'orgUrl': 'https://drive.google.com/drive/u/0/folders/1V_DK7Px5w_niEKLlWhDr_GPgIYHG3Du-'}, 'message': 'ok', 'code': '200'}\n",
      "축약된 Url = https://me2.do/FzQgoRUF\n"
     ]
    }
   ],
   "source": [
    "import requests\n",
    "\n",
    "client_id = \"znsjDaiYA9oWe8bfnHuY\" # 개발자센터에서 발급받은 Client ID 값\n",
    "client_secret = \"jOkwsPPgZl\" # 개발자센터에서 발급받은 Client Secret 값\n",
    "\n",
    "origin_url = \"https://drive.google.com/drive/u/0/folders/1V_DK7Px5w_niEKLlWhDr_GPgIYHG3Du-\"\n",
    "\n",
    "req_param = {\n",
    "    'url': origin_url\n",
    "}    \n",
    "req_header = {\n",
    "    \"X-Naver-Client-Id\": client_id,\n",
    "    \"X-Naver-Client-Secret\": client_secret\n",
    "}\n",
    "service_url = \"https://openapi.naver.com/v1/util/shorturl\"\n",
    "res = requests.post(service_url, data=req_param, headers=req_header)\n",
    "if res.ok:\n",
    "    print(res.json())\n",
    "    short_url = res.json()['result']['url']\n",
    "    print(f'축약된 Url = {short_url}')\n",
    "else:\n",
    "    print(f'Error Code = {res.status_code}') "
   ]
  },
  {
   "cell_type": "markdown",
   "id": "d5e1179a",
   "metadata": {},
   "source": [
    "### 5. 블로그 검색하기"
   ]
  },
  {
   "cell_type": "code",
   "execution_count": 84,
   "id": "877d0c7f",
   "metadata": {},
   "outputs": [
    {
     "name": "stdout",
     "output_type": "stream",
     "text": [
      "[['[AI] Meta <b>Llama 3</b> 설치 및 Open WebUI 실행까지 (Windows)', '삼런이의 만물상', \"Open WebUI 정상 동작 확인 다시 메인페이지로 돌아온 후 상단의 'Select a model' 선택 후 '<b>llama3</b>:8b'를 선택합니다. 이제 <b>llama 3</b> 8B 언어 모델과 대화를 할 수 있게 되었습니다. 테스트 대화를... \", 'https://megastorage.tistory.com/', 'https://megastorage.tistory.com/507'], ['라마3 설치방법, 정말 쉽다!<b>LLAMA3</b> + Ollama+ 동영상 포함', '초튜터 X 오씨네학교', '라마3, <b>LLAMA3</b>가 무엇인가? 여기에 대해서는 이전에 포스팅을 참고해 주세요. 이 글에서는 라마3을... 이중에서 우리의 관심사인 라마3 <b>LLAMA3</b>를 선택해 줍니디ㅏ. 뒤에서 다시 말씀을 드리겠지만, 라마3는... ', 'blog.naver.com/ocmarketing', 'https://blog.naver.com/ocmarketing/223424810886'], ['라마3(<b>Llama3</b>)의 뛰어난 성능과 새로운 AI시대', 'Knowledge Base', '모델에서 외국어에 대한 성능 향상 혹은 더 적은 리소스 사용 등의 성공을 했으면 하는 바람입니다. 참고자료 [1] <b>Llama3</b> 웹사이트 [2] AI타임스, 국내 AI 기업들 &quot;라마 3, 성능 좋아졌지만 한국어는 아직 부족&quot;', 'blog.naver.com/knowbase', 'https://blog.naver.com/knowbase/223442488299'], ['<b>llama3</b>와 GPT-4 성능 비교 및 추천', '삶의질 IT/Tech/AI', '<b>llama3</b>의 자유도가 시사하는 바는, 접근성이 올라간 만큼 빠른 발전이 가능하다는 것을 의미하기도 합니다. <b>Llama 3</b> GPT-4 보안 이슈 직접 관리하기에 비교적 안전 OpenAI 정책에 의존 가격 무료 입력: $30... ', 'blog.naver.com/quality_of_life_', 'https://blog.naver.com/quality_of_life_/223454823754'], ['라마(<b>Llama</b>) <b>3</b> 계열 한국어 모델 블라썸 Bllossom 8B... ', 'another blog for seen', 'Bllossom 모델 서울과학기술대학교 임경태 교수 연구진들이 공개한 <b>Llama 3</b> 모델을 100GB에 달하는... 무려 3만개가 넘는 한국어 어휘확장 70B 모델 <b>Llama3</b>대비 대략 25% 더 긴 길이의 한국어 Context... ', 'blog.naver.com/se2n', 'https://blog.naver.com/se2n/223443729640'], ['오늘 드디어 <b>LLaMA 3</b>.1이 공개되었다고 합니다....', 'JSI LAB의 security_copilot 블로그', '오늘 드디어 <b>LLaMA 3</b>.1이 공개되었다고 합니다.... 버전 3.1으로 부르는거 보니, 몇 달전 공개한 <b>LLaMA 3</b>으로 공개되었던 8B 및 70B 모델들의 성능을 더 끌어올림과 동시에, 모두가 기다리던 405B... ', 'blog.naver.com/security_copilot', 'https://blog.naver.com/security_copilot/223524126695'], ['GPT-4o mini 및 <b>Llama 3</b>.1 업데이트 요약', 'B2B SaaS 리뷰 플랫폼, 리뷰인사이트', '<b>Llama 3</b>.1 405B 모델 다운로드 받기 <b>Llama3</b>를 내 PC에서 무료로 사용하는 방법 (GPT4All &amp; RAG) Llama에 집중하는 이유는 오픈소스이기 때문입니다. 그만큼 AI 모델 사용하고 변형하는데 자유롭습니다.... ', 'blog.naver.com/reviewit1st', 'https://blog.naver.com/reviewit1st/223525018464'], ['[LLM] <b>Llama3</b>에 RAG 적용하여 On-Device Multi-Turn 챗봇... ', '아기사자 일대기', 'https://huggingface.co/MLP-KTLim/<b>llama</b>-<b>3</b>-Korean-Bllossom-8B 서울 과학기술대학교에서 Fine Tune 시킨 <b>Llama3</b> 모델이고, Bllossom이라는 이름을 가지고 있습니다. 본 모델을 Ollama로 로드하여 아까 순전 <b>Llama3</b> 8b와 한번... ', 'blog.naver.com/112fkdldjs', 'https://blog.naver.com/112fkdldjs/223524280555'], ['<b>Llama 3</b> 등장 - 대형 언어 모델 (LLM) 지형 변화', '생각더미', 'https://ai.meta.com/blog/meta-<b>llama</b>-<b>3</b>/ https://github.com/meta-llama/<b>llama3</b> LMSYS라는 leaderboard에서 <b>llama 3</b>의 성능을 보면 5위 정도 하고 있다. 위에 거는 overall 성능을 본 것이고, English 성능을 보면... ', 'blog.naver.com/chase_eagles', 'https://blog.naver.com/chase_eagles/223421743897'], ['Groq 오픈 소스 <b>Llama</b> AI 모델 함수 호출에서 GPT-4o와... ', '인공지능 읽어주는 남자', '<b>Llama 3</b> Groq Tool Use Models (사진 출처 : Groq) 인공지능 읽어주는 남자입니다. AI 하드웨어 스타트 업인... 조성할 것으로 보입니다. AI 시대에 가장 인간답게.. #Groq #<b>Llama3</b>Groq70BToolUse #허깅페이스 #HuggingFace', 'blog.naver.com/john1210', 'https://blog.naver.com/john1210/223522693722'], ['ollama 를 이용해서 평생 무료로  <b>llama3</b> 챗봇 쉽게 만드는... ', '하늘바다 경제적 자유를 향한 여행', 'ollama 라는 docker image 를 자동으로 다운받아서 설치해 주는 도구를 이용해서 <b>llama3</b> 8B 모델을 다운로드 받고 내 컴퓨터에서 자유롭게 무료로 평생 이용할 수 있는 <b>llama3</b> 챗봇을 쉽게 만드는 방법을... ', 'blog.naver.com/mimoofdm', 'https://blog.naver.com/mimoofdm/223444489116'], ['[Lama3] 로컬에서 LLM 간단 실행 (ollama + <b>llama3</b> 사용법)', '일본어는 작성이 불가능합니다.', '<b>Llama3</b> 를 로컬에서 간단히 사용할 수 있는 Tool 은 3가지가 있습니다. 3가지 모두 다 Max, Linux... Open WebUI : Docker 로 실행하여 web 브라우저에서 UI로 실행 할 수 있는 Tool LM Studio : llama.cpp... ', 'blog.naver.com/wizardry0629', 'https://blog.naver.com/wizardry0629/223514859599'], ['[LLAMA 따라잡기] <b>Llama 3</b> 리뷰', 'NLP 바다', '[ LLAMA 따라잡기 ] LLaMA 1 논문 리뷰 LLaMA 2 논문 리뷰 <b>LLaMA 3</b> 리뷰 https://github.com/meta-llama/<b>llama3</b>/tree/main LLAMA 2 (2023.07)가 나온지 9개월 만에 <b>LLAMA 3</b> (2024.04)가 나왔습니다. 성능이 대폭... ', 'blog.naver.com/gypsi12', 'https://blog.naver.com/gypsi12/223464842983'], ['Meta, 동급 최고의 오픈소스 모델 <b>Llama</b>-<b>3</b> 출시', 'AX구현을 위한 AI, RPA 전문기업 코세나(kosena)', '- <b>Llama</b>-<b>3</b> 소개 : https://ai.meta.com/blog/meta-<b>llama</b>-<b>3</b> - <b>Llama</b>-<b>3</b> 다운로드 : https://llama.meta.com/<b>llama3</b> - Meta AI 소개 : https://about.fb.com/news/2024/04/meta-ai-assistant-built-with-<b>llama</b>-<b>3</b> - <b>Llama</b>-<b>3</b> GitHub : https://github.com... ', 'blog.naver.com/kosena21', 'https://blog.naver.com/kosena21/223420194542'], ['메타 라마3(<b>LLaMa3</b>) 오픈소스 공개, 허깅페이스 테스트 방법', '부루퉁의 AI 정복하기', \"메타 라마3(<b>LLaMa3</b>) 오픈소스 공개, 허깅페이스 테스트 방법 안녕하세요~ 부루퉁입니다. 메타가... 여기서 하단에 있는 'meta-llama'를 클릭하고 active model을 클릭합니다. 모델이 변경된 것을 확인하고... \", 'blog.naver.com/ldlquddnr', 'https://blog.naver.com/ldlquddnr/223420663893'], ['윈도우에서 Meta <b>Llama 3</b> 기본 설치 및 사용 방법... ', '세종에 사는 세드릭입니다', 'py) 이후 기회가 된다면 <b>Llama3</b> 파인튜닝(Fine-tuning)에 대한 포스팅을 작성해보려고 한다. 참고: https://news.hada.io/topic?id=14388 https://github.com/meta-llama/<b>llama3</b>', 'blog.naver.com/mdsd12', 'https://blog.naver.com/mdsd12/223494648439'], ['<b>LLaMA3</b> 란? 종류와 성능, 실행법과 꿀팁까지', '삶의질 IT/Tech/AI', '3. 실행법 <b>LLaMA3</b> 실행법 중 가장 쉬운 방법은 지난 시간에 설명한 ollama를 사용하는 것입니다. ollama는 오픈 소스 LLM(무료 LLM)을 다운로드해 내 PC에서 사용하도록 도와주는 플랫폼입니다. ollama 설치 및... ', 'blog.naver.com/quality_of_life_', 'https://blog.naver.com/quality_of_life_/223426068166'], ['<b>Llama3</b> 로컬 pc 파이썬에서 실행(windows 11, rtx 4070... ', '일상 기억 블로그', '2) 그렇다면, meta 공식페이지를 사용해보면 어떨까 GitHub - meta-llama/<b>llama3</b>: The official Meta <b>Llama 3</b> GitHub site 이 페이지에 보이는 quick start대로 따라했지만, 안되는 것이 많다. 일단 windows... ', 'blog.naver.com/miter37', 'https://blog.naver.com/miter37/223430058513'], ['FSDP(Fully Shared Data Parallel) : <b>Llama3</b> 70B 모델을... ', 'another blog for seen', '메타 라마3 70B 4비트 양자화 모델 기반 프롬프트 튜닝 방법과 결과(Prompt Tuning in <b>Llama3</b> 70B 4bit Quantization Model) 4. 라마(<b>Llama</b>) <b>3</b> 계열 한국어 모델 블라썸 Bllossom 8B - 한국어 질의응답 파인튜닝... ', 'blog.naver.com/se2n', 'https://blog.naver.com/se2n/223451837382'], ['Meta AI <b>Llama 3</b> 출시와 무료 사용 방법!', 'B2B SaaS 리뷰 플랫폼, 리뷰인사이트', 'Meta AI_<b>LLama3</b> 2024년 4월 18일 Meta에서 새로운 오픈소스 LLM 모델이며 무료인 <b>Llama 3</b> 버전을 신규로 출시하였습니다. Llama 모델이 기본적으로 OpenAI의 ChatGPT나 Anthropic의 Claude처럼 LLM 모델이지만... ', 'blog.naver.com/reviewit1st', 'https://blog.naver.com/reviewit1st/223424366197'], ['<b>LLAMA 3</b> Opensource 발표 - Ft. Hugging Face', '히치하이커크리스님의블로그', 'https://ai.meta.com/blog/meta-<b>llama</b>-<b>3</b>/ 메타에서 라마 3를 오픈소스로 공개했어요~~ AI 붐을 이끌고 가는 회사중에 하나, 메타.. 얼마전 제가 극찬을 마지 않고, 요즘 최애 동료로 지내고 있는 Cluade Sonet보다도... ', 'blog.naver.com/uijimom', 'https://blog.naver.com/uijimom/223423166118'], ['Hugging Face의 <b>LLaMA3</b> 실행해 보기', 'ZeR0 기술 블로그', '<b>LLaMA3</b> 저장소에 대한 접근 신청 우선 Hugging Face에서 <b>LLaMA3</b>를 찾아보자. 아래 화면처럼 회원가입 후, 화면 상단 메뉴 중에서 [Models]를 선택하고 [meta-llama/Meta-<b>Llama</b>-<b>3</b>-8B]를 선택한다. 이 모델은... ', 'blog.naver.com/beyond-zero', 'https://blog.naver.com/beyond-zero/223430205876'], ['이 귀여운 라마(<b>llama3</b>)가 성능이 좋다고?', 'GENERATIVE EDITION', '라마(<b>llama3</b>) 정책적으로 계속 OPEN 시킬것 같다! 많이 쓰게 하고 자신들(메타, Meta)의 SNS 플랫폼을... 결국은 많은 시간을 사용하게 하는 것이 SNS의 목적 = 맞춤형광고 = 이윤창출 &quot;<b>Llama 3</b>, 검열 완화로 표현의... ', 'blog.naver.com/genedition', 'https://blog.naver.com/genedition/223424673368'], ['개의 파라미터를 갖춘 가장 강력한 AI 모델 <b>Llama 3</b>.1 출시', '인공지능 읽어주는 남자', '<b>Llama 3</b>.1 (사진 출처 : Meta) 인공지능 읽어주는 남자입니다. 메타가 오픈 소스 Llama의 대규모 언어... AI는 우리 곁에 성큼 다가와 있습니다. AI 시대에 가장 인간답게.. #메타 #Meta #<b>Llama3</b>.1 #오픈소스LLM', 'blog.naver.com/john1210', 'https://blog.naver.com/john1210/223523996417'], ['Meta, <b>Llama 3</b>.1 공개', '디지털 세상으로..', '<b>Llama 3</b>.1는 컨텍스트 길이를 128K로 확장하고 8개 언어를 지원하며 최초의 프론티어급 오픈 소스 AI 모델인 405B를 포함 최고의 비공개 소스 모델에 필적하는 탁월한 유연성, 제어 및 최신 기능을 갖춘 Llama... ', 'blog.naver.com/cyberpass', 'https://blog.naver.com/cyberpass/223523607816'], ['사과밭이 되고 있다.(Jenkins, <b>Llama3</b>)', '살다가 하는 것들', 'M1 16G에서 <b>Llama3</b> 실행되고 이다. 한국어 질문도 인식을 잘한다. 다만 대답을 영어로 한다. 한국어 학습시킨 버전도 있다는데 테스트 해봐야겠다. 새로운 산업혁명인가, 신기한 것이 많이들 만들어... ', 'blog.naver.com/joycat38', 'https://blog.naver.com/joycat38/223433733834'], ['메타(Meta)의 ‘라마(<b>LLaMA</b>) <b>3</b>’ 모델 - Data is all you need', '4차산업 다이어리 :: 기업 및 산업에 관한 글', '지난주 메타(Meta)는 오픈소스 대형언어모델(LLM) ‘라마(<b>LLaMA</b>) <b>3</b>’ 시리즈 중에서 중형과 소형 버전 2개를 우선 공개했습니다. 모델의 파라미터(매개변수)는 각각 80억 개와 700억 개로, GPT-4 및 Gemini, Claude 3와... ', 'blog.naver.com/shakey7', 'https://blog.naver.com/shakey7/223423085003'], ['메타  <b>Llama 3</b> 대공개 오픈소스 LLM 8B, 70B', 'Fruitful Bough', 'https://ai.meta.com/blog/meta-<b>llama</b>-<b>3</b>/ #<b>Llama3</b> #MetaAI #언어모델 #AI기술 #트랜스포머 #기계학습 #데이터과학 #NLP #자연어처리 #AI혁신 #모델성능 #AI개발 #딥러닝 #인공지능 #최신기술 #벤치마크 #실세계적용... ', 'blog.naver.com/spider55', 'https://blog.naver.com/spider55/223420316297'], ['and private access to GPT-3.5,Claude3,<b>Llama3</b>and Mixtral', 'LIGHTHOUSE', '[betanews] DuckDuckGo AI Chat gives anonymous and private access to GPT-3.5, Claude 3, <b>Llama 3</b> and Mixtral By Sofia Elizabella Wyciślik-Wilson For all of the excitement currently... ', 'blog.naver.com/sunggonk', 'https://blog.naver.com/sunggonk/223472432002'], ['체험가능, 15조 이상의 토큰으로 훈련된 <b>Llama3</b>의 성능', '워나워드 언어정원', \"<b>Llama 3</b> 그로크 Groq로 간편하게 체험하는 라마 3 그로크 Groq로 간편하게 체험하는 라마 3 (<b>Llama 3</b>)의... 페이지 상단에서 '<b>Llama3</b>-8B' 모델과 '70B' 모델 중 원하는 모델을 선택하고, 선택한 모델을 사용해... \", 'blog.naver.com/imkyungwon', 'https://blog.naver.com/imkyungwon/223429584171'], ['[AI인사이트]  <b>Llama</b>-<b>3</b> 다음 세대를 위한 메타 AI의 진화... ', '챗GPT 생성형AI 강사 김재연', '<b>Llama</b>-<b>3</b> 다음 세대를 위한 메타 AI의 진화 챗GPT 생성형 AI 강사 김재연 최근 메타에서 발표한 라마3 기술의 진화에 대해 이야기하려고 합니다. <b>Llama</b>-<b>3</b>의 발전은 데이터 처리 능력의 증가, 반응 속도와 정확성의... ', 'blog.naver.com/recycle1313', 'https://blog.naver.com/recycle1313/223430813838'], ['방법과 결과(Prompt Tuning in <b>Llama3</b> 70B 4bit Quantization Model)', 'another blog for seen', 'Latte is Horse 라떼의 친척 라마3 (<b>Llama3</b>)가 공개되고 다음날 바로 8B 모델에 대해 파인튜닝한... &quot;&quot;&quot; &quot;&quot;&quot; 허깅페이스에서 sh2orc/ko-<b>llama</b>-<b>3</b>-8b를 통해 모델과 토크나이저를 생성하는 코드는... ', 'blog.naver.com/se2n', 'https://blog.naver.com/se2n/223426139335'], ['Meta 새로운 AI 언어모델 <b>Llama3</b>(라마3) 공개', 'AI 저널리스트 알파고', 'Meta에서 새로운 AI 언어모델 <b>Llama 3</b> 모델을 드디어 공개했습니다 Meta AI에서 라마3 모델을... 접근성이 더 좋아보이네요 Meta에서 선보인 <b>Llama3</b> 기대가 됩니다 오늘도 포스팅 잘 읽어주셔서 감사합니다', 'blog.naver.com/accherjm', 'https://blog.naver.com/accherjm/223420430522'], ['라마3-그록 <b>llama3</b> Groq 70B모델 API코딩 --(3)', 'UCA코딩아카데미', 'LPU 추론칩으로 유명한 그록 groq이 라마3 <b>llama3</b> 70B를 서비스한다. 테슬라 일런 머스크의 AI... model=&quot;<b>llama3</b>-70b-8192&quot; 확인한다. &quot;&quot; &quot;&quot; &quot;&quot; &quot;&quot; &quot; &quot; &quot;&quot; &quot;&quot; &quot;&quot; &quot; &quot; &quot;&quot; 원래 스트림 모드부터 만들어주는데... ', 'blog.naver.com/ulsancoding', 'https://blog.naver.com/ulsancoding/223426907729'], ['오픈소스 LLM &quot;<b>Llama3</b>&quot;의 성능에 대해', 'ZeR0 기술 블로그', '<b>Llama3</b>는 Claude Sonnet, Mistral Medium, GPT-3.5보다 높은 평가를 받았습니다. ⊙ <b>Llama3</b> 사용법 <b>Llama3</b>를... GitHub: https://github.com/meta-llama/<b>llama3</b> 설치방법 설명에 따라 download.sh스크립트를 실행하고 URL을 여기에... ', 'blog.naver.com/beyond-zero', 'https://blog.naver.com/beyond-zero/223506215718'], ['가장 강력한 LLM opensource, <b>Llama3</b>', '이준재의 잡글', 'GPT-4 -Turbo를 능가하는 성능을 보이지 않을지 생각됩니다. 물론 그전에 GPT-5가 나온다는 이야기가 들려옵니다만 그것은 성능을 보기전까지 모른다고 생각합니다. https://llama.meta.com/<b>llama3</b>/', 'blog.naver.com/qwopqwop200', 'https://blog.naver.com/qwopqwop200/223423683175'], ['Meta <b>Llama</b> 라마 <b>3</b> 오픈 소스 공개 2', '인공지능 읽어주는 남자', '결합하여 훈련 효율을 Llama(라마) 2보다 3배 향상시켰다고 설명했습니다. 다음 포스팅에서 이어나가겠습니다. AI 시대에 가장 인간답게.. #<b>Llama3</b> #라마 3 #Meta #메타 #페이스북 #인스타그램 #메타AI챗봇', 'blog.naver.com/john1210', 'https://blog.naver.com/john1210/223421614273'], ['<b>LLaMA 3</b>로 감성분석(Sentiment Analysis)을 해보자 (2/5)... ', '엔클의 빅데이터 이야기', '이렇게 해서 <b>LLaMA 3</b> 감성분석에 필요한 라이브러리와 설치 방법에 대해 모두 살펴보았습니다. 다음 포스트에서는 HuggingFace에서 <b>LLaMA 3</b> 감성분석 개발에 필요한 API 신청하는 방법과... ', 'blog.naver.com/encle_inc', 'https://blog.naver.com/encle_inc/223478225135'], ['메타플랫폼스 AI엔진 라마 성능( <b>LLaMa 3</b> )', '미주e해', '메타 AI : LLaMa 1,2,3 변천사 출처 : MADE VISUAL META는 4월 최신 <b>LLaMa 3</b> AI 엔진을 출시했는데, 이전 1,2 버전과 매개변수 수를 기준으로 비교한 것 입니다. AI에 대한 마크 저커버그의 접근 방식은 AI업계와... ', 'blog.naver.com/whathk', 'https://blog.naver.com/whathk/223425833895'], ['[AI] <b>llama3</b> 와 streamlit을 이용해서 영문컬럼명을... ', '나의 작은 습관', '아래에 ollama에 <b>llama3</b>를 적용했다면.. 이걸 프로그램밍해서 적용하는 것을 좀 고민해 볼때다. 그래서.. 저자는 영문 컬럼명을 한글명으로 변경하는 것을 좀 작성해봤다. 화면 UI는 streamlit을... ', 'blog.naver.com/dmzone75', 'https://blog.naver.com/dmzone75/223447368205'], ['메타(Meta)가 각 잡고 만든 라마(<b>Llama 3</b>)란? 라마 3 사용법', '인생은 AI', '다만 <b>Llama 3</b> 70B의 경우, 수학과 대학원 수준 객관식 문제 해결 능력에서는 제미니 Pro보다 다소... 만약 설치한 라마 3 모델을 삭제하고 싶으면 &quot;ollama rm <b>llama3</b>:설치한 버전 이름&quot;을 입력하면 라마 3... ', 'blog.naver.com/mz_zzantech', 'https://blog.naver.com/mz_zzantech/223427155328'], ['메타, <b>Llama 3</b> 발표 - 최고의 오픈 AI 모델 중 하나라고 주장', '테크권(TechKwon) 샘의 인공지능 수업', '정확히는 <b>Llama 3</b> 시리즈의 두 가지 모델인 <b>Llama 3</b> 8B와 <b>Llama 3</b> 70B 모델이 공개되었죠. 이번 모델들은 Llama 2와 비교했을 때 성능 면에서 엄청난 도약이라고 해요. 메타는 <b>Llama 3</b> 8B와 <b>Llama 3</b> 70B가 각각의... ', 'blog.naver.com/tech_kwon', 'https://blog.naver.com/tech_kwon/223420794510'], ['[<b>LLAMA</b> 따라잡기] <b>Llama</b> 2 논문 리뷰', 'NLP 바다', '[ LLAMA 따라잡기 ] LLaMA 1 논문 리뷰 LLaMA 2 논문 리뷰 <b>LLaMA 3</b> 리뷰 LLAMA - 2 논문은 전체 77페이지에 달하는 매우 긴 논문이고 Coclusion까지만 하더라도 36페이지에 달합니다. 사진... ', 'blog.naver.com/gypsi12', 'https://blog.naver.com/gypsi12/223460191718'], ['Google Colab에서 <b>Llama3</b>를 test 240419', 'EddyLab', '<b>Llama3</b>의 모델 「<b>Llama 3</b>」에서는 현재, 다음의 4 종류의 모델이 제공되고 있습니다. ・meta-llama/Meta-<b>Llama</b>-<b>3</b>-8B ・meta-llama/Meta-<b>Llama</b>-<b>3</b>-8B-Instruct ・meta-llama/Meta-<b>Llama</b>-<b>3</b>-70B ・meta-llama... ', 'blog.naver.com/carrier00', 'https://blog.naver.com/carrier00/223420473504'], ['META <b>Llama3</b> 국내 사용법 (ChatGPT4를 능가하는 AI 챗봇)', '좋아하는 것들 모음', '바로 META <b>Llama3</b>로 갈아탈 궁리를 하는 중이다. META Llama 공식 페이지에 들어가면 아직 우리나라에... 사용이 가능하다는 사실!! <b>LLaMA 3</b> 70B로 갈아타서 284 tokens/s의 처리 속도를 경험해보자!!! GroqChat', 'blog.naver.com/ssonyongyong', 'https://blog.naver.com/ssonyongyong/223424335618'], ['[ML] <b>Llama 3</b>.1: The <b>Llama 3</b> Herd of Models (PR-270)', '조원호의 행복공간', 'Meta <b>Llama 3</b>.1 405B, 70B 및 8B 출시 -&gt; 다국어 및 128K 컨텍스트 및 도구 사용 + 에이전트 포함! : GPT4o 및 Claude Sonnet 3.5를 능가하는 최고의 오픈 LLM ? - Meta <b>Llama 3</b>.1 은 8B, 70B, 405B의 3가지... ', 'blog.naver.com/horajjan', 'https://blog.naver.com/horajjan/223524499577'], ['라마3 70B (<b>llama</b> 70B) API 코딩 --(1)', 'UCA코딩아카데미', 'py #라마3 #<b>llama3</b> #meta.ai #70b #api #코딩 #텔레그램 #telegram #ollama #openAI #sionic #아이브 #안유진 #울산파이썬 #울산python #울산코딩아카데미 #UCA수퍼컴아카데미 #xionic-ko-<b>llama</b>-<b>3</b>-70b #sionic', 'blog.naver.com/ulsancoding', 'https://blog.naver.com/ulsancoding/223423131887'], [\"Meta의 새 AI모델 '<b>Llama3</b>'와 Intuit AI 전략\", 'ZeR0 기술 블로그', '◎ 새로운 AI모델 - <b>Llama3</b> 메타는 2024년 7월 23일 최신 오픈소스 언어 모델 &quot;<b>Llama 3</b>&quot;를 출시할 예정입니다. 이 모델에는 아래와 같은 특징이 있습니다. 4050억개 파라미터 갯수 멀티모달 기능(이미지 및... ', 'blog.naver.com/beyond-zero', 'https://blog.naver.com/beyond-zero/223517780184'], ['온디바이스 <b>llama3</b>가 들려준 이야기', 'trueYears의 블로그', '옛날 옛적에, 무성한 초록 숲과 반짝이는 강으로 둘러싸인 작은 마을에 릴리라는 이름의 어린 소녀가 살고 있었습니다. 그녀는 모든 생명체를 사랑하는 마음을... ', 'blog.naver.com/trueyears', 'https://blog.naver.com/trueyears/223512887623'], ['[빅데이터과] 한국폴리텍 서울강서캠퍼스 Meta <b>Llama3</b> 특강... ', '한국폴리텍대학 서울강서캠퍼스', 'ChatGPT, LLAMA 등이 있습니다. 주요 진행 내용은 &quot;FineTuning&quot;과 &quot;<b>Llama3</b> &amp; Langserve&quot; 실습이었습니다. 이번 Meta <b>Llama3</b> 특강을 통해, LLM의 개념부터 LangServe 실습까지 거대 언어 모델에 대한 이해를... ', 'blog.naver.com/kangseokopo', 'https://blog.naver.com/kangseokopo/223467244409'], ['<b>LLaMA 3</b>로 감성분석(Sentiment Analysis)을 해보자 (3/5)... ', '엔클의 빅데이터 이야기', '지난 포스팅에서는 <b>LLaMA 3</b> 감성 분석을 위한 필수 라이브러리와 설치 방법에 대해 알아보았는데요. 이번 포스팅에서는 <b>LLaMA 3</b>를 본격적으로 사용하기 위해 Huggingface에서 LLaMA... ', 'blog.naver.com/encle_inc', 'https://blog.naver.com/encle_inc/223489440863'], ['Meta <b>Llama</b> 라마 <b>3</b> 오픈 소스 공개 1', '인공지능 읽어주는 남자', '메타 <b>Llama 3</b> (사진 출처 : 벤처비트) 인공지능 읽어주는 남자입니다. 메타가 오픈 소스... AI 시대에 가장 인간답게.. #<b>Llama3</b> #라마3 #Meta #메타 #페이스북 #인스타그램 #메타챗봇', 'blog.naver.com/john1210', 'https://blog.naver.com/john1210/223421583404'], ['메타 <b>llama 3</b> 공개, 이 분야는 흐름 진짜 빠릅니다', '다시 낙관? 비관? 썰 푸는 블로그', '<b>llama 3</b>(라마3), mistral 8x22B 및 wizardlm-2 8x22B, c4ai command 시리즈가 최근 등장했습니다. 진짜로... 특히 영어권에서 <b>llama3</b> 8b 크기 모델이 호평을 받고 있습니다. #4월은잔인한달 #라마3 #<b>llama3</b>... ', 'blog.naver.com/unkarma', 'https://blog.naver.com/unkarma/223420373628'], ['Meta, ‘라마3(<b>Llama 3</b>)’ 오픈소스 공개!', 'Numerous IT 이야기', '19일 메타가 자사의 최신 대규모 언어 모델(LLM) ‘라마3(<b>Llama 3</b>)’을 오픈소스로 공개했습니다. 공개된 라마3은 사전훈련과 미세조정을 마친 80억 개와 700억 개 매개변수 모델 2가지입니다. 업체에 따르면... ', 'blog.naver.com/psb_0902', 'https://blog.naver.com/psb_0902/223428942779'], ['<b>Llama3</b> (라마3)', '빠른 IT 세상', '<b>Llama 3</b> 데이터 셋 전 모델인 Llama2 가 2T개 토큰을 사용해 학습시켰다면 <b>Llama3</b> 는 15T 이상의 토큰을 사용해서 Pre-Training 하였고 전 모델 대비 7배 더크고 4배 더 많은 코드를 포함하였습니다.... ', 'blog.naver.com/fastit00', 'https://blog.naver.com/fastit00/223424266228'], ['Meta AI의 Llama 2 대 <b>Llama 3</b>: 차세대 언어 모델 비교 분석', '글로벌 트렌드와 사는 이야기들', '이 글에서는 Llama 2와 3 모델의 주요 특징과 성능을 비교하고, 언어 모델 개발의 역사적 배경과 각... #MetaAI #Llama2 #<b>Llama3</b> #언어모델 #AI #인공지능 #기술혁신 #NLP #벤치마크테스트 #데이터과학 #AI개발... ', 'blog.naver.com/gamsa14', 'https://blog.naver.com/gamsa14/223427555096'], ['[LLM] <b>Llama3</b>에 open webui를 적용해서 사용하기... ', '살다가 하는 것들', '무료버전인 ChatGPT 3.5 버전 만을 사용하다가 유료버전으로 넘어갈까 고민중이었다. 예전보다... 정보를 제공한다는 것을 알았다. 신기하네. 터미널 vs OpenWebUi Llama 가독성 비교 #<b>Llama3</b> #OpenWebUi', 'blog.naver.com/joycat38', 'https://blog.naver.com/joycat38/223436046344'], ['머스트 칭찬 받은 Meta <b>Llama 3</b>?', 'GENERATIVE EDITION', \"Meta의 <b>Llama 3</b> AI가 주목받다&quot; 최근 엘론 머스크가 Meta의 새로운 인공지능 모델인 '<b>Llama 3</b>'에 대해... #ElonMusk #Meta #<b>Llama3</b>AI #인공지능 #언어처리 #상호작용 #사용자친화적 #학습능력 #인터페이스 #기술발전... \", 'blog.naver.com/genedition', 'https://blog.naver.com/genedition/223421158925'], ['[ML] Welcome <b>Llama 3</b> - Meta’s new open LLM', '조원호의 행복공간', '8B 모델은 GPT-3.5보다 약간 나은 수준, 70B는 성능이 거의 GPT-4와 Claude 3 Opus에 육박 블로그: https://huggingface.co/blog/<b>llama3</b> 모델: https://huggingface.co/models?other=<b>llama</b>-<b>3</b> 채팅 데모: https... ', 'blog.naver.com/horajjan', 'https://blog.naver.com/horajjan/223420252722'], ['메타 라마3(<b>Llama3</b>) 8B 한글 요약 모델 파인튜닝 구현과... ', 'another blog for seen', '라마3(<b>Llama3</b>) 모델이 공개되었습니다. 우선 현재 LLM 모델로는 8B와 70B 모델이 공개되었습니다.... 메타 <b>Llama</b>-<b>3</b>-8B-Instruct 모델을 페이지에서 신청을 하셔야 합니다. 신청하고 일정 시간이 지나면... ', 'blog.naver.com/se2n', 'https://blog.naver.com/se2n/223421081812'], ['[<b>LLAMA3</b>] 메타의 <b>LLAMA 3</b>, 무료 사용 가능!!', '코딩버스', \"메타의 최신 오픈 소스 <b>LLAMA 3</b> 모델은 AI 업계를 놀라게 하고 있습니다. <b>LLAMA 3</b>은 800억 개와 700억 개의 매개변수를 가진 최고의 성능을 자랑하는데, 이 모델은 어떤 면에서 다른 EI 거인인 '오픈 AI... \", 'blog.naver.com/ritardo76', 'https://blog.naver.com/ritardo76/223455191613'], ['Meta의 <b>Llama 3</b>', '디지털 세상으로..', '대화 능력, 훨씬 더 긴 맥락 창, 전반적으로 더 강력한 기능 등 새로운 기능을 갖춘 여러 모델을 출시할 예정임 <b>Llama 3</b> 학습이 완료되면 상세한 연구 논문도 게재할 예정임 출처 https://llama.meta.com/<b>llama3</b>/', 'blog.naver.com/cyberpass', 'https://blog.naver.com/cyberpass/223423363436'], ['메타 라마3.1(<b>Llama 3</b>.1) 공개로 보는 오픈소스 AI 미래', '신동형의 ICT 미래 읽기', 'AI(Claude3)가 작성한 「메타 <b>Llama 3</b>.1 공개로 보는 오픈소스 AI 미래 」보고서(2024.07.24.) 글쓴이 Claude 3(by Anthropic), 프롬프팅·편집 신동형(*********.****@*****.***) #제가쓴거아닙니다. #AI가작성했습니다. 1. 서론... ', 'blog.naver.com/jack0604', 'https://blog.naver.com/jack0604/223523414984'], ['<b>llama3</b> 성능 미췬..', '엉드루 블로그', '<b>llama3</b>에 테슬라 주식에 대한 분석을 시켜봤다. &quot;&quot; &quot;&quot; &quot; &quot; &quot;&quot; 답변이 이렇다. . . . . . . 옛날에는 어떠했었냐면..(llama2 버전) 아예 못써먹을 수준이라 그냥 쓸생각도 안했었다. 그러나 이제는 사용을... ', 'blog.naver.com/htk1019', 'https://blog.naver.com/htk1019/223423317200'], ['[<b>LLAMA</b> 따라잡기] <b>Llama</b> 1 논문 리뷰', 'NLP 바다', '[ LLAMA 따라잡기 ] LLaMA 1 논문 리뷰 LLaMA 2 논문 리뷰 <b>LLaMA 3</b> 리뷰 <b>LLaMA 3</b>가 저번 달에 나온 이후로, 오픈 소스 LLM도 충분히 경쟁력이 있다는 느낌을 받았습니다 정말 많이 쓰이는... ', 'blog.naver.com/gypsi12', 'https://blog.naver.com/gypsi12/223458658463'], ['Meta <b>Llama 3</b>', '개발 공부', 'https://llama.meta.com/<b>llama3</b>/ Android SDK를 이용해 안드로이드 앱 개발 하듯이 LLM 모델을 이용해서 응용 서비스 개발하는 형태로 패턴이 잡혀가는 것 같다. 해볼만한 시도 질문을 학습 시켜 핵심 요약... ', 'blog.naver.com/dev_study', 'https://blog.naver.com/dev_study/223493763115'], ['<b>Llama3</b> model study', 'hjgu9님의 블로그', '<b>llama3</b> 의 전반적 소개 “<b>Llama 3</b> comes in two sizes — 8B and 70B parameters — in pre-trained and instruction tuned variants.” <b>Llama3</b> 모델 컬렉션 중 텍스트 기반의 두 모델(“text-generation”)이 출시되었다.... ', 'blog.naver.com/hjgu9', 'https://blog.naver.com/hjgu9/223464726232'], ['Meta <b>Llama 3</b>.1의 새로운 기능과 사용법', 'ZeR0 기술 블로그', 'co/spaces/ysharma/Chat_with_Meta_<b>llama3</b>_1_8b ■ <b>Llama 3</b>.1 양자화 Meta는 정밀도 저하를 최소화한 <b>Llama 3</b>.1 405B의 공식 FP8 양자화 버전을 만들었습니다. 이를 위해 FP8 양자화는 FFN게이트 및... ', 'blog.naver.com/beyond-zero', 'https://blog.naver.com/beyond-zero/223524774631'], ['Meta의 新 AI 모델 <b>Llama 3</b> 405B 7월 23일 출시!', 'AI 좋았쓰', 'Meta의 新 AI 모델 <b>Llama 3</b> 405B 7월 23일 출시! Meta가 7월 23일 새로운 AI 모델 <b>Llama 3</b> 405B를 공개할... 한줄요약 기존 보다 성능이 대폭개선된 메타 Meta의 <b>LLama3</b> 405B가 오픈소스로 무료로 풀리게 됨 오늘도 AI... ', 'blog.naver.com/ailovechat', 'https://blog.naver.com/ailovechat/223512532707'], ['메타 <b>Llama 3</b> &amp; Meta AI', '세상의 특별한 변화에 주목하는 블로그', '- 2024년 4월 18일 메타에서 <b>Llama3</b>와 이를 적용한 Meta AI를 공개했습니다. 라마3는 최첨단 오픈 소스... 모델 Llama 2 <b>Llama 3</b> GPT-4 Turbo Claude 2.1 Gemini 1.5 Pro 컨텍스트 윈도우 (토큰) 4,096 8,192 128,000 200,000 1M... ', 'blog.naver.com/economic_moat', 'https://blog.naver.com/economic_moat/223420295528'], ['Meta의 <b>llama3</b> 파이썬에서 사용하기', '톨창고', '80억 파라미터를 갖는 <b>llama3</b> 8B를 내 PC에서 사용할 수있다.(외부 연결 없이) ollama.com에서 ollama 설치파일 다운로드 ollama pull <b>llama3</b> 실행하여 <b>llama3</b> 모델 다운로드(용량이 커서... ', 'blog.naver.com/ajkun', 'https://blog.naver.com/ajkun/223434041197'], ['Meta의 <b>LLAMA</b> 모델 1, 2, <b>3</b>', 'IT 따라잡기', 'Meta의 최신 LLM (<b>Llama 3</b>)에 대한 정보 O 개요 <b>Llama 3</b>는 Meta가 개발한 최신 버전의 대규모 언어 모델(LLM)입니다. 이 모델은 Llama 2 아키텍처를 기반으로 하여 개선되었으며, 두 가지 크기(8억 매개변수와... ', 'blog.naver.com/qwer5218', 'https://blog.naver.com/qwer5218/223458156702'], ['<b>llama3</b>', 'hskschool', '[1][2][3][4] Citations: [1] https://modulabs.co.kr/blog/<b>llama</b>-<b>3</b>-intro/ [2] https://ko.wikipedia.org/wiki/<b>LLaMA</b> [<b>3</b>] https://about.fb.com/ko/news/2023/09/llama-ecosystem/ [4] https://namu.wiki/w/LLaMA [5] https://llama.meta.com/<b>llama3</b>/', 'blog.naver.com/keyston', 'https://blog.naver.com/keyston/223460734796'], ['<b>Llama3</b> 를 colab에서 돌려보자! - 나만의 chatGPT를 가져보자', '슈니발렌', 'Meta에서 <b>Llama3</b>가 공개되었어요. 저는 별로 궁금하지 않지만 다들 관심이 많길래 저도... &quot; &quot; &gt; 3. 모델을 다운받고 로드합니다. &quot;&quot; &quot;&quot; &quot;&quot; &quot;&quot; &quot;&quot; &quot;&quot; &quot;&quot; &quot;&quot; &quot;&quot; &quot;&quot; &quot;&quot; 음? 요즘 핫한 모델들이 여기 다... ', 'blog.naver.com/chensi', 'https://blog.naver.com/chensi/223430967320'], ['[ML] What makes <b>Llama 3</b> good?', '조원호의 행복공간', '-  : 좋은 Reward Model은 <b>Llama 3</b> 인스트럭트가 이렇게 좋은 게임이 될 수 있었던 비결입니다. : - 사전 학습 데이터 세트의 5%는 30개 언어로 된 비영어/코드 데이터입니다. - 15T 토큰 이후에도 모델... ', 'blog.naver.com/horajjan', 'https://blog.naver.com/horajjan/223421689323'], ['<b>llama3</b> 설치 및 RAG 만드는 방법 나만의 인공지능을 만들자', '하늘바다 경제적 자유를 향한 여행', 'Retrieval Augmented Generation 의 약자예요~ <b>llama 3</b> 한국어 모델이 공개되어서 ChatGPT 에게 한국말로 질문을 하면 답변을 해주듯이 <b>llama3</b> 도 한국어 질문에 정확한 대답을 해주네요. 심지어 유료 서비스인 ChatGPT... ', 'blog.naver.com/mimoofdm', 'https://blog.naver.com/mimoofdm/223443669504'], ['Meta의 <b>LLaMA 3</b>(Large Language Model Meta AI), 8B, 70B... ', 'IT 따라잡기', 'Meta의 <b>LLaMA 3</b>(Large Language Model Meta AI)은 2024년 4월 18일에 공식 출시되었습니다. 이 모델은 두 가지 크기, 즉 80억(8B)과 700억(70B) 매개변수를 가지며, 4000억 매개변수 모델도 현재 개발 중에 있습니다... ', 'blog.naver.com/qwer5218', 'https://blog.naver.com/qwer5218/223458733747'], ['[NVIDIA NEWS] NVIDIA의 기술, Meta <b>Llama3</b> 추론 최적화', 'MDS테크가 운영하는 AI 블로그', '<b>Llama3</b>는 초기 테스트에서 단일 NVIDIA H200 Tensor Core GPU로 약 3,000개의 토큰을 생성할 수 있습니다. · 커뮤니티 모델 고도화 : NVIDIA는 오픈 소스를 통해 AI 투명성을 촉진하고 사용자가 AI... ', 'blog.naver.com/mdstec_nvidia', 'https://blog.naver.com/mdstec_nvidia/223430443223'], ['로컬에서 <b>Llama3</b>-8B 모델 돌려보기 - Ollama', 'KeiStory', '모델준비 먼저 <b>Llama3</b>-8B 모델을 다운 받아야합니다. https://huggingface.co/QuantFactory/Meta-<b>Llama</b>-<b>3</b>-8B-Instruct-GGUF-v2/tree/main QuantFactory/Meta-<b>Llama</b>-<b>3</b>-8B-Instruct-GGUF-v2 at main huggingface.co... ', 'https://keistory.tistory.com/', 'https://keistory.tistory.com/1329'], ['<b>Llama3</b>가 장안의 화제인 이유', '닷커넥터의 지식과 경험의 발자국', '<b>Llama3</b>가 장안의 화제인 이유를 요약하면 다음과 같다. 첫째, 추론을 잘 한다. 즉, 성능이 좋다... 했나봐요 참고 문헌 - Meta AI Blog. (2024, April 26). Meta <b>Llama 3</b> [Blog post]. Retrieved from https://ai.meta.com/blog/meta-<b>llama</b>-<b>3</b>/', 'blog.naver.com/dot_connector', 'https://blog.naver.com/dot_connector/223429166912'], ['&lt;오늘의 작업&gt;<b>llama3</b>가 스스로 생각한 외모', 'trueYears의 블로그', '<b>llama3</b>曰 sleek and futuristic robotic design with a unique Korean touch or 한가닥, flair 매끄럽고 미래지향적인 로봇 디자인을 가지고 있으며, 독특한 한국적인 요소나 개성이 가미되어... ', 'blog.naver.com/trueyears', 'https://blog.naver.com/trueyears/223446381819'], ['<b>Llama3</b> prompt template', 'Deep dive into Kernel', '<b>Llama3</b> 의 Prompt Template에 따른 결과값의 차이가 얼만큼 다른지 테스트... com/docs/model-cards-and-prompt-formats/meta-<b>llama</b>-<b>3</b>/ Meta <b>Llama 3</b> | Model Cards and Prompt formats... ', 'https://sunshout.tistory.com/', 'https://sunshout.tistory.com/2029'], ['<b>Llama 3</b> … 한국어 성능은?? – 웹 개발자 이야기', '웹 개발자 이야기 – 웹 사이트 개발자의 평범한 이야기들입니다.', 'AI <b>Llama 3</b> … 한국어 성능은?? 와~~~ 이제는 뭐 나오면 바로 영상이 나옵니다. ㅎㅎㅎ <b>Llama 3</b> 모델이 공개 되었습니다. 그런데 Llama2 에서 한국어 처리가 거시기 해서 사용을 못했는데요. <b>Llama 3</b>에서는... ', 'https://benant.wordpress.com/', 'https://benant.wordpress.com/2024/04/22/llama-3-%ED%95%9C%EA%B5%AD%EC%96%B4-%EC%84%B1%EB%8A%A5%EC%9D%80/'], ['<b>Llama 3</b> + Groq – 웹 개발자 이야기', '웹 개발자 이야기 – 웹 사이트 개발자의 평범한 이야기들입니다.', 'AI <b>Llama 3</b> + Groq 대박입니다. 이건뭐 … groq에 <b>Llama 3</b>가 적용되는 것은 생각 못했습니다. 와~~ 속도 보이시나요? &gt;= 10 T/s 정도면 로컬에서 챗봇으로 쓸만하다 … 인데요. 이정도면 그냥 리얼타임... ', 'https://benant.wordpress.com/', 'https://benant.wordpress.com/2024/04/26/llama-3-groq/'], ['[GPT기술] <b>Llama</b>2 AI모델을 이용한 검색 기술에 활용하기', 'AgileBus - IT 기술자를 위한 최신 기술 Trends', '<b>Llama</b>-2-13B: 130억 개의 매개변수로 사전 학습 (최소 16GB의 RAM 필요) <b>3</b>. <b>Llama</b>-2-70B: 700억 개의 매개변수로 사전 학습 (32GB의 RAM 필요) 이 모델들은 연구와 상업적인 용도로... ', 'https://couplewith.tistory.com/', 'https://couplewith.tistory.com/555'], ['<b>LLaMa3</b> LoRA를 통해 parameter efficient fine-funing... ', '공대생 도전 일지', '일단 <b>LLaMa3</b> 모델을 받아와야 하는데... 리눅스에서 다운받아와서... https://www.kaggle.com/models/metaresearch/<b>llama</b>-<b>3</b> Meta | <b>Llama 3</b> | Kaggle <b>Llama 3</b> is a collection of pretrained... ', 'https://yoonschallenge.tistory.com/', 'https://yoonschallenge.tistory.com/671'], ['[Python] 메타의 대규모 AI 언어모델 <b>Llama3</b> 설치 및... ', 'Dev Drive', '(정상적으로 설치되면 자동 실행됩니다) <b>llama3</b> Meta <b>Llama 3</b>: The most capable openly available LLM to date ollama.com 라마3에는 현재 70b, 8b 두 가지 모델이 존재합니다. 모델 숫자의 의미는 파라미터 개수로 각... ', 'https://dev-drive.tistory.com/', 'https://dev-drive.tistory.com/40'], ['[<b>Llama3</b>] Ollama와 Llama-Index로 <b>Llama3</b> 쉽게 시작하기... ', '뇌님의 관심사 :: 뇌님의 관심사', '모델 및 명령어 확인: https://ollama.com/library/<b>llama3</b> 2) llama-index 설치 pip install... text) 3) 연속성 있는 프롬프트 설정 및 대화: ChatPromptTemplate from llama_index.llms.... ', 'https://brain-nim.tistory.com/', 'https://brain-nim.tistory.com/141'], ['[Python] LangChain으로 <b>Llama3</b> 언어 모델 구동해보기 [02]', 'Dev Drive', '[Python] 메타의 대규모 AI 언어모델 <b>Llama3</b> 설치 및 사용방법 [01] 메타에서... chat_models import ChatOllama llm = ChatOllama(model=&quot;<b>llama3</b>:latest&quot;) prompt = ChatPromptTemplate.from_messages... ', 'https://dev-drive.tistory.com/', 'https://dev-drive.tistory.com/41'], ['Meta: <b>Llama 3</b> 발표', 'Be Original', \"매개변수 4,050억 개에 달하는 '<b>Llama 3</b>'는 오는 7월 출시할 예정입니다. Meta AI Meta AI Use Meta AI assistant to get things done, create AI-generated images for free, and get answers to any of your questions. Meta AI is built on Meta... \", 'https://yunwoong.tistory.com/', 'https://yunwoong.tistory.com/326'], ['<b>Llama3</b>(라마3) 쉽게 사용해보기 (Feat. 올라마)', '자비스가 필요해', '라마(Llama)를 오픈하며 초거대 AI의 전쟁에 불이 붙고 있습니다. 여기에 MS가 ChatGPT와 독립한 버전인... 여기서 사용해볼 라마는 최근 라마3(<b>Llama3</b>)를 내놓으며, 이제 작은 기업도 ChatGPT 3.5 정도 수준의... ', 'https://needjarvis.tistory.com/', 'https://needjarvis.tistory.com/815'], ['옵시디언에서 <b>Llama3</b>-70b 모델 사용하기', '안피곤 성장블로그', '옵시디언에서 GroqCloud 서비스를 통해 <b>Llama3</b>-70b 모델을 설정하고 사용하는 방법을 소개해... 3. Prompts에서 시스템 프롬프트를 설정합니다. BMO/Prompts 경로에 노트를 생성하고 시스템... ', 'https://anpigon.tistory.com/', 'https://anpigon.tistory.com/462'], ['Meta <b>Llama 3</b> Prompt (프롬프트 예시)', '일상의 끄적거림...', '요새 핫한 <b>Llama3</b>모델에 대한 간단한 Prompt 구조에 대한 설명을 남깁니다. 저같은 경우... 그런데 이 Pormpt가 그대로 <b>Llama3</b>에 적용이 되지는 않더군요.. 그리고 찾아보니 기본적인... ', 'https://gaza.tistory.com/', 'https://gaza.tistory.com/121'], ['<b>Llama3</b> 출시 및 사용법, fine-tuning code :: DataCook', 'DataCook :: DataCook', 'https://ai.meta.com/blog/meta-<b>llama</b>-<b>3</b>/ Introducing Meta <b>Llama 3</b>: The most capable openly available... This evaluation set contains 1,800 ai.meta.com 2024년 04월 19일 새벽에 출시된 <b>Llama3</b>... ', 'https://datacook.tistory.com/', 'https://datacook.tistory.com/127'], ['OLLAMA 라마3(<b>Llama</b>) 로컬 설치방법 | 인터넷없이 무료 AI... ', '최류현의 컴퓨터 정보공간', '기존의 로컬에 <b>Llama3</b> 모델이 설치가 되어있다면 해당 모델은 제거 후에 LM Studio에서만 설치해 주면 용량을 절약할 수 있습니다. AI채팅 메뉴로 들어간 뒤 <b>Llama 3</b> 모델을 다운로드합니다. 모델을... ', 'https://newstroyblog.tistory.com/', 'https://newstroyblog.tistory.com/484'], ['상용 이용도 가능한 차세대 오픈 LLM 「<b>Llama 3</b>」 을 공개', '두우우부', 'Meta <b>Llama 3</b> https://llama.meta.com/<b>llama3</b>/ Meta <b>Llama 3</b> Build the future of AI with Meta <b>Llama 3</b>. Now available with both 8B and 70B pretrained and instruction-tuned versions to support a wide range of applications. llama.meta.com Introducing... ', 'https://doooob.tistory.com/', 'https://doooob.tistory.com/1758'], ['라마3 (<b>Llama 3</b>) 무료', 'Nayha', 'ollama.com 여기 가서 os 별 다운로드 <b>llama3</b> (ollama.com) <b>llama3</b> Meta <b>Llama 3</b>: The most capable openly available LLM to date ollama.com 모델 선택 내 pc는 느리니까 CLI Open the terminal and... ', 'https://nayha.tistory.com/', 'https://nayha.tistory.com/770'], ['로컬에 <b>LLaMA 3</b> 실행하여 사용해 보기', '파란하늘의 지식창고', '&lt;code /&gt; FROM ./<b>llama</b>-<b>3</b>-Korean-Bllossom-8B-Q4_K_M.gguf 이 Modelfile을 사용하여 model을 적당한 이름으로 생성한다 &lt;code /&gt; ollama create <b>llama3</b>-Korean-Bllossom -f Modelfile 해당 모델이 추가된... ', 'https://luvstudy.tistory.com/', 'https://luvstudy.tistory.com/285'], ['설치없이 <b>Llama 3</b>나 Mistral... 챗봇 「Secret Llama」가 등장', '두우우부', '<b>Llama 3</b> 및 Mistral-7B와 같은 오픈 소스 대규모 언어 모델(LLM)을 지원하고 WebGPU를 사용하여 브라우저에서 완벽하게 작동하는 채팅 봇 &quot;Secret Llama&quot;가 공개되었습니다. Secret... ', 'https://doooob.tistory.com/', 'https://doooob.tistory.com/1798'], ['선택 가이드 (ChatGPT, Claude, Gemini, HyperCLOVA, <b>LLaMA</b> 등)', '가디의 tech 스터디', '0 Ultra HCX-003, HCX-DASH-001 <b>Llama 3</b> 8B, 70B, 400+B(training) 파라미터 크기 비공개 (GPT-3의 경우 1750억개였고 GPT-4는 그보다 훨씬 큰 것으로 추정. 오피셜은 아니지만 5,000억~1조개로 추정됨) 비공개... ', 'https://gagadi.tistory.com/', 'https://gagadi.tistory.com/59']]\n"
     ]
    }
   ],
   "source": [
    "import requests\n",
    "import pprint\n",
    "\n",
    "headers = {\n",
    "    'X-Naver-Client-Id': 'znsjDaiYA9oWe8bfnHuY',\n",
    "    'X-Naver-Client-Secret': 'jOkwsPPgZl',\n",
    "}\n",
    "\n",
    "payload = {\n",
    "    'query': 'Llama 3',\n",
    "    'display': 100,\n",
    "    'sort': 'sim'\n",
    "}\n",
    "\n",
    "url = 'https://openapi.naver.com/v1/search/blog.json'\n",
    "\n",
    "res = requests.get(url, params=payload, headers=headers)\n",
    "items_data = res.json()['items']\n",
    "#print(items_data)\n",
    "# [{},{},{}]\n",
    "\n",
    "items_list = list()\n",
    "item_list = []\n",
    "for item in items_data:\n",
    "#     print(item)\n",
    "    item_list.append(item['title'])\n",
    "    item_list.append(item['bloggername'])\n",
    "    item_list.append(item['description'])\n",
    "    item_list.append(item['bloggerlink'])\n",
    "    item_list.append(item['link'])\n",
    "\n",
    "    items_list.append(item_list)\n",
    "    item_list = []\n",
    "\n",
    "print(items_list) #[[],[]]\n",
    "\n",
    "with open('data/nhnblog.txt','w',encoding=\"utf-8\")as file:\n",
    "    for items in items_list:\n",
    "        for item in items:\n",
    "            item = item + '\\n'\n",
    "            file.write(item)\n",
    "        file.write('-'*150+'\\n')"
   ]
  }
 ],
 "metadata": {
  "kernelspec": {
   "display_name": "Python 3 (ipykernel)",
   "language": "python",
   "name": "python3"
  },
  "language_info": {
   "codemirror_mode": {
    "name": "ipython",
    "version": 3
   },
   "file_extension": ".py",
   "mimetype": "text/x-python",
   "name": "python",
   "nbconvert_exporter": "python",
   "pygments_lexer": "ipython3",
   "version": "3.12.4"
  }
 },
 "nbformat": 4,
 "nbformat_minor": 5
}
