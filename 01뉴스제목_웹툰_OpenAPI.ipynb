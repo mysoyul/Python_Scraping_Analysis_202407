{
 "cells": [
  {
   "cell_type": "markdown",
   "id": "eb0bfa44",
   "metadata": {},
   "source": [
    "## 1. 뉴스제목 가져오기\n",
    "* user-agent 요청헤더를 반드시 설정해야 한다."
   ]
  },
  {
   "cell_type": "code",
   "execution_count": 1,
   "id": "f0d27781",
   "metadata": {},
   "outputs": [
    {
     "name": "stdout",
     "output_type": "stream",
     "text": [
      "Name: requests\n",
      "Version: 2.32.2\n",
      "Summary: Python HTTP for Humans.\n",
      "Home-page: https://requests.readthedocs.io\n",
      "Author: Kenneth Reitz\n",
      "Author-email: me@kennethreitz.org\n",
      "License: Apache-2.0\n",
      "Location: C:\\Users\\vega2\\anaconda3\\Lib\\site-packages\n",
      "Requires: certifi, charset-normalizer, idna, urllib3\n",
      "Required-by: anaconda-catalogs, anaconda-client, anaconda-cloud-auth, anaconda-project, conda, conda-build, conda-repo-cli, conda_package_streaming, cookiecutter, datashader, intake, jupyterlab_server, panel, requests-file, requests-toolbelt, Sphinx, streamlit, tldextract\n"
     ]
    }
   ],
   "source": [
    "!pip show requests"
   ]
  },
  {
   "cell_type": "code",
   "execution_count": 2,
   "id": "f7798ea8",
   "metadata": {},
   "outputs": [
    {
     "name": "stdout",
     "output_type": "stream",
     "text": [
      "Name: beautifulsoup4\n",
      "Version: 4.12.3\n",
      "Summary: Screen-scraping library\n",
      "Home-page: \n",
      "Author: \n",
      "Author-email: Leonard Richardson <leonardr@segfault.org>\n",
      "License: MIT License\n",
      "Location: C:\\Users\\vega2\\anaconda3\\Lib\\site-packages\n",
      "Requires: soupsieve\n",
      "Required-by: conda-build, nbconvert\n"
     ]
    }
   ],
   "source": [
    "!pip show beautifulsoup4"
   ]
  },
  {
   "cell_type": "code",
   "execution_count": 1,
   "id": "bf80a429",
   "metadata": {},
   "outputs": [],
   "source": [
    "import requests\n",
    "import bs4\n",
    "from bs4 import BeautifulSoup"
   ]
  },
  {
   "cell_type": "code",
   "execution_count": 2,
   "id": "9788d6ac",
   "metadata": {},
   "outputs": [
    {
     "name": "stdout",
     "output_type": "stream",
     "text": [
      "request ver 2.32.2\n",
      "beautifulsoup 4.12.3\n"
     ]
    }
   ],
   "source": [
    "print(f'request ver {requests.__version__}' )\n",
    "print('beautifulsoup {}'.format(bs4.__version__))"
   ]
  },
  {
   "cell_type": "markdown",
   "id": "ccb91def-cde3-4aeb-b0e5-2e7233500333",
   "metadata": {},
   "source": [
    "### 1. 뉴스 제목 추출하기"
   ]
  },
  {
   "cell_type": "code",
   "execution_count": 3,
   "id": "94c12fd6",
   "metadata": {},
   "outputs": [
    {
     "name": "stdout",
     "output_type": "stream",
     "text": [
      "https://news.naver.com/section/105\n",
      "<class 'requests.models.Response'>\n",
      "200\n",
      "44\n",
      "<class 'bs4.element.ResultSet'>\n"
     ]
    }
   ],
   "source": [
    "import requests\n",
    "import bs4\n",
    "from bs4 import BeautifulSoup\n",
    "\n",
    "\n",
    "# IT/과학 뉴스\n",
    "req_param = {\n",
    "    'sid': 105\n",
    "}\n",
    "url = 'https://news.naver.com/section/{sid}'.format(**req_param)\n",
    "print(url)\n",
    "# 요청 헤더 설정 : 브라우저 정보\n",
    "req_header = {\n",
    "    'user-agent': 'Mozilla/5.0 (Windows NT 10.0; Win64; x64) AppleWebKit/537.36 (KHTML, like Gecko) Chrome/104.0.0.0 Safari/537.36'\n",
    "}\n",
    "res = requests.get(url, headers=req_header)\n",
    "print(type(res))\n",
    "print(res.status_code)\n",
    "if res.ok:\n",
    "    html = res.text #소스보기 텍스트\n",
    "    soup = BeautifulSoup(html, 'html.parser')\n",
    "    # <div class=\"sa_text\">\n",
    "    # atag_list = soup.select(\"div.sa_text a[href*='https://n.news.naver.com/mnews/article']\")\n",
    "    atag_list = soup.select(\"div.sa_text a.sa_text_title\")\n",
    "    print(len(atag_list))\n",
    "    print(type(atag_list))\n",
    "    for atag in atag_list:\n",
    "        # print(atag)\n",
    "        title = atag.text\n",
    "        link = atag['href']\n",
    "        # print(f'{title}')\n",
    "        # print(f'기사링크 = {link}')"
   ]
  },
  {
   "cell_type": "code",
   "execution_count": 6,
   "id": "4461b9cc",
   "metadata": {},
   "outputs": [],
   "source": [
    "section_dict = {100:'정치',101:'경제',102:'사회',103:'생활/문화',104:'세계',105:'IT/과학'}"
   ]
  },
  {
   "cell_type": "markdown",
   "id": "45640860-a449-4285-90d7-5f300292b461",
   "metadata": {},
   "source": [
    "### 1.1 뉴스제목 추출하는 함수 선언하기"
   ]
  },
  {
   "cell_type": "code",
   "execution_count": 4,
   "id": "9f2e4ef8",
   "metadata": {},
   "outputs": [],
   "source": [
    "import requests\n",
    "from bs4 import BeautifulSoup\n",
    "\n",
    "def print_news(sid, section):    \n",
    "    # 요청 Parameter\n",
    "    req_param = {\n",
    "        'sid': sid\n",
    "    }\n",
    "    url = 'https://news.naver.com/section/{sid}'.format(**req_param)\n",
    "    \n",
    "    print(f'======> {url} {section} 뉴스 <======')\n",
    "    \n",
    "    # 요청 헤더 설정 : 브라우저 정보\n",
    "    req_header = {\n",
    "        'user-agent': 'Mozilla/5.0 (Windows NT 10.0; Win64; x64) AppleWebKit/537.36 (KHTML, like Gecko) Chrome/104.0.0.0 Safari/537.36'\n",
    "    }\n",
    "\n",
    "    res = requests.get(url, headers=req_header)   \n",
    "    if res.ok:\n",
    "        soup = BeautifulSoup(res.text, 'html.parser')\n",
    "        # <div class=\"sa_text\">\n",
    "        # atag_list = soup.select(\"div.sa_text a[href*='https://n.news.naver.com/mnews/article']\")\n",
    "        atag_list = soup.select(\"div.sa_text a.sa_text_title\")\n",
    "        print(len(atag_list))\n",
    "        \n",
    "        for atag in atag_list:\n",
    "            title = atag.text\n",
    "            link = atag['href']\n",
    "            # print(f'{title}')\n",
    "            # print(f'기사링크 = {link}')\n",
    "    else:\n",
    "        print(f'Error Code = {res.status_code}') "
   ]
  },
  {
   "cell_type": "code",
   "execution_count": 7,
   "id": "858952c6",
   "metadata": {},
   "outputs": [
    {
     "name": "stdout",
     "output_type": "stream",
     "text": [
      "======> https://news.naver.com/section/104 세계 뉴스 <======\n",
      "46\n"
     ]
    }
   ],
   "source": [
    "print_news(104,section_dict[104])"
   ]
  },
  {
   "cell_type": "markdown",
   "id": "323196dc",
   "metadata": {},
   "source": [
    "### 2. Image 다운로드\n",
    "* referer 요청 헤더를 반드시 설정해야 한다."
   ]
  },
  {
   "cell_type": "code",
   "execution_count": 8,
   "id": "c72d6cb1",
   "metadata": {},
   "outputs": [
    {
     "name": "stdout",
     "output_type": "stream",
     "text": [
      "writing to 20220804112251_d97bd1e1b38f0cd022e4e3639d2926b3_IMAG01_1.jpg(299,319 bytes)\n",
      "writing to 20220804112251_d97bd1e1b38f0cd022e4e3639d2926b3_IMAG01_2.jpg(163,333 bytes)\n",
      "writing to 20220804112251_d97bd1e1b38f0cd022e4e3639d2926b3_IMAG01_3.jpg(182,530 bytes)\n"
     ]
    }
   ],
   "source": [
    "import requests\n",
    "import os\n",
    "\n",
    "req_header = {\n",
    "    'referer':'https://comic.naver.com/webtoon/detail?titleId=798173&no=5&amp;weekday=thu'\n",
    "}\n",
    "img_urls = [\n",
    "    'https://image-comic.pstatic.net/webtoon/798173/5/20220804112251_d97bd1e1b38f0cd022e4e3639d2926b3_IMAG01_1.jpg',\n",
    "    'https://image-comic.pstatic.net/webtoon/798173/5/20220804112251_d97bd1e1b38f0cd022e4e3639d2926b3_IMAG01_2.jpg',\n",
    "    'https://image-comic.pstatic.net/webtoon/798173/5/20220804112251_d97bd1e1b38f0cd022e4e3639d2926b3_IMAG01_3.jpg'\n",
    "]\n",
    "\n",
    "for img_url in img_urls:\n",
    "    res = requests.get(img_url, headers=req_header)\n",
    "    if res.ok:        \n",
    "        img_data = res.content\n",
    "        file_name = os.path.basename(img_url)\n",
    "        # binday data를 file에 write하기\n",
    "        with open(file_name,'wb') as file:\n",
    "            print(f'writing to {file_name}({len(img_data):,} bytes)')\n",
    "            file.write(img_data)\n",
    "    else:\n",
    "        print(f'Error Code = {res.status_code}')         "
   ]
  },
  {
   "cell_type": "markdown",
   "id": "e8b00a04",
   "metadata": {},
   "source": [
    "* 현재 요청된 페이지의 image 모두 다운로드 해보기"
   ]
  },
  {
   "cell_type": "code",
   "execution_count": 9,
   "id": "b30f7bf5",
   "metadata": {},
   "outputs": [
    {
     "name": "stdout",
     "output_type": "stream",
     "text": [
      "18\n",
      "writing to 20220804112251_d97bd1e1b38f0cd022e4e3639d2926b3_IMAG01_3.jpg(128,897 bytes)\n",
      "writing to 20220804112251_d97bd1e1b38f0cd022e4e3639d2926b3_IMAG01_3.jpg(143,194 bytes)\n",
      "writing to 20220804112251_d97bd1e1b38f0cd022e4e3639d2926b3_IMAG01_3.jpg(101,900 bytes)\n",
      "writing to 20220804112251_d97bd1e1b38f0cd022e4e3639d2926b3_IMAG01_3.jpg(112,007 bytes)\n",
      "writing to 20220804112251_d97bd1e1b38f0cd022e4e3639d2926b3_IMAG01_3.jpg(190,876 bytes)\n",
      "writing to 20220804112251_d97bd1e1b38f0cd022e4e3639d2926b3_IMAG01_3.jpg(134,590 bytes)\n",
      "writing to 20220804112251_d97bd1e1b38f0cd022e4e3639d2926b3_IMAG01_3.jpg(132,910 bytes)\n",
      "writing to 20220804112251_d97bd1e1b38f0cd022e4e3639d2926b3_IMAG01_3.jpg(174,434 bytes)\n",
      "writing to 20220804112251_d97bd1e1b38f0cd022e4e3639d2926b3_IMAG01_3.jpg(88,576 bytes)\n",
      "writing to 20220804112251_d97bd1e1b38f0cd022e4e3639d2926b3_IMAG01_3.jpg(177,240 bytes)\n",
      "writing to 20220804112251_d97bd1e1b38f0cd022e4e3639d2926b3_IMAG01_3.jpg(95,130 bytes)\n",
      "writing to 20220804112251_d97bd1e1b38f0cd022e4e3639d2926b3_IMAG01_3.jpg(109,718 bytes)\n",
      "writing to 20220804112251_d97bd1e1b38f0cd022e4e3639d2926b3_IMAG01_3.jpg(144,476 bytes)\n",
      "writing to 20220804112251_d97bd1e1b38f0cd022e4e3639d2926b3_IMAG01_3.jpg(127,739 bytes)\n",
      "writing to 20220804112251_d97bd1e1b38f0cd022e4e3639d2926b3_IMAG01_3.jpg(143,133 bytes)\n",
      "writing to 20220804112251_d97bd1e1b38f0cd022e4e3639d2926b3_IMAG01_3.jpg(159,328 bytes)\n",
      "writing to 20220804112251_d97bd1e1b38f0cd022e4e3639d2926b3_IMAG01_3.jpg(139,300 bytes)\n",
      "writing to 20220804112251_d97bd1e1b38f0cd022e4e3639d2926b3_IMAG01_3.jpg(54,967 bytes)\n"
     ]
    }
   ],
   "source": [
    "import requests\n",
    "import os\n",
    "\n",
    "url = 'https://comic.naver.com/webtoon/detail?titleId=817945&no=37&week=mon'\n",
    "req_header = {\n",
    "    'referer': url\n",
    "}\n",
    "res = requests.get(url)\n",
    "if res.ok: #200\n",
    "    # xx.jpg 파일명 목록 가져오기\n",
    "    soup = BeautifulSoup(res.text, 'html.parser')\n",
    "    img_tags = soup.select(\"img[src*='IMAG01']\")\n",
    "    print(len(img_tags))\n",
    "    \n",
    "    img_url_list = list()\n",
    "    for img_tag in img_tags:\n",
    "        img_url_list.append(img_tag['src'])\n",
    "\n",
    "    imgdir_name = 'img'\n",
    "    # img 디렉토리가 없으면 생성\n",
    "    if not os.path.isdir(imgdir_name):\n",
    "        os.mkdir(imgdir_name)\n",
    "\n",
    "    for img_url in img_url_list:\n",
    "        res = requests.get(img_url, headers=req_header)\n",
    "        if res.ok:        \n",
    "            img_data = res.content\n",
    "            dir_name = os.path.join(imgdir_name, os.path.basename(img_url))\n",
    "            # binday data를 file에 write하기\n",
    "            with open(dir_name,'wb') as file:\n",
    "                print(f'writing to {file_name}({len(img_data):,} bytes)')\n",
    "                file.write(img_data)\n",
    "        else:\n",
    "            print(f'Error Code = {res.status_code}')         \n",
    "else:\n",
    "    print(res.status_code)"
   ]
  },
  {
   "cell_type": "markdown",
   "id": "2ac9f5f9",
   "metadata": {},
   "source": [
    "### 3. 파일 업로드 하기\n",
    "* http://httpbin.org/post 업로드 요청을 할 수 있는 url"
   ]
  },
  {
   "cell_type": "code",
   "execution_count": 69,
   "id": "04da4790",
   "metadata": {},
   "outputs": [
    {
     "name": "stdout",
     "output_type": "stream",
     "text": [
      "200\n"
     ]
    }
   ],
   "source": [
    "import requests\n",
    "\n",
    "upload_files = {\n",
    "    'img1': open('img/f1.jpg','rb'),\n",
    "    'img2': open('img/f2.jpg','rb'),\n",
    "}\n",
    "url = 'http://httpbin.org/post'\n",
    "res = requests.post(url, files=upload_files)\n",
    "print(res.status_code)\n",
    "#print(res.json()['files']['img1'])\n"
   ]
  },
  {
   "cell_type": "markdown",
   "id": "7ad65f12",
   "metadata": {},
   "source": [
    "### 4. 단축 URL 생성하는 Open API 사용하기\n",
    "* urllib 사용"
   ]
  },
  {
   "cell_type": "code",
   "execution_count": 25,
   "id": "abbb0ebf",
   "metadata": {},
   "outputs": [
    {
     "name": "stdout",
     "output_type": "stream",
     "text": [
      "{\"key\":\"NhXvIk2vw6BCpezP\"}\n"
     ]
    }
   ],
   "source": [
    "# 캡차 키 발급 요청 \n",
    "import os\n",
    "import sys\n",
    "import urllib.request\n",
    "\n",
    "client_id = \"_Jc5Vu9T9Sx8QJs_y6Mk\" # 개발자센터에서 발급받은 Client ID 값\n",
    "client_secret = \"_wJEELYvtJ\" # 개발자센터에서 발급받은 Client Secret 값\n",
    "\n",
    "code = \"0\"\n",
    "url = \"https://openapi.naver.com/v1/captcha/nkey?code=\" + code\n",
    "request = urllib.request.Request(url)\n",
    "request.add_header(\"X-Naver-Client-Id\",client_id)\n",
    "request.add_header(\"X-Naver-Client-Secret\",client_secret)\n",
    "response = urllib.request.urlopen(request)\n",
    "rescode = response.getcode()\n",
    "if(rescode==200):\n",
    "    response_body = response.read()\n",
    "    print(response_body.decode('utf-8'))\n",
    "else:\n",
    "    print(\"Error Code:\" + rescode)"
   ]
  },
  {
   "cell_type": "code",
   "execution_count": 17,
   "id": "dfe80eae-5e3c-4476-8811-d04d5310127e",
   "metadata": {},
   "outputs": [
    {
     "name": "stdout",
     "output_type": "stream",
     "text": [
      "캡차 이미지 저장\n"
     ]
    }
   ],
   "source": [
    "# 캡차 이미지 요청\n",
    "import os\n",
    "import sys\n",
    "import urllib.request\n",
    "\n",
    "client_id = \"_J\" # 개발자센터에서 발급받은 Client ID 값\n",
    "client_secret = \"_w\" # 개발자센터에서 발급받은 Client Secret 값\n",
    "key = \"N\" # 캡차 Key 값\n",
    "\n",
    "url = \"https://openapi.naver.com/v1/captcha/ncaptcha.bin?key=\" + key\n",
    "request = urllib.request.Request(url)\n",
    "request.add_header(\"X-Naver-Client-Id\",client_id)\n",
    "request.add_header(\"X-Naver-Client-Secret\",client_secret)\n",
    "response = urllib.request.urlopen(request)\n",
    "rescode = response.getcode()\n",
    "\n",
    "if(rescode==200):\n",
    "    print(\"캡차 이미지 저장\")\n",
    "    response_body = response.read()\n",
    "    with open('captcha.jpg', 'wb') as f:\n",
    "        f.write(response_body)\n",
    "else:\n",
    "    print(\"Error Code:\" + rescode)"
   ]
  },
  {
   "cell_type": "code",
   "execution_count": 24,
   "id": "d1869724-2b72-44c3-a8ee-5a436867e346",
   "metadata": {},
   "outputs": [
    {
     "name": "stdout",
     "output_type": "stream",
     "text": [
      "{\"result\":true,\"responseTime\":141.65}\n"
     ]
    }
   ],
   "source": [
    "# 사용자 입력값 검증 요청\n",
    "import os\n",
    "import sys\n",
    "import urllib.request\n",
    "\n",
    "client_id = \"_Jc\" # 개발자센터에서 발급받은 Client ID 값\n",
    "client_secret = \"_w\" # 개발자센터에서 발급받은 Client Secret 값\n",
    "key = \"p\" # 캡차 Key 값\n",
    "\n",
    "code = \"1\"\n",
    "value = \"D6P5SXY7\"\n",
    "url = \"https://openapi.naver.com/v1/captcha/nkey?code=\" + code + \"&key=\" + key + \"&value=\" + value\n",
    "request = urllib.request.Request(url)\n",
    "request.add_header(\"X-Naver-Client-Id\",client_id)\n",
    "request.add_header(\"X-Naver-Client-Secret\",client_secret)\n",
    "response = urllib.request.urlopen(request)\n",
    "rescode = response.getcode()\n",
    "if(rescode==200):\n",
    "    response_body = response.read()\n",
    "    print(response_body.decode('utf-8'))\n",
    "else:\n",
    "    print(\"Error Code:\" + rescode)"
   ]
  },
  {
   "cell_type": "markdown",
   "id": "b7d984a6",
   "metadata": {},
   "source": [
    "* requests를 사용하는 코드로 변경하기\n",
    "* [requests docs](https://requests.readthedocs.io/en/latest/user/quickstart/)"
   ]
  },
  {
   "cell_type": "code",
   "execution_count": 27,
   "id": "727b427b",
   "metadata": {
    "scrolled": true
   },
   "outputs": [
    {
     "name": "stdout",
     "output_type": "stream",
     "text": [
      "<Response [200]>\n",
      "{\"result\":true,\"responseTime\":56.84}\n"
     ]
    }
   ],
   "source": [
    "import requests\n",
    "\n",
    "client_id = \"_Jc\" # 개발자센터에서 발급받은 Client ID 값\n",
    "client_secret = \"_w\" # 개발자센터에서 발급받은 Client Secret 값\n",
    "key = \"N\" # 캡차 Key 값\n",
    "\n",
    "code = \"1\"\n",
    "value = \"Y452\"\n",
    "\n",
    "url = \"https://openapi.naver.com/v1/captcha/nkey\"\n",
    "params = {\n",
    "    \"code\": code,\n",
    "    \"key\": key,\n",
    "    \"value\": value\n",
    "}\n",
    "\n",
    "headers = {\n",
    "    \"X-Naver-Client-Id\": client_id,\n",
    "    \"X-Naver-Client-Secret\": client_secret\n",
    "}\n",
    "\n",
    "response = requests.get(url, params=params, headers=headers)\n",
    "print(response)\n",
    "\n",
    "if response.status_code == 200:\n",
    "    print(response.text)  # 응답 본문 출력\n",
    "else:\n",
    "    print(f\"Error Code: {response.status_code}\")"
   ]
  },
  {
   "cell_type": "markdown",
   "id": "d5e1179a",
   "metadata": {},
   "source": [
    "### 5. 블로그 검색하기"
   ]
  },
  {
   "cell_type": "code",
   "execution_count": 31,
   "id": "877d0c7f",
   "metadata": {},
   "outputs": [
    {
     "name": "stdout",
     "output_type": "stream",
     "text": [
      "{'lastBuildDate': 'Thu, 06 Feb 2025 00:10:42 +0900', 'total': 11781, 'start': 1, 'display': 100, 'items': [{'title': '[AI] Meta <b>Llama 3</b> 설치 및 Open WebUI 실행까지 (Windows)', 'link': 'https://megastorage.tistory.com/507', 'description': \"Open WebUI 정상 동작 확인 다시 메인페이지로 돌아온 후 상단의 'Select a model' 선택 후 '<b>llama3</b>:8b'를 선택합니다. 이제 <b>llama 3</b> 8B 언어 모델과 대화를 할 수 있게 되었습니다. 테스트 대화를... \", 'bloggername': '삼런이의 만물상', 'bloggerlink': 'https://megastorage.tistory.com/', 'postdate': '20240428'}, {'title': '라마3 설치방법, 정말 쉽다!<b>LLAMA3</b> + Ollama+ 동영상 포함', 'link': 'https://blog.naver.com/ocmarketing/223424810886', 'description': '라마3, <b>LLAMA3</b>가 무엇인가? 여기에 대해서는 이전에 포스팅을 참고해 주세요. 이 글에서는 라마3을... 이중에서 우리의 관심사인 라마3 <b>LLAMA3</b>를 선택해 줍니디ㅏ. 뒤에서 다시 말씀을 드리겠지만, 라마3는... ', 'bloggername': '초튜터 X 오씨네학교', 'bloggerlink': 'blog.naver.com/ocmarketing', 'postdate': '20240423'}, {'title': '라마(<b>Llama</b>) <b>3</b>.1 어떤 점이 달라졌을까? 성능부터 설치까지', 'link': 'https://blog.naver.com/spartacoding/223690422801', 'description': '메타의 <b>Llama 3</b>.1 405B는 서계에서 가장 크고 유능한 오픈소스 기반 LLM이라고 믿는다.” <b>Llama 3</b>.1... 이제 라마 3.1을 설치해 볼 차례인데요, 우측 상단의 Models 버튼을 눌러줍니다. <b>llama3</b>.1을 찾아서... ', 'bloggername': '스파르타코딩클럽', 'bloggerlink': 'blog.naver.com/spartacoding', 'postdate': '20241212'}, {'title': '<b>Llama 3</b>.1 내 컴퓨터에서 무료로 사용하기(LM Studio)', 'link': 'https://blog.naver.com/dh_olic/223597851952', 'description': '그럼 위와 같은 화면이 나오는데, 첫 화면에서부터 Meta <b>Llama 3</b>.1 8B가 있는 것을 발견할 수 있다. Meta <b>Llama 3</b>.1 8B를 클릭하면 위와 같은 화면이 나온다. 당연히 초록색의 Download를 클릭한다. 사실 8B... ', 'bloggername': '홍쌤의 일기장', 'bloggerlink': 'blog.naver.com/dh_olic', 'postdate': '20240927'}, {'title': '라마3(<b>Llama3</b>)의 뛰어난 성능과 새로운 AI시대', 'link': 'https://blog.naver.com/knowbase/223442488299', 'description': '모델에서 외국어에 대한 성능 향상 혹은 더 적은 리소스 사용 등의 성공을 했으면 하는 바람입니다. 참고자료 [1] <b>Llama3</b> 웹사이트 [2] AI타임스, 국내 AI 기업들 &quot;라마 3, 성능 좋아졌지만 한국어는 아직 부족&quot;', 'bloggername': 'Knowledge Base', 'bloggerlink': 'blog.naver.com/knowbase', 'postdate': '20240510'}, {'title': '라마(<b>Llama</b>) <b>3</b> 계열 한국어 모델 블라썸 Bllossom 8B... ', 'link': 'https://blog.naver.com/se2n/223443729640', 'description': 'Bllossom 모델 서울과학기술대학교 임경태 교수 연구진들이 공개한 <b>Llama 3</b> 모델을 100GB에 달하는... 무려 3만개가 넘는 한국어 어휘확장 70B 모델 <b>Llama3</b>대비 대략 25% 더 긴 길이의 한국어 Context... ', 'bloggername': 'another blog for seen', 'bloggerlink': 'blog.naver.com/se2n', 'postdate': '20240511'}, {'title': 'meta AI 모델 <b>Llama</b> 다운로드 방법 안내 (download.sh 복사... ', 'link': 'https://blog.naver.com/jonghong0316/223553343698', 'description': '그리고 나서 brew를 터미널에서 실행해보세요. 아래와 같이 나오면 잘 설치된 것입니다. 자 이제 wget을 설치 합니다. #Llama #Llama2 #<b>Llama3</b> #meta #ai #model', 'bloggername': '•_•', 'bloggerlink': 'blog.naver.com/jonghong0316', 'postdate': '20240819'}, {'title': '딥시크 폭락에도 메타는 웃었다(Feat.챗GPT, 오픈소스, <b>LLaMA</b>)', 'link': 'https://blog.naver.com/goodinvest4/223742858478', 'description': '경쟁의 핵심 포인트 1️⃣ 오픈소스 vs 폐쇄형 메타(<b>LLaMA 3</b>) → ✅ 완전한 오픈소스, 누구나 사용 가능 오픈AI(ChatGPT) → ❌ 비공개 폐쇄형 모델, 유료 서비스 중심 2️⃣ 생태계 경쟁 (기업·개발자 유치)... ', 'bloggername': '웰쓰빌더 : 경제 쉽게 알려주는 회사선배', 'bloggerlink': 'blog.naver.com/goodinvest4', 'postdate': '20250131'}, {'title': '<b>Llama 3</b>.1 모델을 개인 윈도우 PC에 설치해 보기', 'link': 'https://blog.naver.com/beodeulpiri/223533078044', 'description': '실수로 처음에 <b>llama3</b> 으로 해서 다운받았더니 한글을 입력해도 답변을 영어로 해줬다. 그런데, 3.1 버전은 한글로 입력하면 한글로 척척 답변을 해준다. 그래서 어떤 언어를 아는지 물어보니... ', 'bloggername': '노력하는 자는 즐기는 자를 이기지 못한다.', 'bloggerlink': 'blog.naver.com/beodeulpiri', 'postdate': '20240801'}, {'title': '[AI 정보공유] <b>Llama 3</b>.1 모델 출시가 주는 의미', 'link': 'https://blog.naver.com/fs0608/223532691623', 'description': '메타의 <b>Llama 3</b>.1 모델 출시는 어떤 의미를 가질까요? 파수의 Ellm (Enterprise LLM) 개발센터장, 윤경구의 에어컨! (AI-R Content) 이번에 다룰 주제는 <b>Llama 3</b>.1 모델 출시입니다. 약 3개월 만에 업그레이드된 <b>Llama 3</b>.... ', 'bloggername': '파수 기업 블로그', 'bloggerlink': 'blog.naver.com/fs0608', 'postdate': '20240801'}, {'title': 'AI Viet, 베트남어 처리 능력을 GPT-4, <b>Llama</b>와 비교', 'link': 'https://blog.naver.com/20000kim/223734026733', 'description': '이에 따라 처음부터 훈련된 모델인 From-scratch 모델 순위에서는 Meta의 <b>Llama</b>-<b>3</b>-70B가 일반 베트남어 능력에서 66.44점으로 선두를 달리고 있으며, OpenAI의 GPT-4가 65.53점으로 3위를 차지했습니다.... ', 'bloggername': '관보아빠의 베트남 경제 & 주식 투자 이야기', 'bloggerlink': 'blog.naver.com/20000kim', 'postdate': '20250122'}, {'title': '<b>Llama 3</b> 등장 - 대형 언어 모델 (LLM) 지형 변화', 'link': 'https://blog.naver.com/chase_eagles/223421743897', 'description': 'https://ai.meta.com/blog/meta-<b>llama</b>-<b>3</b>/ https://github.com/meta-llama/<b>llama3</b> LMSYS라는 leaderboard에서 <b>llama 3</b>의 성능을 보면 5위 정도 하고 있다. 위에 거는 overall 성능을 본 것이고, English 성능을 보면... ', 'bloggername': '생각더미', 'bloggerlink': 'blog.naver.com/chase_eagles', 'postdate': '20240420'}, {'title': 'Meta, 초경량 대규모 언어 모델 ‘<b>Llama 3</b>.3’ 공개', 'link': 'https://blog.naver.com/cyberpass/223688391055', 'description': '출처 https://www.llama.com/docs/model-cards-and-prompt-formats/<b>llama3</b>_3 다운로드 https://github.com/meta-llama/llama-models/tree/main/models/<b>llama3</b>_3 https://huggingface.co/meta-llama/<b>Llama</b>-<b>3</b>.3-70B-Instruct &quot;&quot;', 'bloggername': '디지털 세상으로..', 'bloggerlink': 'blog.naver.com/cyberpass', 'postdate': '20241210'}, {'title': 'SearchGPT, GPT-4o mini, <b>Llama 3</b>.1 업데이트', 'link': 'https://blog.naver.com/reviewit1st/223525018464', 'description': '<b>Llama 3</b>.1 405B 모델 다운로드 받기 <b>Llama3</b>를 내 PC에서 무료로 사용하는 방법 (GPT4All &amp; RAG) Llama에 집중하는 이유는 오픈소스이기 때문입니다. 그만큼 AI 모델 사용하고 변형하는데 자유롭습니다.... ', 'bloggername': 'B2B SaaS 리뷰 플랫폼, 테크뷰', 'bloggerlink': 'blog.naver.com/reviewit1st', 'postdate': '20240725'}, {'title': '오픈 소스 AI를 주도하는 메타의 <b>Llama</b> 다운로드 10배 증가', 'link': 'https://blog.naver.com/john1210/223569544961', 'description': '메타 <b>Llama 3</b>.1 (사진 출처 : 메타) 인공지능 읽어주는 남자입니다. 오픈 소스 AI가 마침내 클로즈드 소스의 우위에 근접하고 있습니다. 오픈 모델 부문의 선두주자 중 하나인 Meta는 ‘<b>Llama 3</b>.1’이 출시된... ', 'bloggername': '인공지능 읽어주는 남자', 'bloggerlink': 'blog.naver.com/john1210', 'postdate': '20240903'}, {'title': '[LLAMA 따라잡기] <b>Llama 3</b> 리뷰', 'link': 'https://blog.naver.com/gypsi12/223464842983', 'description': '[ LLAMA 따라잡기 ] LLaMA 1 논문 리뷰 LLaMA 2 논문 리뷰 <b>LLaMA 3</b> 리뷰 https://github.com/meta-llama/<b>llama3</b>/tree/main LLAMA 2 (2023.07)가 나온지 9개월 만에 <b>LLAMA 3</b> (2024.04)가 나왔습니다. 성능이 대폭... ', 'bloggername': 'NLP 바다', 'bloggerlink': 'blog.naver.com/gypsi12', 'postdate': '20240531'}, {'title': '메타 라마3(<b>LLaMa3</b>) 오픈소스 공개, 허깅페이스 테스트 방법', 'link': 'https://blog.naver.com/ldlquddnr/223420663893', 'description': \"메타 라마3(<b>LLaMa3</b>) 오픈소스 공개, 허깅페이스 테스트 방법 안녕하세요~ 부루퉁입니다. 메타가... 여기서 하단에 있는 'meta-llama'를 클릭하고 active model을 클릭합니다. 모델이 변경된 것을 확인하고... \", 'bloggername': '부루퉁의 AI 정복하기', 'bloggerlink': 'blog.naver.com/ldlquddnr', 'postdate': '20240419'}, {'title': '출시에 따른 최신 경쟁 모델 비교(R1, Claude, <b>Llama</b> 등)', 'link': 'https://blog.naver.com/selfmotivation/223744885115', 'description': '최근 주목받는 AI 모델로는 Anthropic의 Claude 3.5, Meta AI의 <b>Llama3</b>.3, DeepSeek의 R1 등이 있습니다.... Meta <b>Llama 3</b>.3 오픈소스 이미지 처리 미흡 Anthropic Claude 3.5 Opus 종합 지식 느린 응답속도 코어... ', 'bloggername': '야마개돔 투자일기', 'bloggerlink': 'blog.naver.com/selfmotivation', 'postdate': '20250202'}, {'title': 'Meta, 동급 최고의 오픈소스 모델 <b>Llama</b>-<b>3</b> 출시', 'link': 'https://blog.naver.com/kosena21/223420194542', 'description': '- <b>Llama</b>-<b>3</b> 소개 : https://ai.meta.com/blog/meta-<b>llama</b>-<b>3</b> - <b>Llama</b>-<b>3</b> 다운로드 : https://llama.meta.com/<b>llama3</b> - Meta AI 소개 : https://about.fb.com/news/2024/04/meta-ai-assistant-built-with-<b>llama</b>-<b>3</b> - <b>Llama</b>-<b>3</b> GitHub : https://github.com... ', 'bloggername': 'AIX구현을 위한 AI, RPA 전문기업 코세나(kosena)', 'bloggerlink': 'blog.naver.com/kosena21', 'postdate': '20240419'}, {'title': 'GPT4ALL GPT4 130억개 모델도 무료 사용 <b>LLAMA 3</b> 1 80억 모델... ', 'link': 'https://blog.naver.com/ai_labellum/223600836686', 'description': 'GPT 4 All과 <b>LLAMA 3</b>.1 설치 방법은? 소프트웨어는 자유롭게 사용하며 다른 프로젝트에 통합할 수... 39GB #무료사용 #원격모델 #로컬환경 #확장성 #프라이빗모드 #<b>LLAMA3</b>_1 #아담트리 #노믹AI #데이터전송... ', 'bloggername': 'KT AI 와이즈교육', 'bloggerlink': 'blog.naver.com/ai_labellum', 'postdate': '20240929'}, {'title': '혁신을 선도하는 DeepSeekV3: <b>Llama 3</b>를 능가하는 차세대... ', 'link': 'https://blog.naver.com/websfactory/223731284504', 'description': '이는 <b>Llama 3</b>.1 405B 모델보다 훨씬 적은 연산량으로, 279만 GPU 시간이라는 놀라운 효율성으로 훈련을 완료했습니다. 또한, 훈련 비용 역시 560만 달러로 매우 저렴하게 완료되었다는 점은 DeepSeekV3의... ', 'bloggername': '모든 곳에 AI를 적용합니다 | 웹스팩토리', 'bloggerlink': 'blog.naver.com/websfactory', 'postdate': '20250120'}, {'title': 'BitNet-b1.58로 만들어진 <b>Llama3</b> 8B 사용하기', 'link': 'https://blog.naver.com/beyond-zero/223654471705', 'description': '이용한 Llama8B가 공개되었습니다. 관련 URL: https://github.com/microsoft/BitNet ⑴ BitNet이란? 관련... bitnet_b1_58-large bitnet_b1_57-3B <b>Llama3</b>-8B-1.58-100B-tokens 여기서는 <b>Llama3</b>-8B-1.58-100B-tokens을 사용합니다.... ', 'bloggername': 'ZeR0 기술 블로그', 'bloggerlink': 'blog.naver.com/beyond-zero', 'postdate': '20241110'}, {'title': '¿Cómo se <b>llama</b>? 당신의 이름은 무엇인가요', 'link': 'https://blog.naver.com/somanita/223605156087', 'description': '<b>3</b>. &quot;<b>Llama</b>&quot; 야마 동사 &quot;llamar&quot;의 3인칭 단수형입니다. &quot;llamar&quot;는 &quot;이름을 부르다&quot;라는 뜻입니다. 여기서는 &quot;이름이 무엇입니까?&quot;라는 의미로 &quot;부르다&quot;의 형태로 사용됩니다. 문장의 구조: Cómo... ', 'bloggername': 'El Greco Zorba', 'bloggerlink': 'blog.naver.com/somanita', 'postdate': '20241003'}, {'title': '방법과 결과(Prompt Tuning in <b>Llama3</b> 70B 4bit Quantization Model)', 'link': 'https://blog.naver.com/se2n/223426139335', 'description': 'Latte is Horse 라떼의 친척 라마3 (<b>Llama3</b>)가 공개되고 다음날 바로 8B 모델에 대해 파인튜닝한... &quot;&quot;&quot; &quot;&quot;&quot; 허깅페이스에서 sh2orc/ko-<b>llama</b>-<b>3</b>-8b를 통해 모델과 토크나이저를 생성하는 코드는... ', 'bloggername': 'another blog for seen', 'bloggerlink': 'blog.naver.com/se2n', 'postdate': '20240424'}, {'title': '<b>LLAMA 3</b> Opensource 발표 - Ft. Hugging Face', 'link': 'https://blog.naver.com/uijimom/223423166118', 'description': 'https://ai.meta.com/blog/meta-<b>llama</b>-<b>3</b>/ 메타에서 라마 3를 오픈소스로 공개했어요~~ AI 붐을 이끌고 가는 회사중에 하나, 메타.. 얼마전 제가 극찬을 마지 않고, 요즘 최애 동료로 지내고 있는 Cluade Sonet보다도... ', 'bloggername': '히치하이커크리스님의블로그', 'bloggerlink': 'blog.naver.com/uijimom', 'postdate': '20240422'}, {'title': '<b>Llama3</b> 로컬 pc 파이썬에서 실행(windows 11, rtx 4070... ', 'link': 'https://blog.naver.com/miter37/223430058513', 'description': '2) 그렇다면, meta 공식페이지를 사용해보면 어떨까 GitHub - meta-llama/<b>llama3</b>: The official Meta <b>Llama 3</b> GitHub site 이 페이지에 보이는 quick start대로 따라했지만, 안되는 것이 많다. 일단 windows... ', 'bloggername': '일상 기억 블로그', 'bloggerlink': 'blog.naver.com/miter37', 'postdate': '20240428'}, {'title': 'Meta AI <b>Llama 3</b> 출시와 무료 사용 방법!', 'link': 'https://blog.naver.com/reviewit1st/223424366197', 'description': 'Meta AI_<b>LLama3</b> 2024년 4월 18일 Meta에서 새로운 오픈소스 LLM 모델이며 무료인 <b>Llama 3</b> 버전을 신규로 출시하였습니다. Llama 모델이 기본적으로 OpenAI의 ChatGPT나 Anthropic의 Claude처럼 LLM 모델이지만... ', 'bloggername': 'B2B SaaS 리뷰 플랫폼, 테크뷰', 'bloggerlink': 'blog.naver.com/reviewit1st', 'postdate': '20240423'}, {'title': '엔비디아 강력한 성능을 자랑하는 소형 모델 <b>Llama 3</b>.1... ', 'link': 'https://blog.naver.com/john1210/223558313329', 'description': '그 결과 두 가지 버전의 <b>Llama 3</b>.1 Minitron 4B 모델이 탄생했습니다. 다음 포스팅에서 이어가도록 하겠습니다. AI 시대에 가장 인간답게.. #엔비디아 #Nvidia #<b>Llama3</b>.1Minitron4B #pruninganddistillation... ', 'bloggername': '인공지능 읽어주는 남자', 'bloggerlink': 'blog.naver.com/john1210', 'postdate': '20240824'}, {'title': '[유튜브 요약] Coding Opera Korea - 메타 <b>Llama</b> 라마 <b>3</b>.1... ', 'link': 'https://blog.naver.com/leejang2000/223535417013', 'description': '이 영상은 메타의 최신 자연어처리 모델인 <b>Llama 3</b>.1에 대한 간단하면서도 깊이 있는 설명을 제공합니다. <b>Llama 3</b>.1은 무료로 공개된 고성능 오픈 소스 인공지능 모델로, 개발자들이 자유롭게... ', 'bloggername': '이것저것, 나에게 필요한 모든 것들', 'bloggerlink': 'blog.naver.com/leejang2000', 'postdate': '20240803'}, {'title': '<b>Llama</b> 모델과 Meta AI의 2024년 돌아보기', 'link': 'https://blog.naver.com/godinus/223707948017', 'description': 'Llama 모델의 발전 단계 <b>Llama 3</b>: 차세대 대규모 언어 모델로 출시. <b>Llama 3</b>.1: 세계 최초의 프론티어 수준 AI 모델(405B) 발표. <b>Llama 3</b>.2: 멀티모달 모델과 경량 텍스트 전용 모델을 모바일 및 엣지... ', 'bloggername': 'TLDR News', 'bloggerlink': 'blog.naver.com/godinus', 'postdate': '20241228'}, {'title': '윈도우에서 Meta <b>Llama 3</b> 기본 설치 및 사용 방법... ', 'link': 'https://blog.naver.com/mdsd12/223494648439', 'description': 'py) 이후 기회가 된다면 <b>Llama3</b> 파인튜닝(Fine-tuning)에 대한 포스팅을 작성해보려고 한다. 참고: https://news.hada.io/topic?id=14388 https://github.com/meta-llama/<b>llama3</b>', 'bloggername': '세종에 사는 세드릭입니다', 'bloggerlink': 'blog.naver.com/mdsd12', 'postdate': '20240628'}, {'title': '[Lama3] 로컬에서 LLM 간단 실행 (ollama + <b>llama3</b> 사용법)', 'link': 'https://blog.naver.com/wizardry0629/223514859599', 'description': '<b>Llama3</b> 를 로컬에서 간단히 사용할 수 있는 Tool 은 3가지가 있습니다. 3가지 모두 다 Max, Linux... Open WebUI : Docker 로 실행하여 web 브라우저에서 UI로 실행 할 수 있는 Tool LM Studio : llama.cpp... ', 'bloggername': '일본어는 작성이 불가능합니다.', 'bloggerlink': 'blog.naver.com/wizardry0629', 'postdate': '20240716'}, {'title': '메타  <b>Llama 3</b> 대공개 오픈소스 LLM 8B, 70B', 'link': 'https://blog.naver.com/spider55/223420316297', 'description': 'https://ai.meta.com/blog/meta-<b>llama</b>-<b>3</b>/ #<b>Llama3</b> #MetaAI #언어모델 #AI기술 #트랜스포머 #기계학습 #데이터과학 #NLP #자연어처리 #AI혁신 #모델성능 #AI개발 #딥러닝 #인공지능 #최신기술 #벤치마크 #실세계적용... ', 'bloggername': 'Fruitful Bough', 'bloggerlink': 'blog.naver.com/spider55', 'postdate': '20240419'}, {'title': '사과밭이 되고 있다.(Jenkins, <b>Llama3</b>)', 'link': 'https://blog.naver.com/joycat38/223433733834', 'description': 'M1 16G에서 <b>Llama3</b> 실행되고 이다. 한국어 질문도 인식을 잘한다. 다만 대답을 영어로 한다. 한국어 학습시킨 버전도 있다는데 테스트 해봐야겠다. 새로운 산업혁명인가, 신기한 것이 많이들 만들어... ', 'bloggername': '살다가 하는 것들', 'bloggerlink': 'blog.naver.com/joycat38', 'postdate': '20240502'}, {'title': '[LLM] <b>Llama3</b>에 RAG 적용하여 On-Device Multi-Turn 챗봇... ', 'link': 'https://blog.naver.com/112fkdldjs/223524280555', 'description': 'https://huggingface.co/MLP-KTLim/<b>llama</b>-<b>3</b>-Korean-Bllossom-8B 서울 과학기술대학교에서 Fine Tune 시킨 <b>Llama3</b> 모델이고, Bllossom이라는 이름을 가지고 있습니다. 본 모델을 Ollama로 로드하여 아까 순전 <b>Llama3</b> 8b와 한번... ', 'bloggername': '아기사자 일대기', 'bloggerlink': 'blog.naver.com/112fkdldjs', 'postdate': '20240724'}, {'title': '[AI인사이트]  <b>Llama</b>-<b>3</b> 다음 세대를 위한 메타 AI의 진화... ', 'link': 'https://blog.naver.com/recycle1313/223430813838', 'description': '<b>Llama</b>-<b>3</b> 다음 세대를 위한 메타 AI의 진화 챗GPT 생성형 AI 강사 김재연 최근 메타에서 발표한 라마3 기술의 진화에 대해 이야기하려고 합니다. <b>Llama</b>-<b>3</b>의 발전은 데이터 처리 능력의 증가, 반응 속도와 정확성의... ', 'bloggername': '챗GPT 강사 김재연 생성형AI 영상제작', 'bloggerlink': 'blog.naver.com/recycle1313', 'postdate': '20240429'}, {'title': 'FSDP(Fully Shared Data Parallel) : <b>Llama3</b> 70B 모델을... ', 'link': 'https://blog.naver.com/se2n/223451837382', 'description': '메타 라마3 70B 4비트 양자화 모델 기반 프롬프트 튜닝 방법과 결과(Prompt Tuning in <b>Llama3</b> 70B 4bit Quantization Model) 4. 라마(<b>Llama</b>) <b>3</b> 계열 한국어 모델 블라썸 Bllossom 8B - 한국어 질의응답 파인튜닝... ', 'bloggername': 'another blog for seen', 'bloggerlink': 'blog.naver.com/se2n', 'postdate': '20240519'}, {'title': '라마 <b>Llama 3</b>.1 완전오픈소스 릴리스', 'link': 'https://blog.naver.com/yoojk72/223530321847', 'description': '<b>Llama 3</b>.1 소개 <b>Llama 3</b>.1 405B는 일반 지식, 조종성, 수학, 도구 사용 및 다국어 번역에서 최첨단 기능 면에서 최고 AI 모델과 경쟁하는 최초의 공개 모델입니다. 405B 모델이 출시됨에 따라 전례 없는 성장 및... ', 'bloggername': 'JK Dreams 스튜디오', 'bloggerlink': 'blog.naver.com/yoojk72', 'postdate': '20240730'}, {'title': '오픈소스 LLM &quot;<b>Llama3</b>&quot;의 성능에 대해', 'link': 'https://blog.naver.com/beyond-zero/223506215718', 'description': '<b>Llama3</b>는 Claude Sonnet, Mistral Medium, GPT-3.5보다 높은 평가를 받았습니다. ⊙ <b>Llama3</b> 사용법 <b>Llama3</b>를... GitHub: https://github.com/meta-llama/<b>llama3</b> 설치방법 설명에 따라 download.sh스크립트를 실행하고 URL을 여기에... ', 'bloggername': 'ZeR0 기술 블로그', 'bloggerlink': 'blog.naver.com/beyond-zero', 'postdate': '20240709'}, {'title': '라마3-그록 <b>llama3</b> Groq 70B모델 API코딩 --(3)', 'link': 'https://blog.naver.com/ulsancoding/223426907729', 'description': 'LPU 추론칩으로 유명한 그록 groq이 라마3 <b>llama3</b> 70B를 서비스한다. 테슬라 일런 머스크의 AI... model=&quot;<b>llama3</b>-70b-8192&quot; 확인한다. &quot;&quot; &quot;&quot; &quot;&quot; &quot;&quot; &quot; &quot; &quot;&quot; &quot;&quot; &quot;&quot; &quot; &quot; &quot;&quot; 원래 스트림 모드부터 만들어주는데... ', 'bloggername': 'UCA수퍼컴퓨팅학원', 'bloggerlink': 'blog.naver.com/ulsancoding', 'postdate': '20240425'}, {'title': '체험가능, 15조 이상의 토큰으로 훈련된 <b>Llama3</b>의 성능', 'link': 'https://blog.naver.com/imkyungwon/223429584171', 'description': \"<b>Llama 3</b> 그로크 Groq로 간편하게 체험하는 라마 3 그로크 Groq로 간편하게 체험하는 라마 3 (<b>Llama 3</b>)의... 페이지 상단에서 '<b>Llama3</b>-8B' 모델과 '70B' 모델 중 원하는 모델을 선택하고, 선택한 모델을 사용해... \", 'bloggername': '워나워드 언어정원', 'bloggerlink': 'blog.naver.com/imkyungwon', 'postdate': '20240428'}, {'title': 'Meta <b>Llama</b> 라마 <b>3</b> 오픈 소스 공개 2', 'link': 'https://blog.naver.com/john1210/223421614273', 'description': '결합하여 훈련 효율을 Llama(라마) 2보다 3배 향상시켰다고 설명했습니다. 다음 포스팅에서 이어나가겠습니다. AI 시대에 가장 인간답게.. #<b>Llama3</b> #라마 3 #Meta #메타 #페이스북 #인스타그램 #메타AI챗봇', 'bloggername': '인공지능 읽어주는 남자', 'bloggerlink': 'blog.naver.com/john1210', 'postdate': '20240421'}, {'title': 'meta AI 모델 <b>Llama</b> 다운로드 방법 안내 (git clone 이용)', 'link': 'https://blog.naver.com/jonghong0316/223553391650', 'description': 'download.sh를 실행하여 모델을 받으면 됩니다. 이때, 아래와 같이 URL을 입력할 것을 요청 받으면, 메일로 받은 URL를 입력해주세요. #meta #ai #llama #<b>llama3</b> #<b>llama3</b>', 'bloggername': '•_•', 'bloggerlink': 'blog.naver.com/jonghong0316', 'postdate': '20240819'}, {'title': 'and private access to GPT-3.5,Claude3,<b>Llama3</b>and Mixtral', 'link': 'https://blog.naver.com/sunggonk/223472432002', 'description': '[betanews] DuckDuckGo AI Chat gives anonymous and private access to GPT-3.5, Claude 3, <b>Llama 3</b> and Mixtral By Sofia Elizabella Wyciślik-Wilson For all of the excitement currently... ', 'bloggername': 'LIGHTHOUSE', 'bloggerlink': 'blog.naver.com/sunggonk', 'postdate': '20240608'}, {'title': 'Meta, 새로운 <b>Llama 3</b>.1로 오픈 소스 AI로 한 걸음 더 다가가다... ', 'link': 'https://blog.naver.com/taiyoungpd/223676749514', 'description': 'Meta, 새로운 <b>Llama 3</b>.1로 오픈 소스 AI로 한 걸음 더 다가가다 Meta의 4050억 매개변수 모델이 정말 오픈소스일까요? 누구에게 묻느냐에 따라 다릅니다. 새로운 엔진을 직접 사용해 보는 방법은 다음과... ', 'bloggername': '이태영감독', 'bloggerlink': 'blog.naver.com/taiyoungpd', 'postdate': '20241129'}, {'title': '메타플랫폼스 AI엔진 라마 성능( <b>LLaMa 3</b> )', 'link': 'https://blog.naver.com/whathk/223425833895', 'description': '메타 AI : LLaMa 1,2,3 변천사 출처 : MADE VISUAL META는 4월 최신 <b>LLaMa 3</b> AI 엔진을 출시했는데, 이전 1,2 버전과 매개변수 수를 기준으로 비교한 것 입니다. AI에 대한 마크 저커버그의 접근 방식은 AI업계와... ', 'bloggername': '미주e해', 'bloggerlink': 'blog.naver.com/whathk', 'postdate': '20240424'}, {'title': 'LM Studio 사용하기: <b>Llama</b> 모델 실행 튜토리얼', 'link': 'https://blog.naver.com/gisandpython/223735388805', 'description': '<b>Llama</b> 모델 파일(.bin 형식) --- <b>3</b>. LM Studio 설치 방법 1) LM Studio 다운로드 LM Studio 공식 웹사이트에서 운영체제에 맞는 설치 파일을 다운로드합니다. 예: Windows용 .exe 파일, macOS용 .dmg 파일 등. 2)... ', 'bloggername': 'GeoInformatics & Data Intergaration & GeoBIM 세상', 'bloggerlink': 'blog.naver.com/gisandpython', 'postdate': '20250123'}, {'title': 'Google Colab에서 <b>Llama3</b>를 test 240419', 'link': 'https://blog.naver.com/carrier00/223420473504', 'description': '<b>Llama3</b>의 모델 「<b>Llama 3</b>」에서는 현재, 다음의 4 종류의 모델이 제공되고 있습니다. ・meta-llama/Meta-<b>Llama</b>-<b>3</b>-8B ・meta-llama/Meta-<b>Llama</b>-<b>3</b>-8B-Instruct ・meta-llama/Meta-<b>Llama</b>-<b>3</b>-70B ・meta-llama... ', 'bloggername': 'EddyLab', 'bloggerlink': 'blog.naver.com/carrier00', 'postdate': '20240419'}, {'title': 'Meta, <b>Llama 3</b>.1 공개', 'link': 'https://blog.naver.com/cyberpass/223523607816', 'description': '<b>Llama 3</b>.1는 컨텍스트 길이를 128K로 확장하고 8개 언어를 지원하며 최초의 프론티어급 오픈 소스 AI 모델인 405B를 포함 최고의 비공개 소스 모델에 필적하는 탁월한 유연성, 제어 및 최신 기능을 갖춘 Llama... ', 'bloggername': '디지털 세상으로..', 'bloggerlink': 'blog.naver.com/cyberpass', 'postdate': '20240724'}, {'title': '<b>Llama 3</b>종 영어 원서 음원', 'link': 'https://blog.naver.com/hshong3173/223740408898', 'description': '작가 Jonathan Stutzman 북레벨(AR)2.9 1 <b>Llama</b> Destroys the World 2 <b>Llama</b> Unleashes the Alpacalypse <b>3</b> <b>Llama</b> Rocks the Cradle of Chaos #<b>Llama</b> #LlamaDestroystheWorld #LlamaUnleashestheAlpacalypse #LlamaRockstheCradleofChaos... ', 'bloggername': '잠수네 영어음원', 'bloggerlink': 'blog.naver.com/hshong3173', 'postdate': '20250127'}, {'title': 'Meta, 초경량 대규모 언어 모델 ‘<b>Llama 3</b>.3’ 공개', 'link': 'https://blog.naver.com/nsjkim/223691650542', 'description': \"Meta, 초경량 대규모 언어 모델 ‘<b>Llama 3</b>.3’ 공개 Meta가 새로운 오픈소스 대규모 언어 모델 '<b>Llama 3</b>.3'을 공개했습니다. <b>Llama 3</b>.3은 이전 모델인 <b>Llama 3</b>.1의 4,050억 개 파라미터 모델과 비교하여... \", 'bloggername': 'comphy [ 김성준 ]', 'bloggerlink': 'blog.naver.com/nsjkim', 'postdate': '20241213'}, {'title': 'Meta의 <b>llama3</b> 관련 발표 논문 요약', 'link': 'https://blog.naver.com/sealitive11/223612384749', 'description': '<b>Llama3</b>에 대한 연구내용이 있길래 자세히 알아보기 위해 그 내용을 여러분께 요약해 드리겠습니다. <b>LLaMA 3</b> 개요 <b>LLaMA 3</b>는 Meta에서 개발한 멀티모달 언어 모델로, 단순한 텍스트 처리 능력뿐만 아니라 다양한... ', 'bloggername': '셔플 모의고사(온라인) - 공식블로그', 'bloggerlink': 'blog.naver.com/sealitive11', 'postdate': '20241009'}, {'title': '라마3 70B (<b>llama</b> 70B) API 코딩 --(1)', 'link': 'https://blog.naver.com/ulsancoding/223423131887', 'description': 'py #라마3 #<b>llama3</b> #meta.ai #70b #api #코딩 #텔레그램 #telegram #ollama #openAI #sionic #아이브 #안유진 #울산파이썬 #울산python #울산코딩아카데미 #UCA수퍼컴아카데미 #xionic-ko-<b>llama</b>-<b>3</b>-70b #sionic', 'bloggername': 'UCA수퍼컴퓨팅학원', 'bloggerlink': 'blog.naver.com/ulsancoding', 'postdate': '20240422'}, {'title': '[AI] <b>llama3</b> 와 streamlit을 이용해서 영문컬럼명을... ', 'link': 'https://blog.naver.com/dmzone75/223447368205', 'description': '아래에 ollama에 <b>llama3</b>를 적용했다면.. 이걸 프로그램밍해서 적용하는 것을 좀 고민해 볼때다. 그래서.. 저자는 영문 컬럼명을 한글명으로 변경하는 것을 좀 작성해봤다. 화면 UI는 streamlit을... ', 'bloggername': '나의 작은 습관', 'bloggerlink': 'blog.naver.com/dmzone75', 'postdate': '20240515'}, {'title': '개의 파라미터를 갖춘 가장 강력한 AI 모델 <b>Llama 3</b>.1 출시', 'link': 'https://blog.naver.com/john1210/223523996417', 'description': '<b>Llama 3</b>.1 (사진 출처 : Meta) 인공지능 읽어주는 남자입니다. 메타가 오픈 소스 Llama의 대규모 언어... AI는 우리 곁에 성큼 다가와 있습니다. AI 시대에 가장 인간답게.. #메타 #Meta #<b>Llama3</b>.1 #오픈소스LLM', 'bloggername': '인공지능 읽어주는 남자', 'bloggerlink': 'blog.naver.com/john1210', 'postdate': '20240725'}, {'title': 'META <b>Llama3</b> 국내 사용법 (ChatGPT4를 능가하는 AI 챗봇)', 'link': 'https://blog.naver.com/ssonyongyong/223424335618', 'description': '바로 META <b>Llama3</b>로 갈아탈 궁리를 하는 중이다. META Llama 공식 페이지에 들어가면 아직 우리나라에... 사용이 가능하다는 사실!! <b>LLaMA 3</b> 70B로 갈아타서 284 tokens/s의 처리 속도를 경험해보자!!! GroqChat', 'bloggername': '좋아하는 것들 모음', 'bloggerlink': 'blog.naver.com/ssonyongyong', 'postdate': '20240423'}, {'title': '[ML] Welcome <b>Llama 3</b> - Meta’s new open LLM', 'link': 'https://blog.naver.com/horajjan/223420252722', 'description': '8B 모델은 GPT-3.5보다 약간 나은 수준, 70B는 성능이 거의 GPT-4와 Claude 3 Opus에 육박 블로그: https://huggingface.co/blog/<b>llama3</b> 모델: https://huggingface.co/models?other=<b>llama</b>-<b>3</b> 채팅 데모: https... ', 'bloggername': '조원호의 행복공간', 'bloggerlink': 'blog.naver.com/horajjan', 'postdate': '20240419'}, {'title': 'nvidia nemotron (<b>llama</b>-<b>3</b>_1)', 'link': 'https://blog.naver.com/kreun/223683339322', 'description': 'https://build.nvidia.com/nvidia/<b>llama</b>-<b>3</b>_1-https://build.nvidia.com/nvidia/<b>llama</b>-<b>3</b>_1-nemotron-70b-instruct?snippet_tab=Node-70b-instruct?snippet_tab=Node 되긴 하는데? 속도도 느리고. nvidia면 엄청 빠른 성능을 낼 줄... ', 'bloggername': 'k r e u n @ w r s t o r y', 'bloggerlink': 'blog.naver.com/kreun', 'postdate': '20241205'}, {'title': 'Meta, ‘라마3(<b>Llama 3</b>)’ 오픈소스 공개!', 'link': 'https://blog.naver.com/psb_0902/223428942779', 'description': '19일 메타가 자사의 최신 대규모 언어 모델(LLM) ‘라마3(<b>Llama 3</b>)’을 오픈소스로 공개했습니다. 공개된 라마3은 사전훈련과 미세조정을 마친 80억 개와 700억 개 매개변수 모델 2가지입니다. 업체에 따르면... ', 'bloggername': 'Numerous IT 이야기', 'bloggerlink': 'blog.naver.com/psb_0902', 'postdate': '20240427'}, {'title': '메타 <b>llama 3</b> 공개, 이 분야는 흐름 진짜 빠릅니다', 'link': 'https://blog.naver.com/unkarma/223420373628', 'description': '<b>llama 3</b>(라마3), mistral 8x22B 및 wizardlm-2 8x22B, c4ai command 시리즈가 최근 등장했습니다. 진짜로... 특히 영어권에서 <b>llama3</b> 8b 크기 모델이 호평을 받고 있습니다. #4월은잔인한달 #라마3 #<b>llama3</b>... ', 'bloggername': '다시 낙관? 비관? 썰 푸는 블로그', 'bloggerlink': 'blog.naver.com/unkarma', 'postdate': '20240419'}, {'title': 'Meta <b>Llama</b> 라마 <b>3</b> 오픈 소스 공개 1', 'link': 'https://blog.naver.com/john1210/223421583404', 'description': '메타 <b>Llama 3</b> (사진 출처 : 벤처비트) 인공지능 읽어주는 남자입니다. 메타가 오픈 소스... AI 시대에 가장 인간답게.. #<b>Llama3</b> #라마3 #Meta #메타 #페이스북 #인스타그램 #메타챗봇', 'bloggername': '인공지능 읽어주는 남자', 'bloggerlink': 'blog.naver.com/john1210', 'postdate': '20240420'}, {'title': '<b>Llama 3</b>.3 70B Instruct 설명과 실행하기', 'link': 'https://blog.naver.com/beyond-zero/223686109445', 'description': '관련 URL: https://ollama.com/library/<b>llama3</b>.3:70b 바로 <b>Llama 3</b>.3 70B를 실행해 봅시다. &quot;&quot; ③ MLX 사용하기 macOS를 사용하는 독자를 대상으로만 하며 RAM은 64GB이상만 가능합니다. 우선 모델을... ', 'bloggername': 'ZeR0 기술 블로그', 'bloggerlink': 'blog.naver.com/beyond-zero', 'postdate': '20241208'}, {'title': 'Meta AI의 Llama 2 대 <b>Llama 3</b>: 차세대 언어 모델 비교 분석', 'link': 'https://blog.naver.com/gamsa14/223427555096', 'description': '이 글에서는 Llama 2와 3 모델의 주요 특징과 성능을 비교하고, 언어 모델 개발의 역사적 배경과 각... #MetaAI #Llama2 #<b>Llama3</b> #언어모델 #AI #인공지능 #기술혁신 #NLP #벤치마크테스트 #데이터과학 #AI개발... ', 'bloggername': '글로벌 트렌드와 사는 이야기들', 'bloggerlink': 'blog.naver.com/gamsa14', 'postdate': '20240426'}, {'title': '[빅데이터과] 한국폴리텍 서울강서캠퍼스 Meta <b>Llama3</b> 특강... ', 'link': 'https://blog.naver.com/kangseokopo/223467244409', 'description': 'ChatGPT, LLAMA 등이 있습니다. 주요 진행 내용은 &quot;FineTuning&quot;과 &quot;<b>Llama3</b> &amp; Langserve&quot; 실습이었습니다. 이번 Meta <b>Llama3</b> 특강을 통해, LLM의 개념부터 LangServe 실습까지 거대 언어 모델에 대한 이해를... ', 'bloggername': '한국폴리텍대학 서울강서캠퍼스', 'bloggerlink': 'blog.naver.com/kangseokopo', 'postdate': '20240603'}, {'title': '메타 라마3(<b>Llama3</b>) 8B 한글 요약 모델 파인튜닝 구현과... ', 'link': 'https://blog.naver.com/se2n/223421081812', 'description': '라마3(<b>Llama3</b>) 모델이 공개되었습니다. 우선 현재 LLM 모델로는 8B와 70B 모델이 공개되었습니다.... 메타 <b>Llama</b>-<b>3</b>-8B-Instruct 모델을 페이지에서 신청을 하셔야 합니다. 신청하고 일정 시간이 지나면... ', 'bloggername': 'another blog for seen', 'bloggerlink': 'blog.naver.com/se2n', 'postdate': '20240419'}, {'title': 'Ollama (<b>Llama 3</b>.2, llava-<b>llama3</b>, llama-phi3)... ', 'link': 'https://blog.naver.com/beyond-zero/223655118974', 'description': \"⑴ 비교할 VLM <b>Llama3</b>.2-Vision <b>Llama 3</b>.2-Vision은 11B 및 90B 파라미터 크기의 instruct 튜닝된 이미지 추론 생성 모델을 포함하는 멀티모달 LLM입니다. Meta mllama 아키텍처 모델입니다. 'ollama... \", 'bloggername': 'ZeR0 기술 블로그', 'bloggerlink': 'blog.naver.com/beyond-zero', 'postdate': '20241111'}, {'title': '<b>llama3</b> 성능 미췬..', 'link': 'https://blog.naver.com/htk1019/223423317200', 'description': '<b>llama3</b>에 테슬라 주식에 대한 분석을 시켜봤다. &quot;&quot; &quot;&quot; &quot; &quot; &quot;&quot; 답변이 이렇다. . . . . . . 옛날에는 어떠했었냐면..(llama2 버전) 아예 못써먹을 수준이라 그냥 쓸생각도 안했었다. 그러나 이제는 사용을... ', 'bloggername': '엉드루 블로그', 'bloggerlink': 'blog.naver.com/htk1019', 'postdate': '20240422'}, {'title': '[<b>LLAMA3</b>] 메타의 <b>LLAMA 3</b>, 무료 사용 가능!!', 'link': 'https://blog.naver.com/ritardo76/223455191613', 'description': \"메타의 최신 오픈 소스 <b>LLAMA 3</b> 모델은 AI 업계를 놀라게 하고 있습니다. <b>LLAMA 3</b>은 800억 개와 700억 개의 매개변수를 가진 최고의 성능을 자랑하는데, 이 모델은 어떤 면에서 다른 EI 거인인 '오픈 AI... \", 'bloggername': '코딩버스', 'bloggerlink': 'blog.naver.com/ritardo76', 'postdate': '20240522'}, {'title': '[LLM] <b>Llama3</b>에 open webui를 적용해서 사용하기... ', 'link': 'https://blog.naver.com/joycat38/223436046344', 'description': '무료버전인 ChatGPT 3.5 버전 만을 사용하다가 유료버전으로 넘어갈까 고민중이었다. 예전보다... 정보를 제공한다는 것을 알았다. 신기하네. 터미널 vs OpenWebUi Llama 가독성 비교 #<b>Llama3</b> #OpenWebUi', 'bloggername': '살다가 하는 것들', 'bloggerlink': 'blog.naver.com/joycat38', 'postdate': '20240504'}, {'title': 'Meta의 <b>Llama 3</b>', 'link': 'https://blog.naver.com/cyberpass/223423363436', 'description': '대화 능력, 훨씬 더 긴 맥락 창, 전반적으로 더 강력한 기능 등 새로운 기능을 갖춘 여러 모델을 출시할 예정임 <b>Llama 3</b> 학습이 완료되면 상세한 연구 논문도 게재할 예정임 출처 https://llama.meta.com/<b>llama3</b>/', 'bloggername': '디지털 세상으로..', 'bloggerlink': 'blog.naver.com/cyberpass', 'postdate': '20240422'}, {'title': '패스트캠퍼스 + The RED : 김형진의 <b>LLaMa3</b> &amp; 오픈소스... ', 'link': 'https://blog.naver.com/opmorn/223683857309', 'description': '완강한 느낌 <b>LLaMA3</b>와 오픈소스 LLM에 대한 심도 있게 학습 할 수 있어서 아주 좋았습니다. 특히... 강의 마무리 시점에 <b>Llama 3</b>.1이 출시 되었습니다. Part하나를 추가하여 강의를 해 주셔서 무척 고맙게... ', 'bloggername': '50대 개발자 준의 인공지능 개발 이야기', 'bloggerlink': 'blog.naver.com/opmorn', 'postdate': '20241205'}, {'title': '[ML] <b>Llama 3</b>.1: The <b>Llama 3</b> Herd of Models (PR-270)', 'link': 'https://blog.naver.com/horajjan/223524499577', 'description': 'Meta <b>Llama 3</b>.1 405B, 70B 및 8B 출시 -&gt; 다국어 및 128K 컨텍스트 및 도구 사용 + 에이전트 포함! : GPT4o 및 Claude Sonnet 3.5를 능가하는 최고의 오픈 LLM ? - Meta <b>Llama 3</b>.1 은 8B, 70B, 405B의 3가지... ', 'bloggername': '조원호의 행복공간', 'bloggerlink': 'blog.naver.com/horajjan', 'postdate': '20240725'}, {'title': '메타 <b>Llama 3</b> &amp; Meta AI', 'link': 'https://blog.naver.com/economic_moat/223420295528', 'description': '- 2024년 4월 18일 메타에서 <b>Llama3</b>와 이를 적용한 Meta AI를 공개했습니다. 라마3는 최첨단 오픈 소스... 모델 Llama 2 <b>Llama 3</b> GPT-4 Turbo Claude 2.1 Gemini 1.5 Pro 컨텍스트 윈도우 (토큰) 4,096 8,192 128,000 200,000 1M... ', 'bloggername': '세상의 특별한 변화에 주목하는 블로그', 'bloggerlink': 'blog.naver.com/economic_moat', 'postdate': '20240419'}, {'title': 'Meta의 <b>llama3</b> 파이썬에서 사용하기', 'link': 'https://blog.naver.com/ajkun/223434041197', 'description': '80억 파라미터를 갖는 <b>llama3</b> 8B를 내 PC에서 사용할 수있다.(외부 연결 없이) ollama.com에서 ollama 설치파일 다운로드 ollama pull <b>llama3</b> 실행하여 <b>llama3</b> 모델 다운로드(용량이 커서... ', 'bloggername': '톨창고', 'bloggerlink': 'blog.naver.com/ajkun', 'postdate': '20240502'}, {'title': '<b>Llama3</b> 를 colab에서 돌려보자! - 나만의 chatGPT를 가져보자', 'link': 'https://blog.naver.com/chensi/223430967320', 'description': 'Meta에서 <b>Llama3</b>가 공개되었어요. 저는 별로 궁금하지 않지만 다들 관심이 많길래 저도... &quot; &quot; &gt; 3. 모델을 다운받고 로드합니다. &quot;&quot; &quot;&quot; &quot;&quot; &quot;&quot; &quot;&quot; &quot;&quot; &quot;&quot; &quot;&quot; &quot;&quot; &quot;&quot; &quot;&quot; 음? 요즘 핫한 모델들이 여기 다... ', 'bloggername': '슈니발렌', 'bloggerlink': 'blog.naver.com/chensi', 'postdate': '20240429'}, {'title': 'Meta의 <b>LLaMA 3</b>(Large Language Model Meta AI), 8B, 70B... ', 'link': 'https://blog.naver.com/qwer5218/223458733747', 'description': 'Meta의 <b>LLaMA 3</b>(Large Language Model Meta AI)은 2024년 4월 18일에 공식 출시되었습니다. 이 모델은 두 가지 크기, 즉 80억(8B)과 700억(70B) 매개변수를 가지며, 4000억 매개변수 모델도 현재 개발 중에 있습니다... ', 'bloggername': 'IT 따라잡기', 'bloggerlink': 'blog.naver.com/qwer5218', 'postdate': '20240526'}, {'title': '[NVIDIA NEWS] NVIDIA의 기술, Meta <b>Llama3</b> 추론 최적화', 'link': 'https://blog.naver.com/mdstec_nvidia/223430443223', 'description': '<b>Llama3</b>는 초기 테스트에서 단일 NVIDIA H200 Tensor Core GPU로 약 3,000개의 토큰을 생성할 수 있습니다. · 커뮤니티 모델 고도화 : NVIDIA는 오픈 소스를 통해 AI 투명성을 촉진하고 사용자가 AI... ', 'bloggername': 'MDS테크가 운영하는 AI 블로그', 'bloggerlink': 'blog.naver.com/mdstec_nvidia', 'postdate': '20240429'}, {'title': '<b>Llama3</b>가 장안의 화제인 이유', 'link': 'https://blog.naver.com/dot_connector/223429166912', 'description': '<b>Llama3</b>가 장안의 화제인 이유를 요약하면 다음과 같다. 첫째, 추론을 잘 한다. 즉, 성능이 좋다... 했나봐요 참고 문헌 - Meta AI Blog. (2024, April 26). Meta <b>Llama 3</b> [Blog post]. Retrieved from https://ai.meta.com/blog/meta-<b>llama</b>-<b>3</b>/', 'bloggername': '닷커넥터의 지식과 경험의 발자국', 'bloggerlink': 'blog.naver.com/dot_connector', 'postdate': '20240427'}, {'title': '로컬에서 <b>Llama3</b>-8B 모델 돌려보기 - Ollama', 'link': 'https://keistory.tistory.com/1329', 'description': '모델준비 먼저 <b>Llama3</b>-8B 모델을 다운 받아야합니다. https://huggingface.co/QuantFactory/Meta-<b>Llama</b>-<b>3</b>-8B-Instruct-GGUF-v2/tree/main QuantFactory/Meta-<b>Llama</b>-<b>3</b>-8B-Instruct-GGUF-v2 at main huggingface.co... ', 'bloggername': 'KeiStory', 'bloggerlink': 'https://keistory.tistory.com/', 'postdate': '20240615'}, {'title': '<b>llama3</b> 한국어 언어 모델 다운 받아 연결하기', 'link': 'https://keistory.tistory.com/1430', 'description': '아래 한글 모델도 참고하세요 https://huggingface.co/MLP-KTLim/<b>llama</b>-<b>3</b>-Korean-Bllossom-8B MLP-KTLim/<b>llama</b>-<b>3</b>-Korean-Bllossom-8B · Hugging Face Update! [2024.08.09] <b>Llama3</b>.1 버전을 기반으로한 Bllossom-8B로... ', 'bloggername': 'KeiStory', 'bloggerlink': 'https://keistory.tistory.com/', 'postdate': '20240901'}, {'title': '라마3(<b>Llama3</b>) 사용해 보기', 'link': 'https://keistory.tistory.com/1178', 'description': 'https://llama.meta.com/<b>llama3</b>/ Meta <b>Llama 3</b> Build the future of AI with Meta <b>Llama 3</b>. Now available with both 8B and 70B pretrained and instruction-tuned versions to support a wide range of applications. llama.meta.com... ', 'bloggername': 'KeiStory', 'bloggerlink': 'https://keistory.tistory.com/', 'postdate': '20240423'}, {'title': '내 PC에서 ollama를 사용하여 <b>llama3</b> 모델 실행하기', 'link': 'https://chan7ee.tistory.com/399', 'description': 'ollama - <b>llama3</b>, phi3, mistral, gemma ollama를 다운로드하여 설치하고, <b>llama3</b> 모델을 실행하는 방법을 단계별 설명. 또한 다른 ollama 모델과 모델 라이브러리에 대해서도 소개. ollama 사용하기... ', 'bloggername': \"Chan's life\", 'bloggerlink': 'https://chan7ee.tistory.com/', 'postdate': '20240510'}, {'title': '<b>Llama 3</b> … 한국어 성능은?? – 웹 개발자 이야기', 'link': 'https://benant.wordpress.com/2024/04/22/llama-3-%ED%95%9C%EA%B5%AD%EC%96%B4-%EC%84%B1%EB%8A%A5%EC%9D%80/', 'description': 'AI <b>Llama 3</b> … 한국어 성능은?? 와~~~ 이제는 뭐 나오면 바로 영상이 나옵니다. ㅎㅎㅎ <b>Llama 3</b> 모델이 공개 되었습니다. 그런데 Llama2 에서 한국어 처리가 거시기 해서 사용을 못했는데요. <b>Llama 3</b>에서는... ', 'bloggername': '웹 개발자 이야기 – 웹 사이트 개발자의 평범한 이야기들입니다.', 'bloggerlink': 'https://benant.wordpress.com/', 'postdate': '20240422'}, {'title': '<b>Llama3</b> prompt template', 'link': 'https://sunshout.tistory.com/2029', 'description': '<b>Llama3</b> 의 Prompt Template에 따른 결과값의 차이가 얼만큼 다른지 테스트... com/docs/model-cards-and-prompt-formats/meta-<b>llama</b>-<b>3</b>/ Meta <b>Llama 3</b> | Model Cards and Prompt formats... ', 'bloggername': 'Deep dive into Kernel', 'bloggerlink': 'https://sunshout.tistory.com/', 'postdate': '20240429'}, {'title': 'sionic ai 에서 제공하는 <b>llama3</b> 한국어 모델 사용해 보기', 'link': 'https://keistory.tistory.com/1352', 'description': 'sionic ai 에서 제공하는 <b>llama3</b> 한국어 모델 사용해 보기 sionic ai 에서는 <b>llama3</b> 한국어 모델을 배포하고 있습니다. https://github.com/sionic-ai/xionic-ko-<b>llama</b>-<b>3</b>-70b GitHub... ', 'bloggername': 'KeiStory', 'bloggerlink': 'https://keistory.tistory.com/', 'postdate': '20240628'}, {'title': '[AI] <b>Llama 3</b> 를 사용해보자', 'link': 'https://kchc.tistory.com/2545', 'description': '설정에서 모델탭에 Pull a model from ollama.com 에서 <b>llama3</b>를 다운로드 하여 진행 하시면 됩니다. 좀더 자세한 내용은 https://collabnix.com/getting-started-with-<b>llama</b>-<b>3</b>/ 방문하시면 자세한 정보를... ', 'bloggername': 'K. C. H.', 'bloggerlink': 'https://kchc.tistory.com/', 'postdate': '20240429'}, {'title': '<b>Llama 3</b> + Groq – 웹 개발자 이야기', 'link': 'https://benant.wordpress.com/2024/04/26/llama-3-groq/', 'description': 'AI <b>Llama 3</b> + Groq 대박입니다. 이건뭐 … groq에 <b>Llama 3</b>가 적용되는 것은 생각 못했습니다. 와~~ 속도 보이시나요? &gt;= 10 T/s 정도면 로컬에서 챗봇으로 쓸만하다 … 인데요. 이정도면 그냥 리얼타임... ', 'bloggername': '웹 개발자 이야기 – 웹 사이트 개발자의 평범한 이야기들입니다.', 'bloggerlink': 'https://benant.wordpress.com/', 'postdate': '20240426'}, {'title': 'Visual Studio Code에서 <b>llama 3</b>.2 사용하기 &quot;샤쿠 개발... ', 'link': 'https://syaku.tistory.com/422', 'description': '모델 다운로드 및 실행 터미널을 열고 다음 명령어로 원하는 모델을 다운로드합니다: ollama pull <b>llama3</b>:8b 다운로드가 완료되면 ollama serve 명령어로 Ollama 서버를 시작하고, ollama run <b>llama3</b>... ', 'bloggername': '샤쿠 블로그 \"샤쿠 개발 블로그 @syaku\"', 'bloggerlink': 'https://syaku.tistory.com/', 'postdate': '20241101'}, {'title': '[AI] <b>Llama 3</b> 로컬 설치하기', 'link': 'https://peterica.tistory.com/765', 'description': 'ㅁ 모듈 정보 및 다운로드 명령어 Model Parameters Size Download <b>Llama 3</b>.1 8B 4.7GB ollama run <b>llama3</b>.1 <b>Llama 3</b>.1 70B 40GB ollama run <b>llama3</b>.1:70b <b>Llama 3</b>.1 405B 231GB ollama run <b>llama3</b>.1:405b Phi... ', 'bloggername': '피터의 개발이야기', 'bloggerlink': 'https://peterica.tistory.com/', 'postdate': '20240829'}, {'title': '[GPT기술] <b>Llama</b>2 AI모델을 이용한 검색 기술에 활용하기', 'link': 'https://couplewith.tistory.com/555', 'description': '<b>Llama</b>-2-13B: 130억 개의 매개변수로 사전 학습 (최소 16GB의 RAM 필요) <b>3</b>. <b>Llama</b>-2-70B: 700억 개의 매개변수로 사전 학습 (32GB의 RAM 필요) 이 모델들은 연구와 상업적인 용도로... ', 'bloggername': 'AgileBus - IT 기술자를 위한 최신 기술 Trends', 'bloggerlink': 'https://couplewith.tistory.com/', 'postdate': '20240522'}, {'title': '[AI] GTP4 Local LLM 사용해보기(GPT4ALL, <b>Llama 3</b> 8B... ', 'link': 'https://peterica.tistory.com/778', 'description': 'ㅇ gpt4all을 설치하여 LLM인 <b>Llama 3</b> 8B을 이용하여 로컬 데이터를 학습하는 과정을 정리하였다. ㅁ gpt4all 설치 ㅇ GPT4ALL 홈페이지로 이동하여 설치파일을 다운한다. ㅇ 설치 파일을 실행하여 설치... ', 'bloggername': '피터의 개발이야기', 'bloggerlink': 'https://peterica.tistory.com/', 'postdate': '20240913'}, {'title': 'Meta: <b>Llama 3</b> 발표', 'link': 'https://yunwoong.tistory.com/326', 'description': \"매개변수 4,050억 개에 달하는 '<b>Llama 3</b>'는 오는 7월 출시할 예정입니다. Meta AI Meta AI Use Meta AI assistant to get things done, create AI-generated images for free, and get answers to any of your questions. Meta AI is built on Meta... \", 'bloggername': 'Be Original', 'bloggerlink': 'https://yunwoong.tistory.com/', 'postdate': '20240419'}, {'title': 'Meta <b>Llama 3</b>', 'link': 'https://likejazz.com/post/756657294178140160/meta-llama-3', 'description': 'Meta <b>Llama 3</b> Build the future of AI with Meta <b>Llama 3</b>. Now available with both 8B and 70B pretrained and instruction-tuned versions to support a wide ran Meta Llama 간밤에 메타에서 드디어 라마3를 공개했습니다. 역시나 기대했던... ', 'bloggername': 'The Missing Notes', 'bloggerlink': 'https://likejazz.com/', 'postdate': '19900101'}, {'title': '[FLOWBIT] Groq API의 적용기 #2 (<b>Llama3</b>의 프롬프트... ', 'link': 'https://apape1225.tistory.com/178', 'description': '2.3 <b>Llama3</b> 모델의 프롬프트 형식 <b>Llama3</b> 모델의 프롬프트 형식은 Meta의 공식 레퍼런스에서 가지고 왔다. https://www.llama.com/docs/model-cards-and-prompt-formats/meta-<b>llama</b>-<b>3</b>/ <b>Llama 3</b> | Model Cards... ', 'bloggername': 'Blog for Programming', 'bloggerlink': 'https://apape1225.tistory.com/', 'postdate': '20241215'}, {'title': '옵시디언에서 <b>Llama3</b>-70b 모델 사용하기', 'link': 'https://anpigon.tistory.com/462', 'description': '옵시디언에서 GroqCloud 서비스를 통해 <b>Llama3</b>-70b 모델을 설정하고 사용하는 방법을 소개해... 3. Prompts에서 시스템 프롬프트를 설정합니다. BMO/Prompts 경로에 노트를 생성하고 시스템... ', 'bloggername': '안피곤 성장블로그', 'bloggerlink': 'https://anpigon.tistory.com/', 'postdate': '20240427'}, {'title': '<b>Llama3</b>(라마3) 쉽게 사용해보기 (Feat. 올라마)', 'link': 'https://needjarvis.tistory.com/815', 'description': '라마(Llama)를 오픈하며 초거대 AI의 전쟁에 불이 붙고 있습니다. 여기에 MS가 ChatGPT와 독립한 버전인... 여기서 사용해볼 라마는 최근 라마3(<b>Llama3</b>)를 내놓으며, 이제 작은 기업도 ChatGPT 3.5 정도 수준의... ', 'bloggername': '자비스가 필요해', 'bloggerlink': 'https://needjarvis.tistory.com/', 'postdate': '20240430'}, {'title': '<b>Llama</b> - 로컬에서 생성형 AI를 돌려보자 (GPT4ALL)', 'link': 'https://dalseobi.tistory.com/211', 'description': '<b>Llama 3</b>.1은 매개변수에 따라 8B, 70B, 405B로 세 가지 모델을 가지고 있으며 다음과 같은 특징을 가집니다. <b>Llama 3</b>.1 405B : 높은 성능을 제공하며 연구, 합성 데이터 생성 등 대량의... ', 'bloggername': '달에 앉아있는 서비', 'bloggerlink': 'https://dalseobi.tistory.com/', 'postdate': '20240827'}, {'title': '주요 생성형 AI 비교: <b>LLaMA 3</b>, Gemini, Claude 3.5, GPT-4', 'link': 'https://u2dia.tistory.com/143', 'description': '**META <b>LLaMA 3</b>** - **특징**: LLaMA(라마) 3는 META AI Research(FAIR)가 개발한 최신 언어 모델로, 이전 버전인 LLaMA 2보다 향상된 성능과 더 큰 규모의 매개변수를 자랑합니다. - **장점**: - **대규모 학습 데이터... ', 'bloggername': 'U2DIA', 'bloggerlink': 'https://u2dia.tistory.com/', 'postdate': '20240807'}, {'title': '<b>Llama3</b> 출시 및 사용법, fine-tuning code :: DataCook', 'link': 'https://datacook.tistory.com/127', 'description': 'https://ai.meta.com/blog/meta-<b>llama</b>-<b>3</b>/ Introducing Meta <b>Llama 3</b>: The most capable openly available... This evaluation set contains 1,800 ai.meta.com 2024년 04월 19일 새벽에 출시된 <b>Llama3</b>... ', 'bloggername': 'DataCook :: DataCook', 'bloggerlink': 'https://datacook.tistory.com/', 'postdate': '20240419'}, {'title': 'Meta <b>Llama 3</b> Prompt (프롬프트 예시)', 'link': 'https://gaza.tistory.com/121', 'description': '요새 핫한 <b>Llama3</b>모델에 대한 간단한 Prompt 구조에 대한 설명을 남깁니다. 저같은 경우... 그런데 이 Pormpt가 그대로 <b>Llama3</b>에 적용이 되지는 않더군요.. 그리고 찾아보니 기본적인... ', 'bloggername': '일상의 끄적거림...', 'bloggerlink': 'https://gaza.tistory.com/', 'postdate': '20240512'}]}\n"
     ]
    }
   ],
   "source": [
    "import requests\n",
    "import pprint\n",
    "\n",
    "headers = {\n",
    "    'X-Naver-Client-Id': '_Jc5Vu9T9Sx8QJs_y6Mk',\n",
    "    'X-Naver-Client-Secret': '_wJEELYvtJ',\n",
    "}\n",
    "\n",
    "payload = {\n",
    "    'query': 'Llama 3',\n",
    "    'display': 100,\n",
    "    'sort': 'sim'\n",
    "}\n",
    "\n",
    "url = 'https://openapi.naver.com/v1/search/blog.json'\n",
    "\n",
    "res = requests.get(url, params=payload, headers=headers)\n",
    "if response.status_code == 200:\n",
    "    items_data = res.json()['items']\n",
    "    print(items_data)\n",
    "    # [{},{},{}]\n",
    "    \n",
    "    items_list = list()\n",
    "    item_list = []\n",
    "    for item in items_data:\n",
    "    #     print(item)\n",
    "        item_list.append(item['title'])\n",
    "        item_list.append(item['bloggername'])\n",
    "        item_list.append(item['description'])\n",
    "        item_list.append(item['bloggerlink'])\n",
    "        item_list.append(item['link'])\n",
    "    \n",
    "        items_list.append(item_list)\n",
    "        item_list = []\n",
    "    \n",
    "    print(items_list) #[[],[]]\n",
    "    \n",
    "    with open('data/nhnblog.txt','w',encoding=\"utf-8\")as file:\n",
    "        for items in items_list:\n",
    "            for item in items:\n",
    "                item = item + '\\n'\n",
    "                file.write(item)\n",
    "            file.write('-'*150+'\\n')\n",
    "else:\n",
    "    print(f\"Error Code: {response.status_code}\")            "
   ]
  }
 ],
 "metadata": {
  "kernelspec": {
   "display_name": "Python 3 (ipykernel)",
   "language": "python",
   "name": "python3"
  },
  "language_info": {
   "codemirror_mode": {
    "name": "ipython",
    "version": 3
   },
   "file_extension": ".py",
   "mimetype": "text/x-python",
   "name": "python",
   "nbconvert_exporter": "python",
   "pygments_lexer": "ipython3",
   "version": "3.12.4"
  }
 },
 "nbformat": 4,
 "nbformat_minor": 5
}
