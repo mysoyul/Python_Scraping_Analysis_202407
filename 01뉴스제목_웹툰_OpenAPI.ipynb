{
 "cells": [
  {
   "cell_type": "markdown",
   "id": "eb0bfa44",
   "metadata": {},
   "source": [
    "## 1. 뉴스제목 가져오기\n",
    "* user-agent 요청헤더를 반드시 설정해야 한다."
   ]
  },
  {
   "cell_type": "code",
   "execution_count": 1,
   "id": "f0d27781",
   "metadata": {},
   "outputs": [
    {
     "name": "stdout",
     "output_type": "stream",
     "text": [
      "Name: requests\n",
      "Version: 2.32.2\n",
      "Summary: Python HTTP for Humans.\n",
      "Home-page: https://requests.readthedocs.io\n",
      "Author: Kenneth Reitz\n",
      "Author-email: me@kennethreitz.org\n",
      "License: Apache-2.0\n",
      "Location: C:\\Users\\vega2\\anaconda3\\Lib\\site-packages\n",
      "Requires: certifi, charset-normalizer, idna, urllib3\n",
      "Required-by: anaconda-catalogs, anaconda-client, anaconda-cloud-auth, anaconda-project, conda, conda-build, conda-repo-cli, conda_package_streaming, cookiecutter, datashader, intake, jupyterlab_server, panel, requests-file, requests-toolbelt, Sphinx, streamlit, tldextract\n"
     ]
    }
   ],
   "source": [
    "!pip show requests"
   ]
  },
  {
   "cell_type": "code",
   "execution_count": 2,
   "id": "f7798ea8",
   "metadata": {},
   "outputs": [
    {
     "name": "stdout",
     "output_type": "stream",
     "text": [
      "Name: beautifulsoup4\n",
      "Version: 4.12.3\n",
      "Summary: Screen-scraping library\n",
      "Home-page: \n",
      "Author: \n",
      "Author-email: Leonard Richardson <leonardr@segfault.org>\n",
      "License: MIT License\n",
      "Location: C:\\Users\\vega2\\anaconda3\\Lib\\site-packages\n",
      "Requires: soupsieve\n",
      "Required-by: conda-build, nbconvert\n"
     ]
    }
   ],
   "source": [
    "!pip show beautifulsoup4"
   ]
  },
  {
   "cell_type": "code",
   "execution_count": 3,
   "id": "bf80a429",
   "metadata": {},
   "outputs": [],
   "source": [
    "import requests\n",
    "import bs4\n",
    "from bs4 import BeautifulSoup"
   ]
  },
  {
   "cell_type": "code",
   "execution_count": 4,
   "id": "9788d6ac",
   "metadata": {},
   "outputs": [
    {
     "name": "stdout",
     "output_type": "stream",
     "text": [
      "request ver 2.32.2\n",
      "beautifulsoup 4.12.3\n"
     ]
    }
   ],
   "source": [
    "print(f'request ver {requests.__version__}' )\n",
    "print('beautifulsoup {}'.format(bs4.__version__))"
   ]
  },
  {
   "cell_type": "markdown",
   "id": "ccb91def-cde3-4aeb-b0e5-2e7233500333",
   "metadata": {},
   "source": [
    "### 1. 뉴스 제목 추출하기"
   ]
  },
  {
   "cell_type": "code",
   "execution_count": 67,
   "id": "94c12fd6",
   "metadata": {},
   "outputs": [
    {
     "name": "stdout",
     "output_type": "stream",
     "text": [
      "https://news.naver.com/section/105\n",
      "<class 'requests.models.Response'>\n",
      "200\n",
      "44\n",
      "<class 'bs4.element.ResultSet'>\n"
     ]
    }
   ],
   "source": [
    "import requests\n",
    "import bs4\n",
    "from bs4 import BeautifulSoup\n",
    "\n",
    "# IT/과학 뉴스\n",
    "req_param = {\n",
    "    'sid': 105\n",
    "}\n",
    "url = 'https://news.naver.com/section/{sid}'.format(**req_param)\n",
    "print(url)\n",
    "# 요청 헤더 설정 : 브라우저 정보\n",
    "req_header = {\n",
    "    'user-agent': 'Mozilla/5.0 (Windows NT 10.0; Win64; x64) AppleWebKit/537.36 (KHTML, like Gecko) Chrome/104.0.0.0 Safari/537.36'\n",
    "}\n",
    "res = requests.get(url, headers=req_header)\n",
    "print(type(res))\n",
    "print(res.status_code)\n",
    "if res.ok:\n",
    "    html = res.text #소스보기 텍스트\n",
    "    soup = BeautifulSoup(html, 'html.parser')\n",
    "    # <div class=\"sa_text\">\n",
    "    # atag_list = soup.select(\"div.sa_text a[href*='https://n.news.naver.com/mnews/article']\")\n",
    "    atag_list = soup.select(\"div.sa_text a.sa_text_title\")\n",
    "    print(len(atag_list))\n",
    "    print(type(atag_list))\n",
    "    for atag in atag_list:\n",
    "        # print(atag)\n",
    "        title = atag.text\n",
    "        link = atag['href']\n",
    "        # print(f'{title}')\n",
    "        # print(f'기사링크 = {link}')"
   ]
  },
  {
   "cell_type": "code",
   "execution_count": 37,
   "id": "4461b9cc",
   "metadata": {},
   "outputs": [],
   "source": [
    "section_dict = {100:'정치',101:'경제',102:'사회',103:'생활/문화',104:'세계',105:'IT/과학'}"
   ]
  },
  {
   "cell_type": "markdown",
   "id": "45640860-a449-4285-90d7-5f300292b461",
   "metadata": {},
   "source": [
    "### 1.1 뉴스제목 추출하는 함수 선언하기"
   ]
  },
  {
   "cell_type": "code",
   "execution_count": 64,
   "id": "9f2e4ef8",
   "metadata": {},
   "outputs": [],
   "source": [
    "import requests\n",
    "from bs4 import BeautifulSoup\n",
    "\n",
    "def print_news(sid, section):    \n",
    "    # 요청 Parameter\n",
    "    req_param = {\n",
    "        'sid': sid\n",
    "    }\n",
    "    url = 'https://news.naver.com/section/{sid}'.format(**req_param)\n",
    "    \n",
    "    print(f'======> {url} {section} 뉴스 <======')\n",
    "    \n",
    "    # 요청 헤더 설정 : 브라우저 정보\n",
    "    req_header = {\n",
    "        'user-agent': 'Mozilla/5.0 (Windows NT 10.0; Win64; x64) AppleWebKit/537.36 (KHTML, like Gecko) Chrome/104.0.0.0 Safari/537.36'\n",
    "    }\n",
    "\n",
    "    res = requests.get(url, headers=req_header)   \n",
    "    if res.ok:\n",
    "        soup = BeautifulSoup(res.text, 'html.parser')\n",
    "        # <div class=\"sa_text\">\n",
    "        # atag_list = soup.select(\"div.sa_text a[href*='https://n.news.naver.com/mnews/article']\")\n",
    "        atag_list = soup.select(\"div.sa_text a.sa_text_title\")\n",
    "        print(len(atag_list))\n",
    "        \n",
    "        for atag in atag_list:\n",
    "            title = atag.text\n",
    "            link = atag['href']\n",
    "            # print(f'{title}')\n",
    "            # print(f'기사링크 = {link}')\n",
    "    else:\n",
    "        print(f'Error Code = {res.status_code}') "
   ]
  },
  {
   "cell_type": "code",
   "execution_count": 65,
   "id": "858952c6",
   "metadata": {},
   "outputs": [
    {
     "name": "stdout",
     "output_type": "stream",
     "text": [
      "======> https://news.naver.com/section/104 세계 뉴스 <======\n",
      "45\n"
     ]
    }
   ],
   "source": [
    "print_news(104,section_dict[104])"
   ]
  },
  {
   "cell_type": "markdown",
   "id": "323196dc",
   "metadata": {},
   "source": [
    "### 2. Image 다운로드\n",
    "* referer 요청 헤더를 반드시 설정해야 한다."
   ]
  },
  {
   "cell_type": "code",
   "execution_count": 47,
   "id": "c72d6cb1",
   "metadata": {},
   "outputs": [
    {
     "name": "stdout",
     "output_type": "stream",
     "text": [
      "writing to 20220804112251_d97bd1e1b38f0cd022e4e3639d2926b3_IMAG01_1.jpg(299,319 bytes)\n",
      "writing to 20220804112251_d97bd1e1b38f0cd022e4e3639d2926b3_IMAG01_2.jpg(163,333 bytes)\n",
      "writing to 20220804112251_d97bd1e1b38f0cd022e4e3639d2926b3_IMAG01_3.jpg(182,530 bytes)\n"
     ]
    }
   ],
   "source": [
    "import requests\n",
    "import os\n",
    "\n",
    "req_header = {\n",
    "    'referer':'https://comic.naver.com/webtoon/detail?titleId=798173&no=5&amp;weekday=thu'\n",
    "}\n",
    "img_urls = [\n",
    "    'https://image-comic.pstatic.net/webtoon/798173/5/20220804112251_d97bd1e1b38f0cd022e4e3639d2926b3_IMAG01_1.jpg',\n",
    "    'https://image-comic.pstatic.net/webtoon/798173/5/20220804112251_d97bd1e1b38f0cd022e4e3639d2926b3_IMAG01_2.jpg',\n",
    "    'https://image-comic.pstatic.net/webtoon/798173/5/20220804112251_d97bd1e1b38f0cd022e4e3639d2926b3_IMAG01_3.jpg'\n",
    "]\n",
    "\n",
    "for img_url in img_urls:\n",
    "    res = requests.get(img_url, headers=req_header)\n",
    "    if res.ok:        \n",
    "        img_data = res.content\n",
    "        file_name = os.path.basename(img_url)\n",
    "        # binday data를 file에 write하기\n",
    "        with open(file_name,'wb') as file:\n",
    "            print(f'writing to {file_name}({len(img_data):,} bytes)')\n",
    "            file.write(img_data)\n",
    "    else:\n",
    "        print(f'Error Code = {res.status_code}')         "
   ]
  },
  {
   "cell_type": "markdown",
   "id": "e8b00a04",
   "metadata": {},
   "source": [
    "* 현재 요청된 페이지의 image 모두 다운로드 해보기"
   ]
  },
  {
   "cell_type": "code",
   "execution_count": 55,
   "id": "b30f7bf5",
   "metadata": {},
   "outputs": [
    {
     "name": "stdout",
     "output_type": "stream",
     "text": [
      "18\n",
      "writing to 20240226100634_548bfa8f14799d53d45b5f12df1b289e_IMAG01_18.jpg(128,897 bytes)\n",
      "writing to 20240226100634_548bfa8f14799d53d45b5f12df1b289e_IMAG01_18.jpg(143,194 bytes)\n",
      "writing to 20240226100634_548bfa8f14799d53d45b5f12df1b289e_IMAG01_18.jpg(101,900 bytes)\n",
      "writing to 20240226100634_548bfa8f14799d53d45b5f12df1b289e_IMAG01_18.jpg(112,007 bytes)\n",
      "writing to 20240226100634_548bfa8f14799d53d45b5f12df1b289e_IMAG01_18.jpg(190,876 bytes)\n",
      "writing to 20240226100634_548bfa8f14799d53d45b5f12df1b289e_IMAG01_18.jpg(134,590 bytes)\n",
      "writing to 20240226100634_548bfa8f14799d53d45b5f12df1b289e_IMAG01_18.jpg(132,910 bytes)\n",
      "writing to 20240226100634_548bfa8f14799d53d45b5f12df1b289e_IMAG01_18.jpg(174,434 bytes)\n",
      "writing to 20240226100634_548bfa8f14799d53d45b5f12df1b289e_IMAG01_18.jpg(88,576 bytes)\n",
      "writing to 20240226100634_548bfa8f14799d53d45b5f12df1b289e_IMAG01_18.jpg(177,240 bytes)\n",
      "writing to 20240226100634_548bfa8f14799d53d45b5f12df1b289e_IMAG01_18.jpg(95,130 bytes)\n",
      "writing to 20240226100634_548bfa8f14799d53d45b5f12df1b289e_IMAG01_18.jpg(109,718 bytes)\n",
      "writing to 20240226100634_548bfa8f14799d53d45b5f12df1b289e_IMAG01_18.jpg(144,476 bytes)\n",
      "writing to 20240226100634_548bfa8f14799d53d45b5f12df1b289e_IMAG01_18.jpg(127,739 bytes)\n",
      "writing to 20240226100634_548bfa8f14799d53d45b5f12df1b289e_IMAG01_18.jpg(143,133 bytes)\n",
      "writing to 20240226100634_548bfa8f14799d53d45b5f12df1b289e_IMAG01_18.jpg(159,328 bytes)\n",
      "writing to 20240226100634_548bfa8f14799d53d45b5f12df1b289e_IMAG01_18.jpg(139,300 bytes)\n",
      "writing to 20240226100634_548bfa8f14799d53d45b5f12df1b289e_IMAG01_18.jpg(54,967 bytes)\n"
     ]
    }
   ],
   "source": [
    "import requests\n",
    "import os\n",
    "\n",
    "url = 'https://comic.naver.com/webtoon/detail?titleId=817945&no=37&week=mon'\n",
    "req_header = {\n",
    "    'referer': url\n",
    "}\n",
    "res = requests.get(url)\n",
    "if res.ok: #200\n",
    "    # xx.jpg 파일명 목록 가져오기\n",
    "    soup = BeautifulSoup(res.text, 'html.parser')\n",
    "    img_tags = soup.select(\"img[src*='IMAG01']\")\n",
    "    print(len(img_tags))\n",
    "    \n",
    "    img_url_list = list()\n",
    "    for img_tag in img_tags:\n",
    "        img_url_list.append(img_tag['src'])\n",
    "\n",
    "    imgdir_name = 'img'\n",
    "    # img 디렉토리가 없으면 생성\n",
    "    if not os.path.isdir(imgdir_name):\n",
    "        os.mkdir(imgdir_name)\n",
    "\n",
    "    for img_url in img_url_list:\n",
    "        res = requests.get(img_url, headers=req_header)\n",
    "        if res.ok:        \n",
    "            img_data = res.content\n",
    "            dir_name = os.path.join(imgdir_name, os.path.basename(img_url))\n",
    "            # binday data를 file에 write하기\n",
    "            with open(dir_name,'wb') as file:\n",
    "                print(f'writing to {file_name}({len(img_data):,} bytes)')\n",
    "                file.write(img_data)\n",
    "        else:\n",
    "            print(f'Error Code = {res.status_code}')         \n",
    "else:\n",
    "    print(res.status_code)"
   ]
  },
  {
   "cell_type": "markdown",
   "id": "2ac9f5f9",
   "metadata": {},
   "source": [
    "### 3. 파일 업로드 하기\n",
    "* http://httpbin.org/post 업로드 요청을 할 수 있는 url"
   ]
  },
  {
   "cell_type": "code",
   "execution_count": 69,
   "id": "04da4790",
   "metadata": {},
   "outputs": [
    {
     "name": "stdout",
     "output_type": "stream",
     "text": [
      "200\n"
     ]
    }
   ],
   "source": [
    "import requests\n",
    "\n",
    "upload_files = {\n",
    "    'img1': open('img/f1.jpg','rb'),\n",
    "    'img2': open('img/f2.jpg','rb'),\n",
    "}\n",
    "url = 'http://httpbin.org/post'\n",
    "res = requests.post(url, files=upload_files)\n",
    "print(res.status_code)\n",
    "#print(res.json()['files']['img1'])\n"
   ]
  },
  {
   "cell_type": "markdown",
   "id": "7ad65f12",
   "metadata": {},
   "source": [
    "### 4. 단축 URL 생성하는 Open API 사용하기\n",
    "* urllib 사용"
   ]
  },
  {
   "cell_type": "code",
   "execution_count": null,
   "id": "abbb0ebf",
   "metadata": {},
   "outputs": [],
   "source": [
    "import os\n",
    "import sys\n",
    "import urllib.request\n",
    "\n",
    "client_id = \"VUxpFYqcSowtohtzljMr\" # 개발자센터에서 발급받은 Client ID 값\n",
    "client_secret = \"y_J3QIAtu2\" # 개발자센터에서 발급받은 Client Secret 값\n",
    "encText = urllib.parse.quote(\"https://drive.google.com/drive/u/0/folders/1V_DK7Px5w_niEKLlWhDr_GPgIYHG3Du-\")\n",
    "data = \"url=\" + encText\n",
    "url = \"https://openapi.naver.com/v1/util/shorturl\"\n",
    "\n",
    "request = urllib.request.Request(url)\n",
    "request.add_header(\"X-Naver-Client-Id\",client_id)\n",
    "request.add_header(\"X-Naver-Client-Secret\",client_secret)\n",
    "\n",
    "response = urllib.request.urlopen(request, data=data.encode(\"utf-8\"))\n",
    "rescode = response.getcode()\n",
    "if(rescode==200):\n",
    "    response_body = response.read()\n",
    "    print(response_body.decode('utf-8'))\n",
    "else:\n",
    "    print(\"Error Code:\" + rescode)\n"
   ]
  },
  {
   "cell_type": "markdown",
   "id": "b7d984a6",
   "metadata": {},
   "source": [
    "* requests를 사용하는 코드로 변경하기\n",
    "* [requests docs](https://requests.readthedocs.io/en/latest/user/quickstart/)"
   ]
  },
  {
   "cell_type": "code",
   "execution_count": null,
   "id": "727b427b",
   "metadata": {
    "scrolled": true
   },
   "outputs": [],
   "source": [
    "import requests\n",
    "\n",
    "client_id = \"VUxpFYqcSowtohtzljMr\" # 개발자센터에서 발급받은 Client ID 값\n",
    "client_secret = \"y_J3QIAtu2\" # 개발자센터에서 발급받은 Client Secret 값\n",
    "\n",
    "origin_url = \"https://drive.google.com/drive/u/0/folders/1V_DK7Px5w_niEKLlWhDr_GPgIYHG3Du-\"\n",
    "\n"
   ]
  },
  {
   "cell_type": "markdown",
   "id": "d5e1179a",
   "metadata": {},
   "source": [
    "### 5. 블로그 검색하기"
   ]
  },
  {
   "cell_type": "code",
   "execution_count": null,
   "id": "877d0c7f",
   "metadata": {},
   "outputs": [],
   "source": [
    "import requests\n",
    "import pprint\n",
    "\n",
    "headers = {\n",
    "    'X-Naver-Client-Id': 'VUxpFYqcSowtohtzljMr',\n",
    "    'X-Naver-Client-Secret': 'y_J3QIAtu2',\n",
    "}\n",
    "\n",
    "payload = {\n",
    "    'query': '파이썬',\n",
    "    'display': 100,\n",
    "    'sort': 'sim'\n",
    "}\n",
    "\n",
    "url = 'https://openapi.naver.com/v1/search/blog.json'\n",
    "\n",
    "res = requests.get(url, params=payload, headers=headers)\n",
    "items_data = res.json()['items']\n",
    "#print(items_data)\n",
    "\n",
    "items_list = list()\n",
    "item_list = []\n",
    "for item in items_data:\n",
    "#     print(item)\n",
    "    item_list.append(item['title'])\n",
    "    item_list.append(item['bloggername'])\n",
    "    item_list.append(item['description'])\n",
    "    item_list.append(item['bloggerlink'])\n",
    "    item_list.append(item['link'])\n",
    "\n",
    "    items_list.append(item_list)\n",
    "    item_list = []\n",
    "\n",
    "print(items_list)\n",
    "\n",
    "with open('data/nhnblog.txt','w',encoding=\"utf-8\")as file:\n",
    "    for items in items_list:\n",
    "        for item in items:\n",
    "            item = item + '\\n'\n",
    "            file.write(item)\n",
    "        file.write('-'*150+'\\n')"
   ]
  }
 ],
 "metadata": {
  "kernelspec": {
   "display_name": "Python 3 (ipykernel)",
   "language": "python",
   "name": "python3"
  },
  "language_info": {
   "codemirror_mode": {
    "name": "ipython",
    "version": 3
   },
   "file_extension": ".py",
   "mimetype": "text/x-python",
   "name": "python",
   "nbconvert_exporter": "python",
   "pygments_lexer": "ipython3",
   "version": "3.12.4"
  }
 },
 "nbformat": 4,
 "nbformat_minor": 5
}
