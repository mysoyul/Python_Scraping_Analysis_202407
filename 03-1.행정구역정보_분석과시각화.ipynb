{
 "cells": [
  {
   "cell_type": "markdown",
   "id": "0",
   "metadata": {},
   "source": [
    "### 행정구역 정보 분석 및 시각화\n",
    "1. pandas의 read_csv() 함수로 csv file을 읽어서 DataFrame 객체로 생성하고 데이터 확인하기\n",
    "2. Data Selection : loc[] / iloc[] 를 사용해서 특정 Row와 Column 선택하기\n",
    "3. 컬럼명 변경하고, 컬럼 삭제하기\n",
    "4. DataFrame 객체를 Excel file로 저장하기\n",
    "5. Data Grouping : groupby() 함수를 사용해서 그룹핑하기\n",
    "6. 상관관계 분석 : corr() 함수를 사용해서 인구수와 면적간의 상관관계 \n",
    "7. 시각화 : seaborn의 barplot() 함수를 사용해서 Plot 그리기"
   ]
  },
  {
   "cell_type": "code",
   "execution_count": null,
   "id": "1",
   "metadata": {},
   "outputs": [],
   "source": [
    "import pandas as pd\n",
    "print(pd.__version__)"
   ]
  },
  {
   "cell_type": "code",
   "execution_count": null,
   "id": "2",
   "metadata": {},
   "outputs": [],
   "source": [
    "data = pd.read_csv('data/data_draw_korea.csv')\n",
    "print(type(data))\n",
    "# 행과열 확인\n",
    "print(data.shape)"
   ]
  },
  {
   "cell_type": "code",
   "execution_count": null,
   "id": "3",
   "metadata": {},
   "outputs": [],
   "source": [
    "data.head()"
   ]
  },
  {
   "cell_type": "code",
   "execution_count": null,
   "id": "4",
   "metadata": {},
   "outputs": [],
   "source": [
    "data.tail(3)"
   ]
  },
  {
   "cell_type": "code",
   "execution_count": null,
   "id": "5",
   "metadata": {},
   "outputs": [],
   "source": [
    "data.sample(3)"
   ]
  },
  {
   "cell_type": "code",
   "execution_count": null,
   "id": "6",
   "metadata": {},
   "outputs": [],
   "source": [
    "print(f'컬럼명 : {data.columns}')\n",
    "print(f'인덱스 : {data.index}')"
   ]
  },
  {
   "cell_type": "code",
   "execution_count": null,
   "id": "7",
   "metadata": {},
   "outputs": [],
   "source": [
    "print(type(data.values))\n",
    "data.values"
   ]
  },
  {
   "cell_type": "code",
   "execution_count": null,
   "id": "8",
   "metadata": {},
   "outputs": [],
   "source": [
    "data.info()"
   ]
  },
  {
   "cell_type": "code",
   "execution_count": null,
   "id": "9",
   "metadata": {},
   "outputs": [],
   "source": [
    "# 모든 컬럼의 타입 확인\n",
    "data.dtypes"
   ]
  },
  {
   "cell_type": "code",
   "execution_count": null,
   "id": "10",
   "metadata": {},
   "outputs": [],
   "source": [
    "# 특정컬럼(인구수)의 타입 확인\n",
    "print(type(data['인구수']))\n",
    "data['인구수'].dtypes"
   ]
  },
  {
   "cell_type": "code",
   "execution_count": null,
   "id": "11",
   "metadata": {},
   "outputs": [],
   "source": [
    "# import numpy as np\n",
    "# data.describe(include=[np.number]) 와 동일한 결과\n",
    "data.describe()  "
   ]
  },
  {
   "cell_type": "code",
   "execution_count": null,
   "id": "12",
   "metadata": {},
   "outputs": [],
   "source": [
    "data.describe(include=[object])"
   ]
  },
  {
   "cell_type": "code",
   "execution_count": null,
   "id": "13",
   "metadata": {},
   "outputs": [],
   "source": [
    "# 해당 조건식과 매칭되는 Row data 출력\n",
    "data.loc[data['행정구역'] == '동구']"
   ]
  },
  {
   "cell_type": "code",
   "execution_count": null,
   "id": "14",
   "metadata": {},
   "outputs": [],
   "source": [
    "data.describe(include='all')"
   ]
  },
  {
   "cell_type": "markdown",
   "id": "15",
   "metadata": {},
   "source": [
    "### Data Selection"
   ]
  },
  {
   "cell_type": "code",
   "execution_count": null,
   "id": "16",
   "metadata": {},
   "outputs": [],
   "source": [
    "# 인구수 1개의 컬럼 선택\n",
    "print(type(data['인구수']))\n",
    "data['인구수']"
   ]
  },
  {
   "cell_type": "code",
   "execution_count": null,
   "id": "17",
   "metadata": {},
   "outputs": [],
   "source": [
    "# 인구수 컬럼의 집계함수\n",
    "print(f\"인구수 최대값 {data['인구수'].max():,}\")\n",
    "print(f\"인구수 최소값 {data['인구수'].min():,}\")\n",
    "print(f\"인구수 평균 {round(data['인구수'].mean()):,}\")\n",
    "print(f\"인구수 표준편차 {round(data['인구수'].std()):,}\")\n",
    "print(f\"인구수 중간값 {data['인구수'].median():,}\")\n",
    "data['인구수'].quantile([0.25, 0.75])"
   ]
  },
  {
   "cell_type": "code",
   "execution_count": null,
   "id": "18",
   "metadata": {},
   "outputs": [],
   "source": [
    "# 인구수가 가장 많은 행정구역?\n",
    "max_prop = data['인구수'].max()\n",
    "#data['인구수'] == max_prop\n",
    "data.loc[data['인구수'] == max_prop]"
   ]
  },
  {
   "cell_type": "code",
   "execution_count": null,
   "id": "19",
   "metadata": {},
   "outputs": [],
   "source": [
    "# 인구수가 가장 적은 행정구역?\n",
    "min_prop = data['인구수'].min()\n",
    "data.loc[data['인구수'] == min_prop]"
   ]
  },
  {
   "cell_type": "code",
   "execution_count": null,
   "id": "20",
   "metadata": {},
   "outputs": [],
   "source": [
    "# unique한 광역시도명\n",
    "print(len(data['광역시도'].unique()))\n",
    "data['광역시도'].unique()"
   ]
  },
  {
   "cell_type": "code",
   "execution_count": null,
   "id": "21",
   "metadata": {},
   "outputs": [],
   "source": [
    "# 광역시도별 Row Counting\n",
    "data['광역시도'].value_counts()"
   ]
  },
  {
   "cell_type": "code",
   "execution_count": null,
   "id": "22",
   "metadata": {},
   "outputs": [],
   "source": [
    "#경기도에 속한 행정구역명, 인구수, 면적 선택하기\n",
    "#data.loc[row , col]\n",
    "gy_df=data.loc[data['광역시도'] == '경기도',['행정구역','인구수','면적']].sort_values(by='인구수',ascending=False).reset_index(drop=True)\n",
    "\n",
    "#새로운 컬럼을 생성\n",
    "gy_df['인구수2']=gy_df['인구수'].map('{:,}'.format)\n",
    "gy_df['면적2']=gy_df['면적'].map('{:.2f}'.format)\n",
    "gy_df"
   ]
  },
  {
   "cell_type": "code",
   "execution_count": null,
   "id": "23",
   "metadata": {},
   "outputs": [],
   "source": [
    "data['면적'].max()"
   ]
  },
  {
   "cell_type": "code",
   "execution_count": null,
   "id": "24",
   "metadata": {},
   "outputs": [],
   "source": [
    "data.loc[data['면적'] == data['면적'].max()]"
   ]
  },
  {
   "cell_type": "code",
   "execution_count": null,
   "id": "25",
   "metadata": {},
   "outputs": [],
   "source": [
    "# 조건과 매핑되는 새로운 DataFrame 생성\n",
    "area_1000 = data.loc[data['면적'] > 1000].copy()\n",
    "#df.loc[df['A'] > 2, 'B'] = new_val\n",
    "area_1000.loc[:,'면적2']=area_1000['면적'].map('{:,.2f}'.format)\n",
    "area_1000.sort_values(by=\"면적\",ascending=False)"
   ]
  },
  {
   "cell_type": "code",
   "execution_count": null,
   "id": "26",
   "metadata": {},
   "outputs": [],
   "source": [
    "#경기도 인구수의 평균과 표준편차\n",
    "print(f\"경기도 인구수 평균 = {gy_df['인구수'].mean()}\")\n",
    "print(f\"경기도 인구수 편차 = {gy_df['인구수'].std()}\")"
   ]
  },
  {
   "cell_type": "code",
   "execution_count": null,
   "id": "27",
   "metadata": {},
   "outputs": [],
   "source": [
    "#광역시도명을 인자로 받아서 해당 광역시에 속한 행정구역들의 인구수의 평균과 편차 구하기\n",
    "def pop_mean_std(sido_name):\n",
    "    sido_df = data.loc[data['광역시도'] == sido_name,'인구수':'행정구역']\n",
    "    print(f\"{sido_name} 인구수 평균 = {sido_df['인구수'].mean()}\")\n",
    "    print(f\"{sido_name} 인구수 편차 = {sido_df['인구수'].std()}\")"
   ]
  },
  {
   "cell_type": "code",
   "execution_count": null,
   "id": "28",
   "metadata": {},
   "outputs": [],
   "source": [
    "pop_mean_std('서울특별시')"
   ]
  },
  {
   "cell_type": "code",
   "execution_count": null,
   "id": "29",
   "metadata": {},
   "outputs": [],
   "source": [
    "pop_mean_std('강원도')"
   ]
  },
  {
   "cell_type": "code",
   "execution_count": null,
   "id": "30",
   "metadata": {},
   "outputs": [],
   "source": [
    "for sido_name in data['광역시도'].unique():\n",
    "    pop_mean_std(sido_name)"
   ]
  },
  {
   "cell_type": "markdown",
   "id": "31",
   "metadata": {},
   "source": [
    "### Data Selection \n",
    "* loc[]\n",
    "* iloc[]"
   ]
  },
  {
   "cell_type": "code",
   "execution_count": null,
   "id": "32",
   "metadata": {},
   "outputs": [],
   "source": [
    "#loc[] 사용\n",
    "#인덱스가 20 부터 25까지\n",
    "data.loc[20:25]"
   ]
  },
  {
   "cell_type": "code",
   "execution_count": null,
   "id": "33",
   "metadata": {},
   "outputs": [],
   "source": [
    "#iloc[] 사용\n",
    "#인덱스가 20 부터 25까지\n",
    "data.iloc[20:25]"
   ]
  },
  {
   "cell_type": "code",
   "execution_count": null,
   "id": "34",
   "metadata": {},
   "outputs": [],
   "source": [
    "#iloc[] 사용\n",
    "#인덱스가 20 부터 25까지 컬럼이 인구수부터 행정구역 까지\n",
    "data.iloc[20:25,1:8]"
   ]
  },
  {
   "cell_type": "code",
   "execution_count": null,
   "id": "35",
   "metadata": {},
   "outputs": [],
   "source": [
    "#loc[] 사용\n",
    "#index가 40,55,60 이고, column이 인구수,광역시도,행정구역\n",
    "data.loc[[40,55,60],['인구수','광역시도','행정구역']]"
   ]
  },
  {
   "cell_type": "code",
   "execution_count": null,
   "id": "36",
   "metadata": {},
   "outputs": [],
   "source": [
    "#인덱스가 0인 행 하나만 선택\n",
    "print(type(data.loc[0]))\n",
    "data.loc[0]"
   ]
  },
  {
   "cell_type": "code",
   "execution_count": null,
   "id": "37",
   "metadata": {},
   "outputs": [],
   "source": [
    "#열 하나만 선택\n",
    "print(type(data['면적']))\n",
    "data['면적'].head()"
   ]
  },
  {
   "cell_type": "markdown",
   "id": "38",
   "metadata": {},
   "source": [
    "### 컬럼명 변경하기, 컬럼을 인덱스 전환하기\n",
    "* rename() 함수\n",
    "  - inPlace=False (default) 원본 DataFrame객체를 변경하지 않고, 변경한 결과만 출력한다.\n",
    "  - inPlace=True 원본 DataFrame객체를 변경하고, 변경한 결과는 출력하지 않는다."
   ]
  },
  {
   "cell_type": "code",
   "execution_count": null,
   "id": "39",
   "metadata": {},
   "outputs": [],
   "source": [
    "data.columns"
   ]
  },
  {
   "cell_type": "code",
   "execution_count": null,
   "id": "40",
   "metadata": {},
   "outputs": [],
   "source": [
    "# 'Unnamed: 0' 컬럼명을 'seq' 로 변경하기\n",
    "data.rename(columns={'Unnamed: 0':'seq'}, inplace=True)"
   ]
  },
  {
   "cell_type": "code",
   "execution_count": null,
   "id": "41",
   "metadata": {},
   "outputs": [],
   "source": [
    "data.head(2)"
   ]
  },
  {
   "cell_type": "code",
   "execution_count": null,
   "id": "42",
   "metadata": {},
   "outputs": [],
   "source": [
    "# seq 컬럼을 인덱스로 변경한다\n",
    "data.set_index('seq', inplace=True)"
   ]
  },
  {
   "cell_type": "code",
   "execution_count": null,
   "id": "43",
   "metadata": {},
   "outputs": [],
   "source": [
    "data.head(2)"
   ]
  },
  {
   "cell_type": "markdown",
   "id": "44",
   "metadata": {},
   "source": [
    "### DataFrame을 Excel file로 저장하기\n",
    "* 인구수가 평균보다 작은 행정구역, 광역시도, 인구수를 선택해서 DataFrame생성하기\n",
    "* DataFrame의 to_excel() 함수 사용"
   ]
  },
  {
   "cell_type": "code",
   "execution_count": null,
   "id": "45",
   "metadata": {},
   "outputs": [],
   "source": [
    "pop_mean_value=data['인구수'].mean()\n",
    "print(pop_mean_value)\n",
    "print(round(pop_mean_value))\n",
    "print(f'{pop_mean_value:.2f}')\n",
    "\n",
    "pop_mean_lt_df = data.loc[data['인구수'] < pop_mean_value,['광역시도','행정구역','인구수']]\\\n",
    ".sort_values(by=['광역시도','인구수'],ascending=[True,False])\\\n",
    ".reset_index(drop=True)\n",
    "pop_mean_lt_df.head(3)\n",
    "#excel 파일로 저장\n",
    "pop_mean_lt_df.to_excel('data/평균인구수미만지역.xlsx')"
   ]
  },
  {
   "cell_type": "markdown",
   "id": "46",
   "metadata": {},
   "source": [
    "### GroupBy 기능 사용하기\n",
    "* 광역시도별 행정구역의 인구수 합계\n",
    "* ~별에 해당하는 컬럼명이나 컬럼값을 groupby() 함수의 인자로 전달한다. \n",
    "* Series 객체의 groupby(data['광역시도']) 함수는 컬럼의 값을 인자로 전달하고 \n",
    "* DataFrame 객체의 groupby('광역시도') 함수는 컬럼명을 인자로 전달합니다. "
   ]
  },
  {
   "cell_type": "code",
   "execution_count": null,
   "id": "47",
   "metadata": {},
   "outputs": [],
   "source": [
    "# Series 객체 사용 - 광역시도별 인구수의 합계 \n",
    "# SeriesGroupBy object\n",
    "data['인구수'].groupby(data['광역시도']).sum().sort_values(ascending=False)"
   ]
  },
  {
   "cell_type": "code",
   "execution_count": null,
   "id": "48",
   "metadata": {},
   "outputs": [],
   "source": [
    "# DataFrame 객체 사용 - 광역시도별 인구수의 합계 \n",
    "# DataFrameGroupBy object\n",
    "data.groupby('광역시도').sum(numeric_only=True)"
   ]
  },
  {
   "cell_type": "code",
   "execution_count": null,
   "id": "49",
   "metadata": {},
   "outputs": [],
   "source": [
    "data.groupby('광역시도')['인구수'].sum().sort_values(ascending=False)"
   ]
  },
  {
   "cell_type": "code",
   "execution_count": null,
   "id": "50",
   "metadata": {},
   "outputs": [],
   "source": [
    "# 광역시도별 행정구역별 인구수의 합계\n",
    "group_df = data.groupby(['광역시도','행정구역'])['인구수'].sum()\n",
    "group_df"
   ]
  },
  {
   "cell_type": "code",
   "execution_count": null,
   "id": "51",
   "metadata": {},
   "outputs": [],
   "source": [
    "group_df.to_excel('data/광역시도별행정구역별인구수의합계.xlsx', sheet_name='인구수')"
   ]
  },
  {
   "cell_type": "markdown",
   "id": "52",
   "metadata": {},
   "source": [
    "#### 엑셀 수치데이터에 콤마찍기\n",
    "* [ExcelWriter](https://pandas.pydata.org/docs/reference/api/pandas.ExcelWriter.html)"
   ]
  },
  {
   "cell_type": "code",
   "execution_count": null,
   "id": "53",
   "metadata": {},
   "outputs": [],
   "source": [
    "!pip show xlsxwriter"
   ]
  },
  {
   "cell_type": "code",
   "execution_count": null,
   "id": "54",
   "metadata": {},
   "outputs": [],
   "source": [
    "# Create a Pandas Excel writer using XlsxWriter as the engine.\n",
    "writer = pd.ExcelWriter('data/광역시도별인구수의합계1.xlsx', engine='xlsxwriter')\n",
    "\n",
    "# Convert the dataframe to an XlsxWriter Excel object.\n",
    "group_df.to_excel(writer, sheet_name='인구수합계')\n",
    "\n",
    "# Get the xlsxwriter workbook and worksheet objects.\n",
    "workbook  = writer.book\n",
    "worksheet = writer.sheets['인구수합계']\n",
    "\n",
    "# Set a currency number format for a column.\n",
    "num_format = workbook.add_format({'num_format': '#,###'})\n",
    "worksheet.set_column('C:C', None, num_format)\n",
    "\n",
    "# Close the Pandas Excel writer and output the Excel file.\n",
    "writer.close() #_save()"
   ]
  },
  {
   "cell_type": "markdown",
   "id": "55",
   "metadata": {},
   "source": [
    "#### 상관계수 (Correlation Coefficient)\n",
    "* 인구수와 면적 데이터간에 관련성이 있는지 살펴보기 위해서 상관계수 구하기\n",
    "* 상관계수 값은 -1 ~ 1 사이의 값이며, 0에 가까울 수록 관련성이 낮고, 1에 가까울 수록 관련성이 높다. \n",
    "* 음수는 반비례 (면적이 넓은 반면 인구수는 적은 경우), 양수는 비례 (면적이 넓고, 인구수도 높은 경우)\n",
    "* corr() 함수"
   ]
  },
  {
   "cell_type": "code",
   "execution_count": null,
   "id": "56",
   "metadata": {},
   "outputs": [],
   "source": [
    "#전국의 면적과 인구수의 상관계수 구하기\n",
    "data['면적'].corr(data['인구수'])"
   ]
  },
  {
   "cell_type": "code",
   "execution_count": null,
   "id": "57",
   "metadata": {},
   "outputs": [],
   "source": [
    "#서울의 면적과 인구수의 상관계수 구하기\n",
    "seoul_df = data.loc[data['광역시도'] == '서울특별시']\n",
    "seoul_df['면적'].corr(seoul_df['인구수'])"
   ]
  },
  {
   "cell_type": "code",
   "execution_count": null,
   "id": "58",
   "metadata": {},
   "outputs": [],
   "source": [
    "#경기도의 면적과 인구수의 상관계수 구하기\n",
    "#gy_df = data.loc[data['광역시도'] == '경기도']\n",
    "gy_df['면적'].corr(gy_df['인구수'])"
   ]
  },
  {
   "cell_type": "markdown",
   "id": "59",
   "metadata": {},
   "source": [
    "#### Groupby 한 DataFrame에 집계함수를 여러개 설정하기\n",
    "* agg() 함수 \n",
    "* agg(['max','mean','std'])"
   ]
  },
  {
   "cell_type": "code",
   "execution_count": null,
   "id": "60",
   "metadata": {},
   "outputs": [],
   "source": [
    "data.groupby('광역시도')['인구수'].agg(['max','mean','std','min']).fillna(0)"
   ]
  },
  {
   "cell_type": "code",
   "execution_count": null,
   "id": "61",
   "metadata": {},
   "outputs": [],
   "source": [
    "# agg() 함수 사용 - 그룹핑한 데이터를 여러개의 집계함수를 사용해서 새로운 DataFrame 객체 생성하기\n",
    "group_agg_df = data.groupby('광역시도')['인구수'].agg(['max','mean','std'])\\\n",
    ".fillna(0).sort_values(by='std',ascending=False)\n",
    "group_agg_df"
   ]
  },
  {
   "cell_type": "code",
   "execution_count": null,
   "id": "62",
   "metadata": {},
   "outputs": [],
   "source": [
    "group_agg_df.style.format('{0:.2f}')"
   ]
  },
  {
   "cell_type": "code",
   "execution_count": null,
   "id": "63",
   "metadata": {},
   "outputs": [],
   "source": [
    "# 컬럼의 값을 변경 map() 함수를 사용하여 포맷하기\n",
    "group_agg_df['mean'] = group_agg_df['mean'].map('{:.2f}'.format)\n",
    "group_agg_df['std'] = group_agg_df['std'].map('{:.2f}'.format)\n",
    "group_agg_df"
   ]
  },
  {
   "cell_type": "markdown",
   "id": "64",
   "metadata": {},
   "source": [
    "#### 시각화\n",
    "* %matplotlib inline 설정 (jupyter 에서는 show() 함수를 호출하지 않아도 plot이 출력된다)\n",
    "* 한글폰트 설정이 필요함\n",
    "* Plot에 대한 설정은 matplotlib의 함수를 사용하고, Plot을 그려주는 기능은 seaborn()의 함수를 사용합니다. "
   ]
  },
  {
   "cell_type": "code",
   "execution_count": null,
   "id": "65",
   "metadata": {},
   "outputs": [],
   "source": [
    "%matplotlib inline"
   ]
  },
  {
   "cell_type": "code",
   "execution_count": null,
   "id": "66",
   "metadata": {},
   "outputs": [],
   "source": [
    "import matplotlib\n",
    "import matplotlib.pyplot as plt\n",
    "import matplotlib.font_manager as fm\n",
    "import seaborn as sns\n",
    "\n",
    "print('matplotlib ', matplotlib.__version__)\n",
    "print('seaborn ', sns.__version__)"
   ]
  },
  {
   "cell_type": "code",
   "execution_count": null,
   "id": "67",
   "metadata": {},
   "outputs": [],
   "source": [
    "# for font in fm.fontManager.ttflist:\n",
    "#     print((font.name, font.fname))\n",
    "# 폰트이름과 폰트파일 정보 출력 list comprehension \n",
    "[ (font.name, font.fname) for font in fm.fontManager.ttflist if 'Mal' in font.name ]"
   ]
  },
  {
   "cell_type": "code",
   "execution_count": null,
   "id": "68",
   "metadata": {},
   "outputs": [],
   "source": [
    "# font name을 알고 있다면 생략가능\n",
    "#한글폰트 path 설정\n",
    "font_path = 'C:\\\\windows\\\\Fonts\\\\malgun.ttf'\n",
    "#font의 파일정보로 font name 을 알아내기\n",
    "font_prop = fm.FontProperties(fname=font_path).get_name()\n",
    "print(font_prop)"
   ]
  },
  {
   "cell_type": "code",
   "execution_count": null,
   "id": "69",
   "metadata": {},
   "outputs": [],
   "source": [
    "# matplotlib의 rc(run command) 함수를 사용해서 font name 설정\n",
    "matplotlib.rc('font', family=font_prop)"
   ]
  },
  {
   "cell_type": "markdown",
   "id": "70",
   "metadata": {},
   "source": [
    "#### Figure, Axes, Plot \n",
    "* Axes는 Plot이 실제 그려지는 공간\n",
    "* Figure는 Axes 보다 더 상위의 공간\n",
    "  : Figure을 여러개의 Axes로 분할해서 Plot를 그릴 수 있다\n",
    "* 비교) Axis는 X 축, Y축  \n",
    "* seaborn의 barplot() 함수(막대그래프) 사용 "
   ]
  },
  {
   "cell_type": "code",
   "execution_count": null,
   "id": "71",
   "metadata": {},
   "outputs": [],
   "source": [
    "seoul_df.head(3)"
   ]
  },
  {
   "cell_type": "code",
   "execution_count": null,
   "id": "72",
   "metadata": {},
   "outputs": [],
   "source": [
    "figure,(axes1, axes2) = plt.subplots(nrows=2, ncols=1)\n",
    "figure.set_size_inches(18,12)\n",
    "print(figure)\n",
    "print(axes1)\n",
    "print(axes2)\n",
    "\n",
    "sns.barplot(x='행정구역',y='인구수',data=seoul_df.sort_values(by='인구수',ascending=False),ax=axes1, hue='행정구역')\n",
    "#sns.barplot(x='행정구역',y='인구수',data=seoul_df,ax=axes1, hue='행정구역', hue_order=\"인구수\")\n",
    "sns.barplot(x='행정구역',y='면적',data=seoul_df.sort_values(by='면적',ascending=False), ax=axes2, hue='행정구역')"
   ]
  },
  {
   "cell_type": "code",
   "execution_count": null,
   "id": "73",
   "metadata": {},
   "outputs": [],
   "source": [
    "# 광역시도 이름을 인자로 받아서 인구수와 면적을 그려주는 함수\n",
    "def show_pop_area(sido_name):\n",
    "    sido_df = data.loc[data['광역시도'] == sido_name]\n",
    "    figure, (axes1,axes2) = plt.subplots(nrows=2, ncols=1)\n",
    "    figure.set_size_inches(18,12)\n",
    "    \n",
    "    pop_plot = sns.barplot(x='행정구역', y='인구수', data=sido_df.sort_values(by='인구수',ascending=False), ax=axes1,hue='행정구역')\n",
    "    pop_plot.set_title(f'{sido_name} 행정구역별 인구수')\n",
    "    area_plot = sns.barplot(x='행정구역', y='면적', data=sido_df.sort_values(by='면적',ascending=False), ax=axes2,hue='행정구역')\n",
    "    area_plot.set_title(f'{sido_name} 행정구역별 면적')"
   ]
  },
  {
   "cell_type": "code",
   "execution_count": null,
   "id": "74",
   "metadata": {},
   "outputs": [],
   "source": [
    "show_pop_area('경기도')"
   ]
  },
  {
   "cell_type": "code",
   "execution_count": null,
   "id": "75",
   "metadata": {},
   "outputs": [],
   "source": [
    "show_pop_area('부산광역시')"
   ]
  },
  {
   "cell_type": "code",
   "execution_count": null,
   "id": "76",
   "metadata": {},
   "outputs": [],
   "source": [
    "# 전국데이터의 광역시도의 인구수 \n",
    "figure, axes1 = plt.subplots(1,1)\n",
    "figure.set_size_inches(18,12)\n",
    "sns.barplot(x='광역시도', y='인구수', data=data, ax=axes1, hue='광역시도')"
   ]
  },
  {
   "cell_type": "code",
   "execution_count": null,
   "id": "77",
   "metadata": {},
   "outputs": [],
   "source": [
    "# image 파일로 저장하기\n",
    "# 바깥쪽 여백 제거\n",
    "figure.savefig('data/전국인구수.png', bbox_inches='tight')\n",
    "figure.savefig('data/전국인구수2.png')\n",
    "#plt.savefig('data/전국인구수3.png', dpi=300, bbox_inches='tight')"
   ]
  },
  {
   "cell_type": "code",
   "execution_count": null,
   "id": "78",
   "metadata": {},
   "outputs": [],
   "source": [
    "print(type(seoul_df[\"인구수\"].items()))\n",
    "seoul_df[\"인구수\"].items()"
   ]
  },
  {
   "cell_type": "code",
   "execution_count": null,
   "id": "79",
   "metadata": {},
   "outputs": [],
   "source": [
    "for v in seoul_df[\"인구수\"].items():\n",
    "    print(v, v[1])"
   ]
  },
  {
   "cell_type": "code",
   "execution_count": null,
   "id": "80",
   "metadata": {},
   "outputs": [],
   "source": [
    "figure, ax1 = plt.subplots(nrows=1, ncols=1)\n",
    "figure.set_size_inches(18,12)\n",
    "\n",
    "sns.barplot(data=seoul_df, x=\"행정구역\", y=\"인구수\", ax=ax1, hue='행정구역')\n",
    "#y축의 label값에 ,(콤마) 출력하기\n",
    "ax1.get_yaxis().set_major_formatter(plt.FuncFormatter(lambda x, loc: \"{:,}\".format(int(x))))\n",
    "\n",
    "for item in ax1.get_xticklabels(): \n",
    "    item.set_rotation(90)\n",
    "for i, v in enumerate(seoul_df[\"인구수\"].items()):\n",
    "    ax1.text(i ,v[1], \"{:,}\".format(v[1]), color='m', va ='bottom', rotation=45)\n",
    "plt.tight_layout()"
   ]
  },
  {
   "cell_type": "code",
   "execution_count": null,
   "id": "81",
   "metadata": {},
   "outputs": [],
   "source": [
    "!pip install streamlit"
   ]
  },
  {
   "cell_type": "code",
   "execution_count": null,
   "id": "82",
   "metadata": {},
   "outputs": [],
   "source": [
    "import matplotlib.pyplot as plt\n",
    "\n",
    "plt.figure(figsize=(10, 8))\n",
    "\n",
    "plt.scatter(data['x'], data['y'], s=data['인구수']/1000, alpha=0.6)\n",
    "for i, name in enumerate(data['행정구역']):\n",
    "    plt.text(data['x'][i], data['y'][i], name, fontsize=9)\n",
    "\n",
    "plt.title('지역별 인구수 분포 (상대좌표 기반)')\n",
    "plt.xlabel('x')\n",
    "plt.ylabel('y')\n",
    "plt.grid(True)\n",
    "plt.show()\n"
   ]
  },
  {
   "cell_type": "code",
   "execution_count": null,
   "id": "83",
   "metadata": {},
   "outputs": [],
   "source": [
    "import seaborn as sns\n",
    "import pandas as pd\n",
    "import numpy as np\n",
    "\n",
    "# 피벗 테이블로 좌표 기준 데이터 변환\n",
    "pivot = data.pivot(index='y', columns='x', values='인구수')\n",
    "\n",
    "plt.figure(figsize=(10, 8))\n",
    "sns.heatmap(pivot, annot=True, fmt=\".0f\", cmap='Reds')\n",
    "plt.title('지역별 인구수 Heatmap')\n",
    "plt.show()"
   ]
  },
  {
   "cell_type": "code",
   "execution_count": null,
   "id": "84",
   "metadata": {},
   "outputs": [],
   "source": [
    "import plotly.express as px\n",
    "\n",
    "fig = px.scatter(data, x='x', y='y', size='인구수', text='행정구역', title='인구수에 따른 지역 분포')\n",
    "fig.update_traces(textposition='top center')\n",
    "fig.show()\n"
   ]
  },
  {
   "cell_type": "code",
   "execution_count": null,
   "id": "85",
   "metadata": {},
   "outputs": [],
   "source": [
    "import matplotlib.pyplot as plt\n",
    "\n",
    "plt.figure(figsize=(12, 8))\n",
    "\n",
    "# 버블 크기는 인구수 기준\n",
    "plt.scatter(data['x'], data['y'], s=data['인구수']/500, alpha=0.6, color='cornflowerblue', edgecolors='black')\n",
    "\n",
    "# 지역명 표시\n",
    "for idx, row in data.iterrows():\n",
    "    plt.text(row['x'], row['y'], row['shortName'], fontsize=9, ha='center', va='center')\n",
    "\n",
    "plt.gca().invert_yaxis()  # y축 뒤집기 (지리적 느낌 살림)\n",
    "plt.xticks([])            # x축 제거\n",
    "plt.yticks([])            # y축 제거\n",
    "plt.grid(True, linestyle='--', alpha=0.5)\n",
    "plt.title('지역별 인구 분포 (Grid Map)', fontsize=15)\n",
    "plt.show()\n"
   ]
  },
  {
   "cell_type": "code",
   "execution_count": null,
   "id": "86",
   "metadata": {},
   "outputs": [],
   "source": [
    "seoul_df = data.loc[data['광역시도'] == '서울특별시']\n",
    "# 버블 크기는 인구수 기준\n",
    "plt.scatter(seoul_df['x'], seoul_df['y'], s=seoul_df['인구수']/500, alpha=0.6, color='cornflowerblue', edgecolors='black')\n",
    "\n",
    "# 지역명 표시\n",
    "for idx, row in seoul_df.iterrows():\n",
    "    plt.text(row['x'], row['y'], row['shortName'], fontsize=9, ha='center', va='center')\n",
    "\n",
    "plt.gca().invert_yaxis()  # y축 뒤집기 (지리적 느낌 살림)\n",
    "#plt.xticks([])            # x축 제거\n",
    "#plt.yticks([])            # y축 제거\n",
    "plt.grid(True, linestyle='--', alpha=0.5)\n",
    "plt.title('지역별 인구 분포 (Grid Map)', fontsize=15)\n",
    "plt.show()"
   ]
  }
 ],
 "metadata": {
  "kernelspec": {
   "display_name": "base",
   "language": "python",
   "name": "python3"
  },
  "language_info": {
   "codemirror_mode": {
    "name": "ipython",
    "version": 3
   },
   "file_extension": ".py",
   "mimetype": "text/x-python",
   "name": "python",
   "nbconvert_exporter": "python",
   "pygments_lexer": "ipython3",
   "version": "3.12.7"
  }
 },
 "nbformat": 4,
 "nbformat_minor": 5
}
