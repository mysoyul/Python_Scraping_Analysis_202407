{
 "cells": [
  {
   "cell_type": "code",
   "execution_count": null,
   "id": "3e6c5fe1",
   "metadata": {},
   "outputs": [],
   "source": [
    "print('no meta')"
   ]
  }
 ],
 "metadata": {
  "language_info": {
   "name": "python"
  }
 },
 "nbformat": 4,
 "nbformat_minor": 5
}
